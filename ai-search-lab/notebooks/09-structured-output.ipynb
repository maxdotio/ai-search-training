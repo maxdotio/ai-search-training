{
 "cells": [
  {
   "cell_type": "markdown",
   "id": "f3d8ce0f-bcdb-43fe-b20e-e6ef4c0534c2",
   "metadata": {},
   "source": [
    "# Lab 9 - Structured Output - GPT-4o-mini"
   ]
  },
  {
   "cell_type": "code",
   "execution_count": null,
   "id": "33b42562-c0ad-4c2d-8673-1a71f67bec63",
   "metadata": {},
   "outputs": [],
   "source": [
    "from tqdm.notebook import tqdm\n",
    "from datetime import datetime\n",
    "from IPython.display import display, HTML\n",
    "import numpy as np\n",
    "import pickle\n",
    "import openai\n",
    "import json\n",
    "\n",
    "#Don't include keys like this, use ENV vars!\n",
    "with open('config.json') as fd:\n",
    "    conf = json.loads(fd.read())\n",
    "    gpt = openai.OpenAI(api_key=conf[\"openai_key\"])"
   ]
  },
  {
   "cell_type": "code",
   "execution_count": null,
   "id": "5d6117b0-58f6-4091-b78e-22959239ff99",
   "metadata": {},
   "outputs": [],
   "source": [
    "def complete_function(prompt,function):\n",
    "    resp = gpt.chat.completions.create(\n",
    "        messages=[\n",
    "            {\n",
    "                \"role\": \"system\",\n",
    "                \"content\": \"You are a helpful assistant in charge of routing tasks based on a user query.\",\n",
    "            },\n",
    "            {\n",
    "                \"role\": \"user\",\n",
    "                \"content\": prompt,\n",
    "            }\n",
    "        ],\n",
    "        model=\"gpt-4o-mini\",\n",
    "        temperature=0,\n",
    "        tools=[\n",
    "            {\n",
    "                \"type\": \"function\",\n",
    "                \"function\": function\n",
    "            }\n",
    "        ]\n",
    "    )\n",
    "    \n",
    "    try:\n",
    "        #Parse the JSON response\n",
    "        content = resp.choices[0]\n",
    "        tool_call = content.message.tool_calls[0]\n",
    "        arguments_str = tool_call.function.arguments\n",
    "        return json.loads(arguments_str)\n",
    "\n",
    "    except (AttributeError, IndexError, TypeError, json.JSONDecodeError) as e:\n",
    "        print(e)\n",
    "\n",
    "    #Fallback to returning None if there was an error\n",
    "    return None"
   ]
  },
  {
   "cell_type": "code",
   "execution_count": null,
   "id": "a46b8d5b-64e6-4d92-8a9a-af5c1ff81c7f",
   "metadata": {},
   "outputs": [],
   "source": [
    "def get_classification_prompt(query):\n",
    "    return f\"\"\"#Instructions\n",
    "\n",
    "For an event management SaaS product, natural language queries need to be classified and routed to the appropriate branch. Classify the following user query:\"\n",
    "    \n",
    "{query}\"\"\""
   ]
  },
  {
   "cell_type": "code",
   "execution_count": null,
   "id": "79f5c97b-3df3-4a0c-a63e-e242b795a476",
   "metadata": {},
   "outputs": [],
   "source": [
    "def get_classification_function():\n",
    "    return {\n",
    "        \"name\": \"task_type\",\n",
    "        \"description\": \"Classify the task based on the user query.\",\n",
    "        \"strict\": True,\n",
    "        \"parameters\": {\n",
    "          \"type\": \"object\",\n",
    "          \"properties\": {\n",
    "            \"task_type\": {\n",
    "              \"type\": \"string\",\n",
    "              \"enum\": [\"create_event\",\"list_events\",\"create_attendee\",\"list_attendees\",\"other\"]\n",
    "            }\n",
    "          },\n",
    "          \"required\":[\"task_type\"],\n",
    "          \"additionalProperties\":False\n",
    "        }\n",
    "    }"
   ]
  },
  {
   "cell_type": "code",
   "execution_count": null,
   "id": "245ffde9-46ce-424f-9f48-04d937e8d5ae",
   "metadata": {},
   "outputs": [],
   "source": [
    "def classify(query):\n",
    "    prompt = get_classification_prompt(query)\n",
    "    function = get_classification_function()\n",
    "    classification = complete_function(prompt,function)\n",
    "    if classification:\n",
    "        print(f\"\"\"{query} => {classification['task_type']}\"\"\")\n",
    "    return classification"
   ]
  },
  {
   "cell_type": "code",
   "execution_count": null,
   "id": "08c57f9f-4819-4958-8634-c15fa0bb5520",
   "metadata": {},
   "outputs": [],
   "source": [
    "c = classify(\"What events are coming up?\")\n",
    "c = classify(\"Book the Ellison Lodge A for December 4th\")\n",
    "c = classify(\"Jane Doe is coming to the party on 12/4\")\n",
    "c = classify(\"Pencil in highland park gazebo for june 11th\")\n",
    "c = classify(\"Leah, Alice, and Fred are all coming on june 11th\")\n",
    "c = classify(\"Who is coming in June?\")\n",
    "c = classify(\"What spaces are available?\")"
   ]
  },
  {
   "cell_type": "code",
   "execution_count": null,
   "id": "1f687a15-a204-41a7-8b99-358f0121cb2e",
   "metadata": {},
   "outputs": [],
   "source": []
  }
 ],
 "metadata": {
  "kernelspec": {
   "display_name": "Python 3 (ipykernel)",
   "language": "python",
   "name": "python3"
  },
  "language_info": {
   "codemirror_mode": {
    "name": "ipython",
    "version": 3
   },
   "file_extension": ".py",
   "mimetype": "text/x-python",
   "name": "python",
   "nbconvert_exporter": "python",
   "pygments_lexer": "ipython3",
   "version": "3.11.5"
  }
 },
 "nbformat": 4,
 "nbformat_minor": 5
}
