{
 "cells": [
  {
   "cell_type": "markdown",
   "id": "f3d8ce0f-bcdb-43fe-b20e-e6ef4c0534c2",
   "metadata": {},
   "source": [
    "# Lab 8 - Chain-of-Thought OpenAI GPT-4o-mini"
   ]
  },
  {
   "cell_type": "code",
   "execution_count": null,
   "id": "33b42562-c0ad-4c2d-8673-1a71f67bec63",
   "metadata": {},
   "outputs": [],
   "source": [
    "from tqdm.notebook import tqdm\n",
    "from datetime import datetime\n",
    "from IPython.display import display, HTML\n",
    "import numpy as np\n",
    "import pickle\n",
    "import openai\n",
    "import json\n",
    "\n",
    "#Don't include keys like this, use ENV vars!\n",
    "with open('config.json') as fd:\n",
    "    conf = json.loads(fd.read())\n",
    "    gpt = openai.OpenAI(api_key=conf[\"openai_key\"])"
   ]
  },
  {
   "cell_type": "code",
   "execution_count": null,
   "id": "5d6117b0-58f6-4091-b78e-22959239ff99",
   "metadata": {},
   "outputs": [],
   "source": [
    "def complete(prompt):\n",
    "    resp = gpt.chat.completions.create(\n",
    "        messages=[\n",
    "            {\n",
    "                \"role\": \"user\",\n",
    "                \"content\": prompt,\n",
    "            }\n",
    "        ],\n",
    "        model=\"gpt-4o-mini\",\n",
    "        temperature=0\n",
    "    )\n",
    "\n",
    "    content = resp.choices[0].message.content    \n",
    "    return content"
   ]
  },
  {
   "cell_type": "code",
   "execution_count": null,
   "id": "a46b8d5b-64e6-4d92-8a9a-af5c1ff81c7f",
   "metadata": {},
   "outputs": [],
   "source": [
    "def get_steps_prompt(query):\n",
    "    return f\"\"\"{query}\n",
    "\n",
    "Before answering, think step-by-step.\"\"\""
   ]
  },
  {
   "cell_type": "code",
   "execution_count": null,
   "id": "79f5c97b-3df3-4a0c-a63e-e242b795a476",
   "metadata": {},
   "outputs": [],
   "source": [
    "def get_answer_prompt(query,steps):\n",
    "    return f\"\"\"{query}\n",
    "\n",
    "{steps}\n",
    "\n",
    "ANSWER:\"\"\""
   ]
  },
  {
   "cell_type": "code",
   "execution_count": null,
   "id": "245ffde9-46ce-424f-9f48-04d937e8d5ae",
   "metadata": {},
   "outputs": [],
   "source": [
    "def answer(query):\n",
    "\n",
    "    #Get the first prompt, including the step-by-step instruction\n",
    "    prompt_1 = get_steps_prompt(query)\n",
    "    \n",
    "    #We get the chain-of-thought steps response back from GPT.\n",
    "    print(\"Thinking...\")\n",
    "    steps = complete(prompt_1)\n",
    "    print(\"Steps generated\")\n",
    "    \n",
    "    #Get the answer portion of the chain-of-thought-prompt\n",
    "    print(\"Thinking...\")\n",
    "    prompt_2 = get_answer_prompt(query,steps)\n",
    "    print(\"Answer extracted\")\n",
    "\n",
    "    response = complete(prompt_2)\n",
    "    print(response)\n",
    "    \n",
    "    return response"
   ]
  },
  {
   "cell_type": "code",
   "execution_count": null,
   "id": "08c57f9f-4819-4958-8634-c15fa0bb5520",
   "metadata": {},
   "outputs": [],
   "source": [
    "#Ask a question\n",
    "answer(\"Alice and Bob go to a hotel with 255 rooms. Bob sleeps in one of the rooms and Alice sleeps in another. How many vacant rooms are available?\")"
   ]
  },
  {
   "cell_type": "code",
   "execution_count": null,
   "id": "1f687a15-a204-41a7-8b99-358f0121cb2e",
   "metadata": {},
   "outputs": [],
   "source": []
  }
 ],
 "metadata": {
  "kernelspec": {
   "display_name": "Python 3 (ipykernel)",
   "language": "python",
   "name": "python3"
  },
  "language_info": {
   "codemirror_mode": {
    "name": "ipython",
    "version": 3
   },
   "file_extension": ".py",
   "mimetype": "text/x-python",
   "name": "python",
   "nbconvert_exporter": "python",
   "pygments_lexer": "ipython3",
   "version": "3.11.5"
  }
 },
 "nbformat": 4,
 "nbformat_minor": 5
}
