{
 "cells": [
  {
   "cell_type": "code",
   "execution_count": 1,
   "id": "3bdbcf12-3f6c-40d7-ac06-0e15cca3a9a9",
   "metadata": {
    "scrolled": true
   },
   "outputs": [],
   "source": [
    "#!pip install spacy\n",
    "#!python -m spacy download en_core_web_sm\n",
    "#!python -m spacy download en_core_web_lg\n",
    "#!pip install openai\n",
    "#!pip install tiktoken\n",
    "#!pip install pandas\n",
    "#!pip install tqdm"
   ]
  },
  {
   "cell_type": "markdown",
   "id": "e57a75bc-63c0-4ef1-bb7c-e487fc111c76",
   "metadata": {},
   "source": [
    "## Function Calling with Azure OpenAI to extract organization names from documents\n",
    "\n",
    "_See more function calling examples from https://github.com/Azure-Samples/openai/blob/main/Basic_Samples/Functions/working_with_functions.ipynb_"
   ]
  },
  {
   "cell_type": "code",
   "execution_count": 1,
   "id": "5cd5fb7f-5d48-48e6-ac73-9680ed86ced0",
   "metadata": {},
   "outputs": [],
   "source": [
    "import os\n",
    "import openai\n",
    "import spacy\n",
    "import tiktoken\n",
    "import json\n",
    "import re\n",
    "import pandas as pd\n",
    "\n",
    "from spacy.tokens import Span\n",
    "from tqdm.notebook import tqdm\n",
    "\n",
    "#Caching function responses lets us iterate without re-calling expensive operations\n",
    "import functools\n",
    "\n",
    "#Count tokens to see how expensive a call is\n",
    "enc = tiktoken.encoding_for_model(\"gpt-3.5-turbo\") \n",
    "\n",
    "#We load small and large models, to test concensus with OpenAI\n",
    "nlpsm = spacy.load('en_core_web_sm') \n",
    "nlplg = spacy.load('en_core_web_lg')\n",
    "\n",
    "#Don't include keys like this, use ENV vars!\n",
    "#openai.api_key = os.getenv(\"AZURE_OPENAI_KEY\")\n",
    "#openai.api_base = os.getenv(\"AZURE_OPENAI_ENDPOINT\")\n",
    "with open('config.json') as fd:\n",
    "    conf = json.loads(fd.read())\n",
    "    openai.api_key = conf[\"api_key\"]\n",
    "    openai.api_base = conf[\"api_base\"]\n",
    "    openai.api_version = \"2023-07-01-preview\"\n",
    "    openai.api_type = \"azure\""
   ]
  },
  {
   "cell_type": "code",
   "execution_count": 2,
   "id": "c6b9fb7f-2d10-4a6a-a247-3fc7e243a1d3",
   "metadata": {},
   "outputs": [],
   "source": [
    "def extract_organization_entities(organization):\n",
    "    pass\n",
    "    return []\n",
    "\n",
    "@functools.cache\n",
    "def get_gpt_completion(context):\n",
    "    messages= [{\"role\": \"user\", \"content\": context}]\n",
    "    functions= [\n",
    "        {\n",
    "            \"name\": \"extract_organization_entities\",\n",
    "            \"description\": \"Extracts all the Organization (ORG) named entities from the context.\",\n",
    "            \"parameters\": { \n",
    "                \"type\": \"object\",\n",
    "                \"properties\": { #Follows JSON Schema conventions: https://json-schema.org/understanding-json-schema/\n",
    "                    \"organization\": {\n",
    "                        \"type\": \"array\",\n",
    "                        \"items\": {\n",
    "                            \"type\": \"string\"\n",
    "                        },\n",
    "                        \"description\": \"The organization entity names\"\n",
    "                    }\n",
    "                },\n",
    "                \"required\": [\"organization\"]\n",
    "            }\n",
    "        }\n",
    "    ]  \n",
    "    \n",
    "    response = openai.ChatCompletion.create(\n",
    "        engine=\"gpt-35-turbo-4k\",\n",
    "        temperature=0.0,\n",
    "        messages=messages,\n",
    "        functions=functions,\n",
    "        function_call=\"auto\", \n",
    "    )\n",
    "    \n",
    "    return response"
   ]
  },
  {
   "cell_type": "code",
   "execution_count": 11,
   "id": "89a13ab8-0eff-4e95-801b-6513eafb297a",
   "metadata": {},
   "outputs": [],
   "source": [
    "def extract_organizations(context):\n",
    "    response = get_gpt_completion(context)\n",
    "\n",
    "    if response:\n",
    "        #print('OPENAI RESPONSE:',response)\n",
    "        response_message=response['choices'][0]['message']\n",
    "    \n",
    "        # Check if the model wants to call a function\n",
    "        if response_message.get(\"function_call\"):\n",
    "        \n",
    "            # Call the function. The JSON response may not always be valid so make sure to handle errors\n",
    "            function_name = response_message[\"function_call\"][\"name\"]\n",
    "            if(function_name==\"extract_organization_entities\") :\n",
    "                function_args = json.loads(response_message[\"function_call\"][\"arguments\"])\n",
    "                return function_args"
   ]
  },
  {
   "cell_type": "code",
   "execution_count": 4,
   "id": "9f8b36ed-73fe-4898-938b-a99c36a1f306",
   "metadata": {},
   "outputs": [
    {
     "data": {
      "text/html": [
       "<div>\n",
       "<style scoped>\n",
       "    .dataframe tbody tr th:only-of-type {\n",
       "        vertical-align: middle;\n",
       "    }\n",
       "\n",
       "    .dataframe tbody tr th {\n",
       "        vertical-align: top;\n",
       "    }\n",
       "\n",
       "    .dataframe thead th {\n",
       "        text-align: right;\n",
       "    }\n",
       "</style>\n",
       "<table border=\"1\" class=\"dataframe\">\n",
       "  <thead>\n",
       "    <tr style=\"text-align: right;\">\n",
       "      <th></th>\n",
       "      <th>id</th>\n",
       "      <th>question</th>\n",
       "      <th>context</th>\n",
       "      <th>gold</th>\n",
       "    </tr>\n",
       "  </thead>\n",
       "  <tbody>\n",
       "    <tr>\n",
       "      <th>0</th>\n",
       "      <td>1</td>\n",
       "      <td>who are the parties?</td>\n",
       "      <td>EX-99.E.3 4 dex99e3.htm NON-DISCLOSURE AGREEME...</td>\n",
       "      <td>[\"3M Company\",\"Cogent\"]</td>\n",
       "    </tr>\n",
       "    <tr>\n",
       "      <th>1</th>\n",
       "      <td>2</td>\n",
       "      <td>who are the parties?</td>\n",
       "      <td>Non-Disclosure Agreement\\nDate: 2019-03-14\\nPa...</td>\n",
       "      <td>[\"Costa, Inc\", \"Costa Coffee Company\", Harry's...</td>\n",
       "    </tr>\n",
       "  </tbody>\n",
       "</table>\n",
       "</div>"
      ],
      "text/plain": [
       "   id              question  \\\n",
       "0   1  who are the parties?   \n",
       "1   2  who are the parties?   \n",
       "\n",
       "                                             context  \\\n",
       "0  EX-99.E.3 4 dex99e3.htm NON-DISCLOSURE AGREEME...   \n",
       "1  Non-Disclosure Agreement\\nDate: 2019-03-14\\nPa...   \n",
       "\n",
       "                                                gold  \n",
       "0                            [\"3M Company\",\"Cogent\"]  \n",
       "1  [\"Costa, Inc\", \"Costa Coffee Company\", Harry's...  "
      ]
     },
     "execution_count": 4,
     "metadata": {},
     "output_type": "execute_result"
    }
   ],
   "source": [
    "xlsx = pd.ExcelFile('data/organization_gold_labels.xlsx')\n",
    "df = xlsx.parse(xlsx.sheet_names[0])\n",
    "df"
   ]
  },
  {
   "cell_type": "code",
   "execution_count": 5,
   "id": "b6bb6067-dbb3-46dd-b677-cd379e8e50a8",
   "metadata": {},
   "outputs": [
    {
     "data": {
      "text/plain": [
       "12"
      ]
     },
     "execution_count": 5,
     "metadata": {},
     "output_type": "execute_result"
    }
   ],
   "source": [
    "def count_tokens(context):\n",
    "    enc.encode(context)\n",
    "    return len(context)\n",
    "count_tokens('hello world!')"
   ]
  },
  {
   "cell_type": "code",
   "execution_count": 12,
   "id": "e8f473e4-e60f-4285-b9c1-662d1a87bbb2",
   "metadata": {
    "scrolled": true
   },
   "outputs": [
    {
     "data": {
      "application/vnd.jupyter.widget-view+json": {
       "model_id": "52719c80f82049d68ff13eecf0c19444",
       "version_major": 2,
       "version_minor": 0
      },
      "text/plain": [
       "  0%|          | 0/2 [00:00<?, ?it/s]"
      ]
     },
     "metadata": {},
     "output_type": "display_data"
    },
    {
     "name": "stdout",
     "output_type": "stream",
     "text": [
      "GPT response: {'organization': ['3M Company', 'Cogent, Inc.']}\n",
      "Offsets: [{'PARTY': '3M Company', 'start': 168, 'end': 178}, {'PARTY': 'Cogent, Inc.', 'start': 226, 'end': 238}]\n",
      "GPT response: {'organization': ['Costa, Inc', 'Costa Coffee Company', \"Harry's Music Ltd.\"]}\n",
      "Offsets: [{'PARTY': 'Costa, Inc', 'start': 51, 'end': 61}, {'PARTY': 'Costa Coffee Company', 'start': 102, 'end': 122}, {'PARTY': \"Harry's Music Ltd.\", 'start': 322, 'end': 340}]\n"
     ]
    }
   ],
   "source": [
    "def sync_offsets(context,organizations):\n",
    "    offsets = []\n",
    "    for org in organizations:\n",
    "        matches = [{\"PARTY\":org,\"start\":m.start(),\"end\":m.end()} for m in re.finditer(org, context, re.IGNORECASE)]\n",
    "        if not matches or len(matches)==0:\n",
    "            print(f'No match found for \"{org}\" in context')\n",
    "            offsets.append({\"PARTY\":org,\"error\":\"not found\"})\n",
    "        else:\n",
    "            offsets = offsets + matches\n",
    "    return offsets\n",
    "\n",
    "\n",
    "context_offset_tuples = [] #We will use tuples with nlp.pipe later https://spacy.io/api/language#pipe\n",
    "for idx,row in tqdm(df.iterrows(),total=len(df)):\n",
    "    context = row['context']\n",
    "    token_count = count_tokens(context)\n",
    "    function_args = extract_organizations(context)\n",
    "    print('GPT response:',function_args)\n",
    "    if function_args['organization']:\n",
    "        gpt_orgs = function_args['organization']\n",
    "        offsets = sync_offsets(context,gpt_orgs)\n",
    "        print('Offsets:',offsets)\n",
    "        context_offset_tuples.append((context,offsets))"
   ]
  },
  {
   "cell_type": "code",
   "execution_count": 15,
   "id": "f30ff859-35bc-4b2a-a9fd-4a1eb6e421d1",
   "metadata": {},
   "outputs": [
    {
     "data": {
      "application/vnd.jupyter.widget-view+json": {
       "model_id": "03d61ae62e8f4483a734034b237b42de",
       "version_major": 2,
       "version_minor": 0
      },
      "text/plain": [
       "  0%|          | 0/2 [00:00<?, ?it/s]"
      ]
     },
     "metadata": {},
     "output_type": "display_data"
    },
    {
     "name": "stdout",
     "output_type": "stream",
     "text": [
      "TRUE: '3M Company', start:31, end:34\n",
      "TRUE: 'Cogent, Inc.', start:47, end:50\n",
      "FALSE: 'the Interested Party', start:93, end:96\n",
      "FALSE: 'Representatives', start:98, end:99\n",
      "FALSE: 'the Proposed Transaction', start:118, end:121\n",
      "TRUE: 'Costa, Inc', start:16, end:19\n",
      "TRUE: 'Costa Coffee Company', start:31, end:34\n",
      "TRUE: 'Harry's Music Ltd.', start:77, end:81\n",
      "FALSE: 'Non-Disclosure Agreement\n",
      "Date', start:0, end:6\n"
     ]
    }
   ],
   "source": [
    "def get_spacy_true_positives(doc, original_entities):\n",
    "    ents = []\n",
    "    for entity in original_entities:\n",
    "        start_char = entity['start']\n",
    "        end_char = entity['end']\n",
    "        label = entity['PARTY']\n",
    "        start_token = None\n",
    "        end_token = None\n",
    "        for token in doc:\n",
    "            if token.idx == start_char:\n",
    "                start_token = token.i\n",
    "            if token.idx + len(token.text) == end_char:\n",
    "                end_token = token.i + 1\n",
    "\n",
    "        if start_token is not None and end_token is not None:\n",
    "            ents.append(Span(doc, start_token, end_token, label=label))\n",
    "    return ents\n",
    "\n",
    "def get_spacy_false_positives(doc,true_positives):\n",
    "    false_positives = []\n",
    "    true_ent_ranges = [(ent.start, ent.end) for ent in true_positives]\n",
    "    for ent in doc.ents:\n",
    "        if ent.label_ == 'ORG':\n",
    "            if (ent.start, ent.end) not in true_ent_ranges:\n",
    "                false_positives.append(ent)\n",
    "\n",
    "    return false_positives\n",
    "\n",
    "#For every context, convert it to a doc and to spaCy NER on it.\n",
    "#If an entity is identified as an ORG (spaCy) that is not a PARTY (from GPT), be sure to exclude it\n",
    "for doc,orgs in tqdm(nlpsm.pipe(context_offset_tuples,as_tuples=True),total=len(context_offset_tuples)):\n",
    "    spacy_true_positives= get_spacy_true_positives(doc, orgs)\n",
    "    spacy_false_positives = get_spacy_false_positives(doc,spacy_true_positives)\n",
    "    for ent in spacy_true_positives:\n",
    "        print(f\"TRUE: '{ent}', start:{ent.start}, end:{ent.end}\")\n",
    "    for ent in spacy_false_positives:\n",
    "        print(f\"FALSE: '{ent}', start:{ent.start}, end:{ent.end}\")"
   ]
  },
  {
   "cell_type": "code",
   "execution_count": null,
   "id": "bb01063e-d09e-4f7b-b6a2-02c37d900ac6",
   "metadata": {},
   "outputs": [],
   "source": []
  }
 ],
 "metadata": {
  "kernelspec": {
   "display_name": "Python 3 (ipykernel)",
   "language": "python",
   "name": "python3"
  },
  "language_info": {
   "codemirror_mode": {
    "name": "ipython",
    "version": 3
   },
   "file_extension": ".py",
   "mimetype": "text/x-python",
   "name": "python",
   "nbconvert_exporter": "python",
   "pygments_lexer": "ipython3",
   "version": "3.11.5"
  }
 },
 "nbformat": 4,
 "nbformat_minor": 5
}
