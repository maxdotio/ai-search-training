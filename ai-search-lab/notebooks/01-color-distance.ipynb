{
 "cells": [
  {
   "cell_type": "markdown",
   "id": "eff836ba",
   "metadata": {},
   "source": [
    "# Chapter 01 - Introduction to Vector Search\n",
    "\n",
    "The listings in this notebook are for the RGB color similarity exercises"
   ]
  },
  {
   "cell_type": "code",
   "execution_count": 1,
   "id": "2485200f",
   "metadata": {},
   "outputs": [],
   "source": [
    "import json\n",
    "import math\n",
    "from IPython.display import display, HTML"
   ]
  },
  {
   "cell_type": "code",
   "execution_count": 2,
   "id": "d8eaa7fc",
   "metadata": {},
   "outputs": [],
   "source": [
    "def show_colors(colors,annotate=False):\n",
    "    html = []\n",
    "    for color in colors:\n",
    "        result = color[\"payload\"] if \"payload\" in color else color[\"result\"]\n",
    "        score = f'<br/><em style=\"font-size:0.88em;\">{color[\"distance\"]}</em>' if \"distance\" in color else \"\"\n",
    "        anno = color[\"vector\"] if annotate else \"&nbsp;\"\n",
    "        html.append(f'''\n",
    "            <div style=\"float:left;margin:10px;\">\n",
    "                <strong>{result[\"name\"]}</strong>{score}\n",
    "                <div style=\"width:120px;height:120px;text-align:center;padding-top:50px;background-color:{result[\"hex\"]}\">{anno}</div>\n",
    "            </div>''')\n",
    "    display(HTML('\\n'.join(html)))\n",
    "\n",
    "def show_color(result):\n",
    "    display(HTML(f'<h3>{result[\"name\"]}</h3><div style=\"width:120px;height:120px;background-color:{result[\"hex\"]}\">&nbsp;</div>'))"
   ]
  },
  {
   "cell_type": "markdown",
   "id": "77b071e9",
   "metadata": {},
   "source": [
    "# Listing 1.1\n",
    "Load the color vector documents"
   ]
  },
  {
   "cell_type": "code",
   "execution_count": 3,
   "id": "f79c4b51",
   "metadata": {},
   "outputs": [
    {
     "data": {
      "text/plain": [
       "[{'vector': [201, 63, 56],\n",
       "  'payload': {'hex': '#C93F38', 'name': '100 Mph', 'brand': 'BEHR'},\n",
       "  'id': 0},\n",
       " {'vector': [209, 114, 37],\n",
       "  'payload': {'hex': '#D17225',\n",
       "   'name': '14 Carrots',\n",
       "   'brand': 'Benjamin Moore'},\n",
       "  'id': 1},\n",
       " {'vector': [139, 196, 224],\n",
       "  'payload': {'hex': '#8BC4E0',\n",
       "   'name': '21st Century Blue',\n",
       "   'brand': 'Valspar'},\n",
       "  'id': 2}]"
      ]
     },
     "execution_count": 3,
     "metadata": {},
     "output_type": "execute_result"
    }
   ],
   "source": [
    "with open('color_vectors.json') as fd:\n",
    "    vectors = json.load(fd)\n",
    "vectors[0:3]"
   ]
  },
  {
   "cell_type": "markdown",
   "id": "5e82d2fb",
   "metadata": {},
   "source": [
    "# Listing 1.2\n",
    "Show the first 12 alphabetically ordered colors"
   ]
  },
  {
   "cell_type": "code",
   "execution_count": 4,
   "id": "6bb2d51c",
   "metadata": {},
   "outputs": [
    {
     "data": {
      "text/html": [
       "\n",
       "            <div style=\"float:left;margin:10px;\">\n",
       "                <strong>100 Mph</strong>\n",
       "                <div style=\"width:120px;height:120px;text-align:center;padding-top:50px;background-color:#C93F38\">&nbsp;</div>\n",
       "            </div>\n",
       "\n",
       "            <div style=\"float:left;margin:10px;\">\n",
       "                <strong>14 Carrots</strong>\n",
       "                <div style=\"width:120px;height:120px;text-align:center;padding-top:50px;background-color:#D17225\">&nbsp;</div>\n",
       "            </div>\n",
       "\n",
       "            <div style=\"float:left;margin:10px;\">\n",
       "                <strong>21st Century Blue</strong>\n",
       "                <div style=\"width:120px;height:120px;text-align:center;padding-top:50px;background-color:#8BC4E0\">&nbsp;</div>\n",
       "            </div>\n",
       "\n",
       "            <div style=\"float:left;margin:10px;\">\n",
       "                <strong>24 Karat</strong>\n",
       "                <div style=\"width:120px;height:120px;text-align:center;padding-top:50px;background-color:#AB7F46\">&nbsp;</div>\n",
       "            </div>\n",
       "\n",
       "            <div style=\"float:left;margin:10px;\">\n",
       "                <strong>24 Karats</strong>\n",
       "                <div style=\"width:120px;height:120px;text-align:center;padding-top:50px;background-color:#DFC686\">&nbsp;</div>\n",
       "            </div>\n",
       "\n",
       "            <div style=\"float:left;margin:10px;\">\n",
       "                <strong>3-Olive Martini</strong>\n",
       "                <div style=\"width:120px;height:120px;text-align:center;padding-top:50px;background-color:#AFA26A\">&nbsp;</div>\n",
       "            </div>\n",
       "\n",
       "            <div style=\"float:left;margin:10px;\">\n",
       "                <strong>50's Pink</strong>\n",
       "                <div style=\"width:120px;height:120px;text-align:center;padding-top:50px;background-color:#FBE3EA\">&nbsp;</div>\n",
       "            </div>\n",
       "\n",
       "            <div style=\"float:left;margin:10px;\">\n",
       "                <strong>A La Mode</strong>\n",
       "                <div style=\"width:120px;height:120px;text-align:center;padding-top:50px;background-color:#F6ECDE\">&nbsp;</div>\n",
       "            </div>\n",
       "\n",
       "            <div style=\"float:left;margin:10px;\">\n",
       "                <strong>A La Mode</strong>\n",
       "                <div style=\"width:120px;height:120px;text-align:center;padding-top:50px;background-color:#E6E2DE\">&nbsp;</div>\n",
       "            </div>\n",
       "\n",
       "            <div style=\"float:left;margin:10px;\">\n",
       "                <strong>A Plum Job</strong>\n",
       "                <div style=\"width:120px;height:120px;text-align:center;padding-top:50px;background-color:#B987A7\">&nbsp;</div>\n",
       "            </div>\n",
       "\n",
       "            <div style=\"float:left;margin:10px;\">\n",
       "                <strong>A True Antique</strong>\n",
       "                <div style=\"width:120px;height:120px;text-align:center;padding-top:50px;background-color:#F4E4C5\">&nbsp;</div>\n",
       "            </div>\n",
       "\n",
       "            <div style=\"float:left;margin:10px;\">\n",
       "                <strong>A-List Blue</strong>\n",
       "                <div style=\"width:120px;height:120px;text-align:center;padding-top:50px;background-color:#AFC2C9\">&nbsp;</div>\n",
       "            </div>"
      ],
      "text/plain": [
       "<IPython.core.display.HTML object>"
      ]
     },
     "metadata": {},
     "output_type": "display_data"
    }
   ],
   "source": [
    "show_colors(vectors[:12])"
   ]
  },
  {
   "cell_type": "markdown",
   "id": "f17a48bc",
   "metadata": {},
   "source": [
    "# Listing 1.3\n",
    "Euclidean distance between two embeddings, each with three dimensions"
   ]
  },
  {
   "cell_type": "code",
   "execution_count": 5,
   "id": "eae39148",
   "metadata": {},
   "outputs": [],
   "source": [
    "def euclidean_distance_3d(a,b):\n",
    "    dist = float(pow(a[0]-b[0],2) + pow(a[1]-b[1],2) + pow(a[2]-b[2],2))\n",
    "    norm = math.sqrt(dist) if dist>0.0 else 0\n",
    "    return norm"
   ]
  },
  {
   "cell_type": "markdown",
   "id": "d6de976a",
   "metadata": {},
   "source": [
    "# Listing 1.4\n",
    "The distance between color id=0 and color id=1"
   ]
  },
  {
   "cell_type": "code",
   "execution_count": 6,
   "id": "4a12f795",
   "metadata": {},
   "outputs": [
    {
     "data": {
      "text/plain": [
       "55.00909015790027"
      ]
     },
     "execution_count": 6,
     "metadata": {},
     "output_type": "execute_result"
    }
   ],
   "source": [
    "euclidean_distance_3d(vectors[0][\"vector\"],vectors[1][\"vector\"])"
   ]
  },
  {
   "cell_type": "code",
   "execution_count": 7,
   "id": "a45cab42",
   "metadata": {},
   "outputs": [
    {
     "data": {
      "text/plain": [
       "223.06277143441037"
      ]
     },
     "execution_count": 7,
     "metadata": {},
     "output_type": "execute_result"
    }
   ],
   "source": [
    "euclidean_distance_3d(vectors[0][\"vector\"],vectors[2][\"vector\"])"
   ]
  },
  {
   "cell_type": "code",
   "execution_count": 8,
   "id": "a7bd420e",
   "metadata": {},
   "outputs": [
    {
     "data": {
      "text/plain": [
       "72.05553413860729"
      ]
     },
     "execution_count": 8,
     "metadata": {},
     "output_type": "execute_result"
    }
   ],
   "source": [
    "euclidean_distance_3d(vectors[0][\"vector\"],vectors[3][\"vector\"])"
   ]
  },
  {
   "cell_type": "markdown",
   "id": "1f775733",
   "metadata": {},
   "source": [
    "# Listing 1.5\n",
    "Get the top 'k' nearest colors given an embedding 'a'"
   ]
  },
  {
   "cell_type": "code",
   "execution_count": 9,
   "id": "a3b2d357",
   "metadata": {},
   "outputs": [],
   "source": [
    "def nearest_euclidean_3d(a,k=3):\n",
    "    distances = []\n",
    "    for j,vector in enumerate(vectors):\n",
    "        b = vector[\"vector\"]\n",
    "        distance = euclidean_distance_3d(a,b)\n",
    "        distances.append({\n",
    "            \"idx\":j,\n",
    "            \"distance\":distance\n",
    "        })\n",
    "    distances.sort(key=lambda item: item.get(\"distance\"))\n",
    "    results = [{\"result\":vectors[d[\"idx\"]][\"payload\"],\"distance\":d[\"distance\"]} for d in distances[0:k]]\n",
    "    return results"
   ]
  },
  {
   "cell_type": "markdown",
   "id": "5ff8b314",
   "metadata": {},
   "source": [
    "# Listing 1.6\n",
    "The three nearest colors to color id=1"
   ]
  },
  {
   "cell_type": "code",
   "execution_count": 10,
   "id": "e37aefcc",
   "metadata": {},
   "outputs": [
    {
     "data": {
      "text/plain": [
       "[{'result': {'hex': '#D17225',\n",
       "   'name': '14 Carrots',\n",
       "   'brand': 'Benjamin Moore'},\n",
       "  'distance': 0},\n",
       " {'result': {'hex': '#C57626',\n",
       "   'name': 'Autumn Orange',\n",
       "   'brand': 'Benjamin Moore'},\n",
       "  'distance': 12.68857754044952},\n",
       " {'result': {'hex': '#CC7F2D',\n",
       "   'name': 'Pumpkin Blush',\n",
       "   'brand': 'Benjamin Moore'},\n",
       "  'distance': 16.06237840420901}]"
      ]
     },
     "execution_count": 10,
     "metadata": {},
     "output_type": "execute_result"
    }
   ],
   "source": [
    "nearest_euclidean_3d(vectors[1][\"vector\"],k=3)"
   ]
  },
  {
   "cell_type": "markdown",
   "id": "74cf8ae4",
   "metadata": {},
   "source": [
    "# Listing 1.7\n",
    "Shows the 12 nearest colors to color id=505"
   ]
  },
  {
   "cell_type": "code",
   "execution_count": 11,
   "id": "71d893c1",
   "metadata": {},
   "outputs": [
    {
     "data": {
      "text/html": [
       "\n",
       "            <div style=\"float:left;margin:10px;\">\n",
       "                <strong>Aqua Dance</strong><br/><em style=\"font-size:0.88em;\">0</em>\n",
       "                <div style=\"width:120px;height:120px;text-align:center;padding-top:50px;background-color:#4F95A5\">&nbsp;</div>\n",
       "            </div>\n",
       "\n",
       "            <div style=\"float:left;margin:10px;\">\n",
       "                <strong>Teal Bayou</strong><br/><em style=\"font-size:0.88em;\">3.605551275463989</em>\n",
       "                <div style=\"width:120px;height:120px;text-align:center;padding-top:50px;background-color:#4F93A2\">&nbsp;</div>\n",
       "            </div>\n",
       "\n",
       "            <div style=\"float:left;margin:10px;\">\n",
       "                <strong>Chivalry</strong><br/><em style=\"font-size:0.88em;\">6.708203932499369</em>\n",
       "                <div style=\"width:120px;height:120px;text-align:center;padding-top:50px;background-color:#5190A9\">&nbsp;</div>\n",
       "            </div>\n",
       "\n",
       "            <div style=\"float:left;margin:10px;\">\n",
       "                <strong>Blue Toile</strong><br/><em style=\"font-size:0.88em;\">7.810249675906654</em>\n",
       "                <div style=\"width:120px;height:120px;text-align:center;padding-top:50px;background-color:#5598A9\">&nbsp;</div>\n",
       "            </div>\n",
       "\n",
       "            <div style=\"float:left;margin:10px;\">\n",
       "                <strong>Rendezvous Bay</strong><br/><em style=\"font-size:0.88em;\">8.306623862918075</em>\n",
       "                <div style=\"width:120px;height:120px;text-align:center;padding-top:50px;background-color:#50939D\">&nbsp;</div>\n",
       "            </div>\n",
       "\n",
       "            <div style=\"float:left;margin:10px;\">\n",
       "                <strong>Tidal Teal</strong><br/><em style=\"font-size:0.88em;\">8.831760866327848</em>\n",
       "                <div style=\"width:120px;height:120px;text-align:center;padding-top:50px;background-color:#519CA0\">&nbsp;</div>\n",
       "            </div>\n",
       "\n",
       "            <div style=\"float:left;margin:10px;\">\n",
       "                <strong>Blue Daisy</strong><br/><em style=\"font-size:0.88em;\">9.643650760992955</em>\n",
       "                <div style=\"width:120px;height:120px;text-align:center;padding-top:50px;background-color:#548DA7\">&nbsp;</div>\n",
       "            </div>\n",
       "\n",
       "            <div style=\"float:left;margin:10px;\">\n",
       "                <strong>Blue Lake</strong><br/><em style=\"font-size:0.88em;\">9.899494936611665</em>\n",
       "                <div style=\"width:120px;height:120px;text-align:center;padding-top:50px;background-color:#569CA5\">&nbsp;</div>\n",
       "            </div>\n",
       "\n",
       "            <div style=\"float:left;margin:10px;\">\n",
       "                <strong>Sea Exposure</strong><br/><em style=\"font-size:0.88em;\">10.295630140987</em>\n",
       "                <div style=\"width:120px;height:120px;text-align:center;padding-top:50px;background-color:#529EA9\">&nbsp;</div>\n",
       "            </div>\n",
       "\n",
       "            <div style=\"float:left;margin:10px;\">\n",
       "                <strong>My Skiff</strong><br/><em style=\"font-size:0.88em;\">10.392304845413264</em>\n",
       "                <div style=\"width:120px;height:120px;text-align:center;padding-top:50px;background-color:#5993A3\">&nbsp;</div>\n",
       "            </div>\n",
       "\n",
       "            <div style=\"float:left;margin:10px;\">\n",
       "                <strong>Blue Chaise</strong><br/><em style=\"font-size:0.88em;\">10.63014581273465</em>\n",
       "                <div style=\"width:120px;height:120px;text-align:center;padding-top:50px;background-color:#4B8CA9\">&nbsp;</div>\n",
       "            </div>\n",
       "\n",
       "            <div style=\"float:left;margin:10px;\">\n",
       "                <strong>Tropical Oasis</strong><br/><em style=\"font-size:0.88em;\">11.180339887498949</em>\n",
       "                <div style=\"width:120px;height:120px;text-align:center;padding-top:50px;background-color:#52919B\">&nbsp;</div>\n",
       "            </div>"
      ],
      "text/plain": [
       "<IPython.core.display.HTML object>"
      ]
     },
     "metadata": {},
     "output_type": "display_data"
    }
   ],
   "source": [
    "show_colors(nearest_euclidean_3d(vectors[505][\"vector\"],k=12))"
   ]
  },
  {
   "cell_type": "code",
   "execution_count": 12,
   "id": "4150da84",
   "metadata": {},
   "outputs": [
    {
     "data": {
      "text/html": [
       "\n",
       "            <div style=\"float:left;margin:10px;\">\n",
       "                <strong>Bavarian Cream</strong><br/><em style=\"font-size:0.88em;\">0</em>\n",
       "                <div style=\"width:120px;height:120px;text-align:center;padding-top:50px;background-color:#EDD9B3\">&nbsp;</div>\n",
       "            </div>\n",
       "\n",
       "            <div style=\"float:left;margin:10px;\">\n",
       "                <strong>Hummus</strong><br/><em style=\"font-size:0.88em;\">1.7320508075688772</em>\n",
       "                <div style=\"width:120px;height:120px;text-align:center;padding-top:50px;background-color:#EED8B2\">&nbsp;</div>\n",
       "            </div>\n",
       "\n",
       "            <div style=\"float:left;margin:10px;\">\n",
       "                <strong>Handmade</strong><br/><em style=\"font-size:0.88em;\">2.449489742783178</em>\n",
       "                <div style=\"width:120px;height:120px;text-align:center;padding-top:50px;background-color:#EED7B2\">&nbsp;</div>\n",
       "            </div>\n",
       "\n",
       "            <div style=\"float:left;margin:10px;\">\n",
       "                <strong>Crème Brûlée</strong><br/><em style=\"font-size:0.88em;\">2.8284271247461903</em>\n",
       "                <div style=\"width:120px;height:120px;text-align:center;padding-top:50px;background-color:#EFD9B5\">&nbsp;</div>\n",
       "            </div>\n",
       "\n",
       "            <div style=\"float:left;margin:10px;\">\n",
       "                <strong>Hazy Yellow</strong><br/><em style=\"font-size:0.88em;\">3.3166247903554</em>\n",
       "                <div style=\"width:120px;height:120px;text-align:center;padding-top:50px;background-color:#ECD8B6\">&nbsp;</div>\n",
       "            </div>\n",
       "\n",
       "            <div style=\"float:left;margin:10px;\">\n",
       "                <strong>Concord Buff</strong><br/><em style=\"font-size:0.88em;\">3.605551275463989</em>\n",
       "                <div style=\"width:120px;height:120px;text-align:center;padding-top:50px;background-color:#EDD6B1\">&nbsp;</div>\n",
       "            </div>\n",
       "\n",
       "            <div style=\"float:left;margin:10px;\">\n",
       "                <strong>Sensible Hue</strong><br/><em style=\"font-size:0.88em;\">3.7416573867739413</em>\n",
       "                <div style=\"width:120px;height:120px;text-align:center;padding-top:50px;background-color:#EAD7B4\">&nbsp;</div>\n",
       "            </div>\n",
       "\n",
       "            <div style=\"float:left;margin:10px;\">\n",
       "                <strong>Golden Straw</strong><br/><em style=\"font-size:0.88em;\">4.898979485566356</em>\n",
       "                <div style=\"width:120px;height:120px;text-align:center;padding-top:50px;background-color:#EFDDB5\">&nbsp;</div>\n",
       "            </div>\n",
       "\n",
       "            <div style=\"float:left;margin:10px;\">\n",
       "                <strong>Hilton Head Cream</strong><br/><em style=\"font-size:0.88em;\">5.196152422706632</em>\n",
       "                <div style=\"width:120px;height:120px;text-align:center;padding-top:50px;background-color:#EAD6B6\">&nbsp;</div>\n",
       "            </div>\n",
       "\n",
       "            <div style=\"float:left;margin:10px;\">\n",
       "                <strong>Precious Ivory</strong><br/><em style=\"font-size:0.88em;\">5.385164807134504</em>\n",
       "                <div style=\"width:120px;height:120px;text-align:center;padding-top:50px;background-color:#F1DCB5\">&nbsp;</div>\n",
       "            </div>\n",
       "\n",
       "            <div style=\"float:left;margin:10px;\">\n",
       "                <strong>Coronado Cream</strong><br/><em style=\"font-size:0.88em;\">5.656854249492381</em>\n",
       "                <div style=\"width:120px;height:120px;text-align:center;padding-top:50px;background-color:#EDDDB7\">&nbsp;</div>\n",
       "            </div>\n",
       "\n",
       "            <div style=\"float:left;margin:10px;\">\n",
       "                <strong>Philadelphia Cream</strong><br/><em style=\"font-size:0.88em;\">5.656854249492381</em>\n",
       "                <div style=\"width:120px;height:120px;text-align:center;padding-top:50px;background-color:#EDDDB7\">&nbsp;</div>\n",
       "            </div>"
      ],
      "text/plain": [
       "<IPython.core.display.HTML object>"
      ]
     },
     "metadata": {},
     "output_type": "display_data"
    }
   ],
   "source": [
    "show_colors(nearest_euclidean_3d(vectors[1010][\"vector\"],k=12))"
   ]
  },
  {
   "cell_type": "markdown",
   "id": "506398c8",
   "metadata": {},
   "source": [
    "# Listing 1.8\n",
    "Shows the 12 nearest colors to rgb=[150,0,200]"
   ]
  },
  {
   "cell_type": "code",
   "execution_count": 13,
   "id": "500b62b0",
   "metadata": {},
   "outputs": [
    {
     "data": {
      "text/html": [
       "\n",
       "            <div style=\"float:left;margin:10px;\">\n",
       "                <strong>Mad About Magenta</strong><br/><em style=\"font-size:0.88em;\">99.12618221237011</em>\n",
       "                <div style=\"width:120px;height:120px;text-align:center;padding-top:50px;background-color:#8D4C89\">&nbsp;</div>\n",
       "            </div>\n",
       "\n",
       "            <div style=\"float:left;margin:10px;\">\n",
       "                <strong>Twilight Magenta</strong><br/><em style=\"font-size:0.88em;\">103.36827366266692</em>\n",
       "                <div style=\"width:120px;height:120px;text-align:center;padding-top:50px;background-color:#9B4A80\">&nbsp;</div>\n",
       "            </div>\n",
       "\n",
       "            <div style=\"float:left;margin:10px;\">\n",
       "                <strong>Pre-Dawn Sky</strong><br/><em style=\"font-size:0.88em;\">104.35516278555652</em>\n",
       "                <div style=\"width:120px;height:120px;text-align:center;padding-top:50px;background-color:#9F487D\">&nbsp;</div>\n",
       "            </div>\n",
       "\n",
       "            <div style=\"float:left;margin:10px;\">\n",
       "                <strong>Voodoo Violet</strong><br/><em style=\"font-size:0.88em;\">105.0</em>\n",
       "                <div style=\"width:120px;height:120px;text-align:center;padding-top:50px;background-color:#734682\">&nbsp;</div>\n",
       "            </div>\n",
       "\n",
       "            <div style=\"float:left;margin:10px;\">\n",
       "                <strong>Cosmic Berry</strong><br/><em style=\"font-size:0.88em;\">105.11898020814318</em>\n",
       "                <div style=\"width:120px;height:120px;text-align:center;padding-top:50px;background-color:#87558C\">&nbsp;</div>\n",
       "            </div>\n",
       "\n",
       "            <div style=\"float:left;margin:10px;\">\n",
       "                <strong>Hot Lips</strong><br/><em style=\"font-size:0.88em;\">105.49407566304374</em>\n",
       "                <div style=\"width:120px;height:120px;text-align:center;padding-top:50px;background-color:#BC427F\">&nbsp;</div>\n",
       "            </div>\n",
       "\n",
       "            <div style=\"float:left;margin:10px;\">\n",
       "                <strong>Verve Violet</strong><br/><em style=\"font-size:0.88em;\">106.90650120549265</em>\n",
       "                <div style=\"width:120px;height:120px;text-align:center;padding-top:50px;background-color:#944F80\">&nbsp;</div>\n",
       "            </div>\n",
       "\n",
       "            <div style=\"float:left;margin:10px;\">\n",
       "                <strong>Crushed Berries</strong><br/><em style=\"font-size:0.88em;\">107.01868995647442</em>\n",
       "                <div style=\"width:120px;height:120px;text-align:center;padding-top:50px;background-color:#B4447B\">&nbsp;</div>\n",
       "            </div>\n",
       "\n",
       "            <div style=\"float:left;margin:10px;\">\n",
       "                <strong>Sonic Plum</strong><br/><em style=\"font-size:0.88em;\">107.03737664946763</em>\n",
       "                <div style=\"width:120px;height:120px;text-align:center;padding-top:50px;background-color:#815A92\">&nbsp;</div>\n",
       "            </div>\n",
       "\n",
       "            <div style=\"float:left;margin:10px;\">\n",
       "                <strong>Rollick</strong><br/><em style=\"font-size:0.88em;\">110.32678731840241</em>\n",
       "                <div style=\"width:120px;height:120px;text-align:center;padding-top:50px;background-color:#745A92\">&nbsp;</div>\n",
       "            </div>\n",
       "\n",
       "            <div style=\"float:left;margin:10px;\">\n",
       "                <strong>Chakra</strong><br/><em style=\"font-size:0.88em;\">110.48076755707302</em>\n",
       "                <div style=\"width:120px;height:120px;text-align:center;padding-top:50px;background-color:#8B5E8F\">&nbsp;</div>\n",
       "            </div>\n",
       "\n",
       "            <div style=\"float:left;margin:10px;\">\n",
       "                <strong>Exuberant Pink</strong><br/><em style=\"font-size:0.88em;\">110.53958566956908</em>\n",
       "                <div style=\"width:120px;height:120px;text-align:center;padding-top:50px;background-color:#B54D7F\">&nbsp;</div>\n",
       "            </div>"
      ],
      "text/plain": [
       "<IPython.core.display.HTML object>"
      ]
     },
     "metadata": {},
     "output_type": "display_data"
    }
   ],
   "source": [
    "show_colors(nearest_euclidean_3d([150,0,200],k=12))"
   ]
  },
  {
   "cell_type": "code",
   "execution_count": 14,
   "id": "70ce22ba",
   "metadata": {},
   "outputs": [
    {
     "data": {
      "text/html": [
       "\n",
       "            <div style=\"float:left;margin:10px;\">\n",
       "                <strong>Blanca Peak</strong><br/><em style=\"font-size:0.88em;\">14.352700094407323</em>\n",
       "                <div style=\"width:120px;height:120px;text-align:center;padding-top:50px;background-color:#F8F9F4\">&nbsp;</div>\n",
       "            </div>\n",
       "\n",
       "            <div style=\"float:left;margin:10px;\">\n",
       "                <strong>Ultra Pure White®</strong><br/><em style=\"font-size:0.88em;\">14.696938456699069</em>\n",
       "                <div style=\"width:120px;height:120px;text-align:center;padding-top:50px;background-color:#F9F9F3\">&nbsp;</div>\n",
       "            </div>\n",
       "\n",
       "            <div style=\"float:left;margin:10px;\">\n",
       "                <strong>Ultra Pure White®</strong><br/><em style=\"font-size:0.88em;\">15.132745950421556</em>\n",
       "                <div style=\"width:120px;height:120px;text-align:center;padding-top:50px;background-color:#F8F9F3\">&nbsp;</div>\n",
       "            </div>\n",
       "\n",
       "            <div style=\"float:left;margin:10px;\">\n",
       "                <strong>Ultra Pure White</strong><br/><em style=\"font-size:0.88em;\">15.556349186104045</em>\n",
       "                <div style=\"width:120px;height:120px;text-align:center;padding-top:50px;background-color:#F8F8F3\">&nbsp;</div>\n",
       "            </div>\n",
       "\n",
       "            <div style=\"float:left;margin:10px;\">\n",
       "                <strong>Ultra White</strong><br/><em style=\"font-size:0.88em;\">16.30950643030009</em>\n",
       "                <div style=\"width:120px;height:120px;text-align:center;padding-top:50px;background-color:#F6F7F4\">&nbsp;</div>\n",
       "            </div>\n",
       "\n",
       "            <div style=\"float:left;margin:10px;\">\n",
       "                <strong>Ultra Pure White®</strong><br/><em style=\"font-size:0.88em;\">16.34013463836819</em>\n",
       "                <div style=\"width:120px;height:120px;text-align:center;padding-top:50px;background-color:#F8F8F2\">&nbsp;</div>\n",
       "            </div>\n",
       "\n",
       "            <div style=\"float:left;margin:10px;\">\n",
       "                <strong>Ultra Pure White®</strong><br/><em style=\"font-size:0.88em;\">16.34013463836819</em>\n",
       "                <div style=\"width:120px;height:120px;text-align:center;padding-top:50px;background-color:#F8F8F2\">&nbsp;</div>\n",
       "            </div>\n",
       "\n",
       "            <div style=\"float:left;margin:10px;\">\n",
       "                <strong>High Reflective White</strong><br/><em style=\"font-size:0.88em;\">18.0</em>\n",
       "                <div style=\"width:120px;height:120px;text-align:center;padding-top:50px;background-color:#F7F7F1\">&nbsp;</div>\n",
       "            </div>\n",
       "\n",
       "            <div style=\"float:left;margin:10px;\">\n",
       "                <strong>New Ream</strong><br/><em style=\"font-size:0.88em;\">18.920887928424502</em>\n",
       "                <div style=\"width:120px;height:120px;text-align:center;padding-top:50px;background-color:#F6F6F1\">&nbsp;</div>\n",
       "            </div>\n",
       "\n",
       "            <div style=\"float:left;margin:10px;\">\n",
       "                <strong>Chantilly Lace</strong><br/><em style=\"font-size:0.88em;\">19.949937343260004</em>\n",
       "                <div style=\"width:120px;height:120px;text-align:center;padding-top:50px;background-color:#F4F6F1\">&nbsp;</div>\n",
       "            </div>\n",
       "\n",
       "            <div style=\"float:left;margin:10px;\">\n",
       "                <strong>Chantilly Lace</strong><br/><em style=\"font-size:0.88em;\">19.949937343260004</em>\n",
       "                <div style=\"width:120px;height:120px;text-align:center;padding-top:50px;background-color:#F4F6F1\">&nbsp;</div>\n",
       "            </div>\n",
       "\n",
       "            <div style=\"float:left;margin:10px;\">\n",
       "                <strong>Snowfall White</strong><br/><em style=\"font-size:0.88em;\">20.83266665599966</em>\n",
       "                <div style=\"width:120px;height:120px;text-align:center;padding-top:50px;background-color:#F6F7EE\">&nbsp;</div>\n",
       "            </div>"
      ],
      "text/plain": [
       "<IPython.core.display.HTML object>"
      ]
     },
     "metadata": {},
     "output_type": "display_data"
    }
   ],
   "source": [
    "show_colors(nearest_euclidean_3d([255,255,255],k=12))"
   ]
  },
  {
   "cell_type": "code",
   "execution_count": 15,
   "id": "c514c3e6",
   "metadata": {},
   "outputs": [],
   "source": [
    "#Dot Product\n",
    "def dot_product(a,b):\n",
    "    dot = sum([an*bn for an,bn in zip(a,b)])\n",
    "    return dot"
   ]
  },
  {
   "cell_type": "code",
   "execution_count": 16,
   "id": "e1b2bd7c",
   "metadata": {},
   "outputs": [
    {
     "name": "stdout",
     "output_type": "stream",
     "text": [
      "82\n",
      "65\n",
      "44\n",
      "44\n",
      "16\n"
     ]
    }
   ],
   "source": [
    "print(dot_product([9,1],[9,1]))\n",
    "print(dot_product([7,2],[9,1]))\n",
    "print(dot_product([7,2],[4,8]))\n",
    "print(dot_product([4,8],[9,1]))\n",
    "print(dot_product([4,8],[2,1]))"
   ]
  },
  {
   "cell_type": "code",
   "execution_count": 21,
   "id": "539ddd0e",
   "metadata": {},
   "outputs": [],
   "source": [
    "def nearest_dot_3d(a,k=3):\n",
    "    distances = []\n",
    "    for j,vector in enumerate(vectors):\n",
    "        b = vector[\"vector\"]\n",
    "        distance = dot_product(a,b)\n",
    "        distances.append({\n",
    "            \"idx\":j,\n",
    "            \"distance\":distance\n",
    "        })\n",
    "    distances.sort(key=lambda item: item.get(\"distance\"), reverse=True)\n",
    "    results = [{\"result\":vectors[d[\"idx\"]][\"payload\"],\"distance\":d[\"distance\"]} for d in distances[0:k]]\n",
    "    return results"
   ]
  },
  {
   "cell_type": "code",
   "execution_count": 23,
   "id": "42a72e03",
   "metadata": {},
   "outputs": [
    {
     "data": {
      "text/html": [
       "\n",
       "            <div style=\"float:left;margin:10px;\">\n",
       "                <strong>Ultra Pure White®</strong><br/><em style=\"font-size:0.88em;\">156543</em>\n",
       "                <div style=\"width:120px;height:120px;text-align:center;padding-top:50px;background-color:#F9F9F3\">&nbsp;</div>\n",
       "            </div>\n",
       "\n",
       "            <div style=\"float:left;margin:10px;\">\n",
       "                <strong>Blanca Peak</strong><br/><em style=\"font-size:0.88em;\">156485</em>\n",
       "                <div style=\"width:120px;height:120px;text-align:center;padding-top:50px;background-color:#F8F9F4\">&nbsp;</div>\n",
       "            </div>\n",
       "\n",
       "            <div style=\"float:left;margin:10px;\">\n",
       "                <strong>Ultra Pure White®</strong><br/><em style=\"font-size:0.88em;\">156306</em>\n",
       "                <div style=\"width:120px;height:120px;text-align:center;padding-top:50px;background-color:#F8F9F3\">&nbsp;</div>\n",
       "            </div>\n",
       "\n",
       "            <div style=\"float:left;margin:10px;\">\n",
       "                <strong>Ultra Pure White</strong><br/><em style=\"font-size:0.88em;\">156089</em>\n",
       "                <div style=\"width:120px;height:120px;text-align:center;padding-top:50px;background-color:#F8F8F3\">&nbsp;</div>\n",
       "            </div>\n",
       "\n",
       "            <div style=\"float:left;margin:10px;\">\n",
       "                <strong>Ultra Pure White®</strong><br/><em style=\"font-size:0.88em;\">155910</em>\n",
       "                <div style=\"width:120px;height:120px;text-align:center;padding-top:50px;background-color:#F8F8F2\">&nbsp;</div>\n",
       "            </div>\n",
       "\n",
       "            <div style=\"float:left;margin:10px;\">\n",
       "                <strong>Ultra Pure White®</strong><br/><em style=\"font-size:0.88em;\">155910</em>\n",
       "                <div style=\"width:120px;height:120px;text-align:center;padding-top:50px;background-color:#F8F8F2\">&nbsp;</div>\n",
       "            </div>\n",
       "\n",
       "            <div style=\"float:left;margin:10px;\">\n",
       "                <strong>Ultra White</strong><br/><em style=\"font-size:0.88em;\">155577</em>\n",
       "                <div style=\"width:120px;height:120px;text-align:center;padding-top:50px;background-color:#F6F7F4\">&nbsp;</div>\n",
       "            </div>\n",
       "\n",
       "            <div style=\"float:left;margin:10px;\">\n",
       "                <strong>High Reflective White</strong><br/><em style=\"font-size:0.88em;\">155277</em>\n",
       "                <div style=\"width:120px;height:120px;text-align:center;padding-top:50px;background-color:#F7F7F1\">&nbsp;</div>\n",
       "            </div>\n",
       "\n",
       "            <div style=\"float:left;margin:10px;\">\n",
       "                <strong>Stately White</strong><br/><em style=\"font-size:0.88em;\">155169</em>\n",
       "                <div style=\"width:120px;height:120px;text-align:center;padding-top:50px;background-color:#FAF9EA\">&nbsp;</div>\n",
       "            </div>\n",
       "\n",
       "            <div style=\"float:left;margin:10px;\">\n",
       "                <strong>Elderflower</strong><br/><em style=\"font-size:0.88em;\">155048</em>\n",
       "                <div style=\"width:120px;height:120px;text-align:center;padding-top:50px;background-color:#FBF9E8\">&nbsp;</div>\n",
       "            </div>\n",
       "\n",
       "            <div style=\"float:left;margin:10px;\">\n",
       "                <strong>Night Blooming Jasmine</strong><br/><em style=\"font-size:0.88em;\">154856</em>\n",
       "                <div style=\"width:120px;height:120px;text-align:center;padding-top:50px;background-color:#F9F7EC\">&nbsp;</div>\n",
       "            </div>\n",
       "\n",
       "            <div style=\"float:left;margin:10px;\">\n",
       "                <strong>New Ream</strong><br/><em style=\"font-size:0.88em;\">154823</em>\n",
       "                <div style=\"width:120px;height:120px;text-align:center;padding-top:50px;background-color:#F6F6F1\">&nbsp;</div>\n",
       "            </div>"
      ],
      "text/plain": [
       "<IPython.core.display.HTML object>"
      ]
     },
     "metadata": {},
     "output_type": "display_data"
    }
   ],
   "source": [
    "show_colors(nearest_dot_3d(vectors[1010][\"vector\"],k=12))"
   ]
  },
  {
   "cell_type": "markdown",
   "id": "d9b4eb0c",
   "metadata": {},
   "source": [
    "## Appendix\n",
    "\n",
    "The cells below were used to create images in the book"
   ]
  },
  {
   "cell_type": "code",
   "execution_count": 15,
   "id": "c8d63e5a",
   "metadata": {},
   "outputs": [],
   "source": [
    "examples = [\n",
    "    {\"vector\":[255,51,51],\"payload\":{\"name\":\"red\",\"hex\":\"#FF3333\"}},\n",
    "    {\"vector\":[255,51,153],\"payload\":{\"name\":\"pink\",\"hex\":\"#FF3399\"}},\n",
    "    {\"vector\":[102,255,0],\"payload\":{\"name\":\"green\",\"hex\":\"#66FF00\"}}\n",
    "]"
   ]
  },
  {
   "cell_type": "code",
   "execution_count": 16,
   "id": "416ee339",
   "metadata": {},
   "outputs": [
    {
     "data": {
      "text/html": [
       "\n",
       "            <div style=\"float:left;margin:10px;\">\n",
       "                <strong>red</strong>\n",
       "                <div style=\"width:120px;height:120px;text-align:center;padding-top:50px;background-color:#FF3333\">[255, 51, 51]</div>\n",
       "            </div>\n",
       "\n",
       "            <div style=\"float:left;margin:10px;\">\n",
       "                <strong>pink</strong>\n",
       "                <div style=\"width:120px;height:120px;text-align:center;padding-top:50px;background-color:#FF3399\">[255, 51, 153]</div>\n",
       "            </div>\n",
       "\n",
       "            <div style=\"float:left;margin:10px;\">\n",
       "                <strong>green</strong>\n",
       "                <div style=\"width:120px;height:120px;text-align:center;padding-top:50px;background-color:#66FF00\">[102, 255, 0]</div>\n",
       "            </div>"
      ],
      "text/plain": [
       "<IPython.core.display.HTML object>"
      ]
     },
     "metadata": {},
     "output_type": "display_data"
    }
   ],
   "source": [
    "show_colors(examples,annotate=True)"
   ]
  },
  {
   "cell_type": "code",
   "execution_count": 17,
   "id": "b524f470",
   "metadata": {},
   "outputs": [
    {
     "name": "stdout",
     "output_type": "stream",
     "text": [
      "102.0\n",
      "260.049995193232\n",
      "297.37854663711033\n"
     ]
    }
   ],
   "source": [
    "print(euclidean_distance_3d(examples[0][\"vector\"],examples[1][\"vector\"]))\n",
    "print(euclidean_distance_3d(examples[0][\"vector\"],examples[2][\"vector\"]))\n",
    "print(euclidean_distance_3d(examples[1][\"vector\"],examples[2][\"vector\"]))"
   ]
  },
  {
   "cell_type": "code",
   "execution_count": null,
   "id": "69f5d540",
   "metadata": {},
   "outputs": [],
   "source": []
  }
 ],
 "metadata": {
  "kernelspec": {
   "display_name": "Python 3 (ipykernel)",
   "language": "python",
   "name": "python3"
  },
  "language_info": {
   "codemirror_mode": {
    "name": "ipython",
    "version": 3
   },
   "file_extension": ".py",
   "mimetype": "text/x-python",
   "name": "python",
   "nbconvert_exporter": "python",
   "pygments_lexer": "ipython3",
   "version": "3.10.0"
  }
 },
 "nbformat": 4,
 "nbformat_minor": 5
}
