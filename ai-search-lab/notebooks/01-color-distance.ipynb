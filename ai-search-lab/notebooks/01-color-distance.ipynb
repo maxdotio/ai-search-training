{
 "cells": [
  {
   "cell_type": "markdown",
   "id": "eff836ba",
   "metadata": {},
   "source": [
    "# Lab 1 - Color Search\n",
    "\n",
    "The listings in this notebook are for the RGB color similarity exercises"
   ]
  },
  {
   "cell_type": "code",
   "execution_count": null,
   "id": "2485200f",
   "metadata": {},
   "outputs": [],
   "source": [
    "import json\n",
    "import math\n",
    "from IPython.display import display, HTML"
   ]
  },
  {
   "cell_type": "code",
   "execution_count": null,
   "id": "d8eaa7fc",
   "metadata": {},
   "outputs": [],
   "source": [
    "def show_colors(colors,annotate=False):\n",
    "    html = []\n",
    "    for color in colors:\n",
    "        result = color[\"payload\"] if \"payload\" in color else color[\"result\"]\n",
    "        score = f'<br/><em style=\"font-size:0.88em;\">{color[\"distance\"]}</em>' if \"distance\" in color else \"\"\n",
    "        anno = color[\"vector\"] if annotate else \"&nbsp;\"\n",
    "        html.append(f'''\n",
    "            <div style=\"float:left;margin:10px;\">\n",
    "                <strong>{result[\"name\"]}</strong>{score}\n",
    "                <div style=\"width:120px;height:120px;text-align:center;padding-top:50px;background-color:{result[\"hex\"]}\">{anno}</div>\n",
    "            </div>''')\n",
    "    display(HTML('\\n'.join(html)))\n",
    "\n",
    "def show_color(result):\n",
    "    display(HTML(f'<h3>{result[\"name\"]}</h3><div style=\"width:120px;height:120px;background-color:{result[\"hex\"]}\">&nbsp;</div>'))"
   ]
  },
  {
   "cell_type": "markdown",
   "id": "77b071e9",
   "metadata": {},
   "source": [
    "# Listing 1.1\n",
    "Load the color vector documents"
   ]
  },
  {
   "cell_type": "code",
   "execution_count": null,
   "id": "f79c4b51",
   "metadata": {},
   "outputs": [],
   "source": [
    "with open('color_vectors.json') as fd:\n",
    "    vectors = json.load(fd)\n",
    "vectors[0:3]"
   ]
  },
  {
   "cell_type": "markdown",
   "id": "5e82d2fb",
   "metadata": {},
   "source": [
    "# Listing 1.2\n",
    "Show the first 12 alphabetically ordered colors"
   ]
  },
  {
   "cell_type": "code",
   "execution_count": null,
   "id": "6bb2d51c",
   "metadata": {},
   "outputs": [],
   "source": [
    "show_colors(vectors[:12])"
   ]
  },
  {
   "cell_type": "markdown",
   "id": "f17a48bc",
   "metadata": {},
   "source": [
    "# Listing 1.3\n",
    "Euclidean distance between two embeddings, each with three dimensions"
   ]
  },
  {
   "cell_type": "code",
   "execution_count": null,
   "id": "eae39148",
   "metadata": {},
   "outputs": [],
   "source": [
    "def euclidean_distance_3d(a,b):\n",
    "    dist = float(pow(a[0]-b[0],2) + pow(a[1]-b[1],2) + pow(a[2]-b[2],2))\n",
    "    norm = math.sqrt(dist) if dist>0.0 else 0\n",
    "    return norm"
   ]
  },
  {
   "cell_type": "markdown",
   "id": "d6de976a",
   "metadata": {},
   "source": [
    "# Listing 1.4\n",
    "The distance between color id=0 and color id=1"
   ]
  },
  {
   "cell_type": "code",
   "execution_count": null,
   "id": "4a12f795",
   "metadata": {},
   "outputs": [],
   "source": [
    "euclidean_distance_3d(vectors[0][\"vector\"],vectors[1][\"vector\"])"
   ]
  },
  {
   "cell_type": "code",
   "execution_count": null,
   "id": "a45cab42",
   "metadata": {},
   "outputs": [],
   "source": [
    "euclidean_distance_3d(vectors[0][\"vector\"],vectors[2][\"vector\"])"
   ]
  },
  {
   "cell_type": "code",
   "execution_count": null,
   "id": "a7bd420e",
   "metadata": {},
   "outputs": [],
   "source": [
    "euclidean_distance_3d(vectors[0][\"vector\"],vectors[3][\"vector\"])"
   ]
  },
  {
   "cell_type": "markdown",
   "id": "1f775733",
   "metadata": {},
   "source": [
    "# Listing 1.5\n",
    "Get the top 'k' nearest colors given an embedding 'a'"
   ]
  },
  {
   "cell_type": "code",
   "execution_count": null,
   "id": "a3b2d357",
   "metadata": {},
   "outputs": [],
   "source": [
    "def nearest_euclidean_3d(a,k=3):\n",
    "    distances = []\n",
    "    for j,vector in enumerate(vectors):\n",
    "        b = vector[\"vector\"]\n",
    "        distance = euclidean_distance_3d(a,b)\n",
    "        distances.append({\n",
    "            \"idx\":j,\n",
    "            \"distance\":distance\n",
    "        })\n",
    "    distances.sort(key=lambda item: item.get(\"distance\"))\n",
    "    results = [{\"result\":vectors[d[\"idx\"]][\"payload\"],\"distance\":d[\"distance\"]} for d in distances[0:k]]\n",
    "    return results"
   ]
  },
  {
   "cell_type": "markdown",
   "id": "5ff8b314",
   "metadata": {},
   "source": [
    "# Listing 1.6\n",
    "The three nearest colors to color id=1"
   ]
  },
  {
   "cell_type": "code",
   "execution_count": null,
   "id": "e37aefcc",
   "metadata": {},
   "outputs": [],
   "source": [
    "nearest_euclidean_3d(vectors[1][\"vector\"],k=3)"
   ]
  },
  {
   "cell_type": "markdown",
   "id": "74cf8ae4",
   "metadata": {},
   "source": [
    "# Listing 1.7\n",
    "Shows the 12 nearest colors to color id=505"
   ]
  },
  {
   "cell_type": "code",
   "execution_count": null,
   "id": "71d893c1",
   "metadata": {},
   "outputs": [],
   "source": [
    "show_colors(nearest_euclidean_3d(vectors[1][\"vector\"],k=3))"
   ]
  },
  {
   "cell_type": "code",
   "execution_count": null,
   "id": "4150da84",
   "metadata": {},
   "outputs": [],
   "source": [
    "show_colors(nearest_euclidean_3d(vectors[505][\"vector\"],k=12))"
   ]
  },
  {
   "cell_type": "markdown",
   "id": "506398c8",
   "metadata": {},
   "source": [
    "# Listing 1.8\n",
    "Shows the 12 nearest colors to rgb=[150,0,200]"
   ]
  },
  {
   "cell_type": "code",
   "execution_count": null,
   "id": "500b62b0",
   "metadata": {},
   "outputs": [],
   "source": [
    "show_colors(nearest_euclidean_3d([150,0,200],k=12))"
   ]
  },
  {
   "cell_type": "code",
   "execution_count": null,
   "id": "70ce22ba",
   "metadata": {},
   "outputs": [],
   "source": [
    "show_colors(nearest_euclidean_3d([255,255,255],k=12))"
   ]
  },
  {
   "cell_type": "markdown",
   "id": "938fb196-3179-4742-a0a0-af804c2f5541",
   "metadata": {},
   "source": [
    "# The wrong metric\n",
    "\n",
    "What happens when we use, for example, dot product for this euclidean RGB space?"
   ]
  },
  {
   "cell_type": "code",
   "execution_count": null,
   "id": "c514c3e6",
   "metadata": {},
   "outputs": [],
   "source": [
    "#Dot Product\n",
    "def dot_product(a,b):\n",
    "    dot = sum([an*bn for an,bn in zip(a,b)])\n",
    "    return dot"
   ]
  },
  {
   "cell_type": "code",
   "execution_count": null,
   "id": "e1b2bd7c",
   "metadata": {},
   "outputs": [],
   "source": [
    "print(dot_product([9,1],[9,1]))\n",
    "print(dot_product([7,2],[9,1]))\n",
    "print(dot_product([7,2],[4,8]))\n",
    "print(dot_product([4,8],[9,1]))\n",
    "print(dot_product([4,8],[2,1]))"
   ]
  },
  {
   "cell_type": "code",
   "execution_count": null,
   "id": "539ddd0e",
   "metadata": {},
   "outputs": [],
   "source": [
    "def nearest_dot_3d(a,k=3):\n",
    "    distances = []\n",
    "    for j,vector in enumerate(vectors):\n",
    "        b = vector[\"vector\"]\n",
    "        distance = dot_product(a,b)\n",
    "        distances.append({\n",
    "            \"idx\":j,\n",
    "            \"distance\":distance\n",
    "        })\n",
    "    distances.sort(key=lambda item: item.get(\"distance\"), reverse=True)\n",
    "    results = [{\"result\":vectors[d[\"idx\"]][\"payload\"],\"distance\":d[\"distance\"]} for d in distances[0:k]]\n",
    "    return results"
   ]
  },
  {
   "cell_type": "code",
   "execution_count": null,
   "id": "42a72e03",
   "metadata": {},
   "outputs": [],
   "source": [
    "show_colors(nearest_dot_3d(vectors[505][\"vector\"],k=12))"
   ]
  },
  {
   "cell_type": "code",
   "execution_count": null,
   "id": "bfe6e638-fe16-4e13-bc05-c9bf8a27ade3",
   "metadata": {},
   "outputs": [],
   "source": [
    "show_colors(nearest_dot_3d(vectors[1010][\"vector\"],k=12))"
   ]
  },
  {
   "cell_type": "markdown",
   "id": "d9b4eb0c",
   "metadata": {},
   "source": [
    "## Appendix\n",
    "\n",
    "The cells below were used to create images in the slides"
   ]
  },
  {
   "cell_type": "code",
   "execution_count": null,
   "id": "c8d63e5a",
   "metadata": {},
   "outputs": [],
   "source": [
    "examples = [\n",
    "    {\"vector\":[255,51,51],\"payload\":{\"name\":\"red\",\"hex\":\"#FF3333\"}},\n",
    "    {\"vector\":[255,51,153],\"payload\":{\"name\":\"pink\",\"hex\":\"#FF3399\"}},\n",
    "    {\"vector\":[102,255,0],\"payload\":{\"name\":\"green\",\"hex\":\"#66FF00\"}}\n",
    "]"
   ]
  },
  {
   "cell_type": "code",
   "execution_count": null,
   "id": "416ee339",
   "metadata": {},
   "outputs": [],
   "source": [
    "show_colors(examples,annotate=True)"
   ]
  },
  {
   "cell_type": "code",
   "execution_count": null,
   "id": "b524f470",
   "metadata": {},
   "outputs": [],
   "source": [
    "print(euclidean_distance_3d(examples[0][\"vector\"],examples[1][\"vector\"]))\n",
    "print(euclidean_distance_3d(examples[0][\"vector\"],examples[2][\"vector\"]))\n",
    "print(euclidean_distance_3d(examples[1][\"vector\"],examples[2][\"vector\"]))"
   ]
  },
  {
   "cell_type": "code",
   "execution_count": null,
   "id": "69f5d540",
   "metadata": {},
   "outputs": [],
   "source": []
  }
 ],
 "metadata": {
  "kernelspec": {
   "display_name": "Python 3 (ipykernel)",
   "language": "python",
   "name": "python3"
  },
  "language_info": {
   "codemirror_mode": {
    "name": "ipython",
    "version": 3
   },
   "file_extension": ".py",
   "mimetype": "text/x-python",
   "name": "python",
   "nbconvert_exporter": "python",
   "pygments_lexer": "ipython3",
   "version": "3.11.5"
  }
 },
 "nbformat": 4,
 "nbformat_minor": 5
}
