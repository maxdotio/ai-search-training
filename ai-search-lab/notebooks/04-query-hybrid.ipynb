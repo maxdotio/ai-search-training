{
 "cells": [
  {
   "cell_type": "code",
   "execution_count": 1,
   "id": "55797adf-fda8-4ec2-aaf3-59c4345268ac",
   "metadata": {},
   "outputs": [],
   "source": [
    "from opensearchpy import OpenSearch,helpers\n",
    "from sentence_transformers import SentenceTransformer, util as STutil\n",
    "from tqdm.notebook import tqdm\n",
    "from datetime import datetime\n",
    "from IPython.display import display, HTML\n",
    "import numpy as np\n",
    "import pickle"
   ]
  },
  {
   "cell_type": "code",
   "execution_count": 2,
   "id": "5d7ac1d4-8c6f-4eec-94c6-c04e7c32559f",
   "metadata": {},
   "outputs": [
    {
     "name": "stdout",
     "output_type": "stream",
     "text": [
      "Welcome to opensearch 2.11.0!\n"
     ]
    }
   ],
   "source": [
    "# https://github.com/opensearch-project/opensearch-py/blob/main/USER_GUIDE.md\n",
    "host = 'ai-search-opensearch-node'\n",
    "port = 9200\n",
    "client = OpenSearch(hosts = [{'host': host, 'port': port}])\n",
    "info = client.info()\n",
    "print(f\"Welcome to {info['version']['distribution']} {info['version']['number']}!\")"
   ]
  },
  {
   "cell_type": "markdown",
   "id": "a529604a-3130-4243-ac57-619fb1696490",
   "metadata": {},
   "source": [
    "## Use the same model and method to get the query embedding, with some defaults changed\n",
    "Remember, the model is `intfloat/e5-small-v2` and we need to prefix any query with 'query:'"
   ]
  },
  {
   "cell_type": "code",
   "execution_count": 3,
   "id": "51bb8416-ea0c-44dc-869c-196ee4671425",
   "metadata": {},
   "outputs": [],
   "source": [
    "#The E5 models expect 'query:' and 'passage:' prefixes\n",
    "model = SentenceTransformer('intfloat/e5-small-v2')\n",
    "def get_embeddings(texts,prefix=\"query: \"):\n",
    "    #The E5 models expects either 'query: ' or 'passage: ' prefix\n",
    "    if not isinstance(texts, list):\n",
    "        texts = [texts]\n",
    "    prefixed = [prefix+text for text in texts]\n",
    "    embeddings = model.encode(prefixed,show_progress_bar=False)\n",
    "    return embeddings"
   ]
  },
  {
   "cell_type": "code",
   "execution_count": 4,
   "id": "3015a4dd-06d1-4508-a1d4-97edf64f968b",
   "metadata": {},
   "outputs": [],
   "source": [
    "def get_bm25_body(querystring):\n",
    "    return {\n",
    "      \"query\": {\n",
    "        \"bool\": {\n",
    "          \"should\": [\n",
    "            {\n",
    "              \"multi_match\": {\n",
    "                \"query\": querystring,\n",
    "                \"type\": \"cross_fields\",\n",
    "                \"fields\": [\"description\"],\n",
    "                \"boost\": 1.0\n",
    "              }\n",
    "            },\n",
    "            {\n",
    "              \"multi_match\": {\n",
    "                \"query\": querystring,\n",
    "                \"type\": \"cross_fields\",\n",
    "                \"fields\": [\"title\"],\n",
    "                \"boost\": 1.1\n",
    "              }\n",
    "            },\n",
    "            {\n",
    "              \"multi_match\": {\n",
    "                \"query\": querystring,\n",
    "                \"type\": \"cross_fields\",\n",
    "                \"fields\": [\"title_exactish\"],\n",
    "                \"boost\": 1.2\n",
    "              }\n",
    "            }\n",
    "          ]\n",
    "        }\n",
    "      },\n",
    "      \"_source\": {\"exclude\":[\"title_embedding\"]}\n",
    "    }"
   ]
  },
  {
   "cell_type": "code",
   "execution_count": 5,
   "id": "6abc76e2",
   "metadata": {},
   "outputs": [],
   "source": [
    "def get_knn_body(querystring):\n",
    "    embeddings = get_embeddings(querystring)\n",
    "    return {\n",
    "      \"query\": {\n",
    "        \"bool\": {\n",
    "          \"should\": [\n",
    "            {\n",
    "              \"knn\": {\n",
    "                \"title_embedding\": {\n",
    "                  \"vector\": embeddings[0],\n",
    "                  \"k\": 20\n",
    "                }\n",
    "              }\n",
    "            }\n",
    "          ]\n",
    "        }\n",
    "      },\n",
    "      \"_source\": {\"exclude\":[\"title_embedding\"]}\n",
    "    }"
   ]
  },
  {
   "cell_type": "markdown",
   "id": "c83d8993-83e8-4799-a8aa-def7783df430",
   "metadata": {},
   "source": [
    "## Hybrid Query"
   ]
  },
  {
   "cell_type": "code",
   "execution_count": 6,
   "id": "264b98ec",
   "metadata": {},
   "outputs": [],
   "source": [
    "def get_hybrid_body(querystring):\n",
    "    embeddings = get_embeddings(querystring)\n",
    "    return {\n",
    "      \"query\": {\n",
    "        \"hybrid\": {\n",
    "          \"queries\": [\n",
    "            {\n",
    "              \"bool\": {\n",
    "                \"should\": [\n",
    "                  {\n",
    "                    \"multi_match\": {\n",
    "                      \"query\": querystring,\n",
    "                      \"type\": \"cross_fields\",\n",
    "                      \"fields\": [\"description\"],\n",
    "                      \"boost\": 1.0\n",
    "                    }\n",
    "                  },\n",
    "                  {\n",
    "                    \"multi_match\": {\n",
    "                      \"query\": querystring,\n",
    "                      \"type\": \"cross_fields\",\n",
    "                      \"fields\": [\"title\"],\n",
    "                      \"boost\": 1.1\n",
    "                    }\n",
    "                  },\n",
    "                  {\n",
    "                    \"multi_match\": {\n",
    "                      \"query\": querystring,\n",
    "                      \"type\": \"cross_fields\",\n",
    "                      \"fields\": [\"title_exactish\"],\n",
    "                      \"boost\": 1.2\n",
    "                    }\n",
    "                  }\n",
    "                ]\n",
    "              }        \n",
    "            },\n",
    "            {\n",
    "              \"knn\": {\n",
    "                \"title_embedding\": {\n",
    "                  \"vector\": embeddings[0],\n",
    "                  \"k\": 100\n",
    "                }\n",
    "              }\n",
    "            }\n",
    "          ]\n",
    "        }\n",
    "      },\n",
    "      \"_source\": {\"exclude\":[\"title_embedding\"]}\n",
    "    }  "
   ]
  },
  {
   "cell_type": "code",
   "execution_count": 7,
   "id": "67e1460e-cebc-4b3e-aa0d-c0ad3ea38f61",
   "metadata": {},
   "outputs": [],
   "source": [
    "def serps(querystring,resp,k=5,show=True):\n",
    "\n",
    "    count = resp[\"hits\"][\"total\"][\"value\"]\n",
    "    results = resp[\"hits\"][\"hits\"]\n",
    "    \n",
    "    # Create an HTML string to format the results\n",
    "    html_str = f\"<h4>Showing {count} Results for <em>{querystring}</em></h4><ol>\"\n",
    "    \n",
    "    for result in results[:k]:\n",
    "        score = result.get(\"_score\")\n",
    "        title = result[\"_source\"].get(\"title\", \"No title\")\n",
    "        url = result[\"_source\"].get(\"url\", \"No title\")\n",
    "        description = result[\"_source\"].get(\"description\", None)\n",
    "        text = result[\"_source\"].get(\"text\", \"\")\n",
    "        snippet = description if description else text[:140]+\"...\"\n",
    "        \n",
    "        # Format each result as an HTML list item\n",
    "        html_str += f'<li><b>{title}</b>({score})<br>{snippet}<br><span style=\"font-size:0.8em\"><a href=\"{url}\">{url}</a></a></li>'\n",
    "    \n",
    "    html_str += \"</ol>\"\n",
    "    \n",
    "    # Display the HTML in the Jupyter Notebook\n",
    "    if show:\n",
    "        display(HTML(html_str))\n",
    "    else:\n",
    "        return html_str"
   ]
  },
  {
   "cell_type": "code",
   "execution_count": 8,
   "id": "8d249944-83c4-4df5-891a-171f26058cc2",
   "metadata": {},
   "outputs": [],
   "source": [
    "def make_normalization_pipeline(name,bm25_weight=0.5,knn_weight=0.5):\n",
    "    body = {\n",
    "      \"description\": f\"Post processor for hybrid search with bm25={bm25_weight} and knn={knn_weight}\",\n",
    "      \"phase_results_processors\": [\n",
    "        {\n",
    "          \"normalization-processor\": {\n",
    "            \"normalization\": {\n",
    "              \"technique\": \"min_max\"\n",
    "            },\n",
    "            \"combination\": {\n",
    "              \"technique\": \"arithmetic_mean\",\n",
    "              \"parameters\": {\n",
    "                \"weights\": [\n",
    "                  bm25_weight,\n",
    "                  knn_weight\n",
    "                ]\n",
    "              }\n",
    "            }\n",
    "          }\n",
    "        }\n",
    "      ]\n",
    "    }\n",
    "    resp = client.transport.perform_request(method=\"PUT\", url=\"/_search/pipeline/\"+name,body=body)\n",
    "    print(resp)"
   ]
  },
  {
   "cell_type": "code",
   "execution_count": 9,
   "id": "e29ce076-de23-4c10-9df0-87601f9ebb58",
   "metadata": {},
   "outputs": [
    {
     "name": "stdout",
     "output_type": "stream",
     "text": [
      "{'acknowledged': True}\n",
      "{'acknowledged': True}\n",
      "{'acknowledged': True}\n"
     ]
    }
   ],
   "source": [
    "make_normalization_pipeline(\"nlp-search-pipeline-equal\",bm25_weight=0.5,knn_weight=0.5)\n",
    "make_normalization_pipeline(\"nlp-search-pipeline-bm25-heavy\",bm25_weight=0.6,knn_weight=0.4)\n",
    "make_normalization_pipeline(\"nlp-search-pipeline-knn-heavy\",bm25_weight=0.4,knn_weight=0.6)"
   ]
  },
  {
   "cell_type": "code",
   "execution_count": 10,
   "id": "94e2d15c-c887-413e-8d93-bccdcac8ce2d",
   "metadata": {},
   "outputs": [],
   "source": [
    "def search(querystring,body,pipeline=\"nlp-search-pipeline-equal\",show=True):\n",
    "    resp = client.search(body=body, index=\"ai-search\", params={\"search_pipeline\":pipeline})\n",
    "    if show:\n",
    "        serps(querystring,resp)\n",
    "    return resp    \n",
    "def search_bm25(querystring,show=True):\n",
    "    body = get_bm25_body(querystring)\n",
    "    return search(querystring,body,show=show)\n",
    "def search_knn(querystring,show=True):\n",
    "    body = get_knn_body(querystring)\n",
    "    return search(querystring,body,show=show)    \n",
    "def search_hybrid(querystring,pipeline=\"nlp-search-pipeline-equal\",show=True):\n",
    "    body = get_hybrid_body(querystring)\n",
    "    return search(querystring,body,pipeline=pipeline,show=show)"
   ]
  },
  {
   "cell_type": "code",
   "execution_count": 11,
   "id": "d2628c3e-a3c2-4ff2-a3dc-f976a74d15e0",
   "metadata": {
    "scrolled": true
   },
   "outputs": [
    {
     "data": {
      "text/html": [
       "<h4>Showing 10 Results for <em>crypto scandal</em></h4><ol><li><b>Bitcoin, other cryptocurrencies plunge on wave of bad news</b>(0.5)<br>Google said it will ban cryptocurrency-related ads, the IMF called for global regulation and members of Congress slammed them at a hearing Wednesday.<br><span style=\"font-size:0.8em\"><a href=\"https://www.nbcnews.com/tech/tech-news/bitcoin-other-cryptocurrencies-plunge-wave-bad-news-n856821?cid=public-rss_20180320\">https://www.nbcnews.com/tech/tech-news/bitcoin-other-cryptocurrencies-plunge-wave-bad-news-n856821?cid=public-rss_20180320</a></a></li><li><b>AP Explains: Why are crypto exchanges vulnerable to hacks?</b>(0.5)<br>AP Explains: Why are crypto exchanges vulnerable to hacks?<br><span style=\"font-size:0.8em\"><a href=\"https://www.taiwannews.com.tw/en/news/3353987\">https://www.taiwannews.com.tw/en/news/3353987</a></a></li><li><b>‘Fraud.’ ‘More than a fad.’ The words Wall Street CEOs are using to describe bitcoin</b>(0.45704338)<br>Seems not a day goes by without some Wall Street VIP or financial luminary deciding it’s time for them to weigh in on bitcoin and cryptocurrencies. Here’s a roundup of the latest high-profile statements.<br><span style=\"font-size:0.8em\"><a href=\"http://www.marketwatch.com/story/fraud-or-the-future-how-bitcoin-is-being-described-by-billionaires-and-wall-street-ceos-2017-10-05?siteid=rss&rss=1\">http://www.marketwatch.com/story/fraud-or-the-future-how-bitcoin-is-being-described-by-billionaires-and-wall-street-ceos-2017-10-05?siteid=rss&rss=1</a></a></li><li><b>First U.S. cryptocurrency ban outlaws Venezuela’s ‘Petro’ coin</b>(0.4553313)<br>The U.S. executive branch has issued an executive order prohibiting the use or purchase of Venezuela's Petro cryptocurrency.<br><span style=\"font-size:0.8em\"><a href=\"https://www.digitaltrends.com/computing/us-bans-petro-cryptocurrency/\">https://www.digitaltrends.com/computing/us-bans-petro-cryptocurrency/</a></a></li><li><b>Trump bans US use of Venezuelan cryptocurrency - WAFB 9 News Baton Rouge, Louisiana News, Weather, Sports</b>(0.45388934)<br>By MATTHEW LEE\n",
       "AP Diplomatic Writer\n",
       "WASHINGTON (AP) - The Trump administration on Monday banned all use by Americans of Venezuelan cryptocur...<br><span style=\"font-size:0.8em\"><a href=\"http://www.wafb.com/story/37757576/trump-bans-us-use-of-venezuelan-cryptocurrency\">http://www.wafb.com/story/37757576/trump-bans-us-use-of-venezuelan-cryptocurrency</a></a></li></ol>"
      ],
      "text/plain": [
       "<IPython.core.display.HTML object>"
      ]
     },
     "metadata": {},
     "output_type": "display_data"
    }
   ],
   "source": [
    "resp = search_hybrid(\"crypto scandal\")"
   ]
  },
  {
   "cell_type": "code",
   "execution_count": 12,
   "id": "afd2a29b-a0d1-46aa-947e-85d6e8e37874",
   "metadata": {},
   "outputs": [
    {
     "data": {
      "text/html": [
       "<h4>Showing 164 Results for <em>crypto scandal</em></h4><ol><li><b>AP Explains: Why are crypto exchanges vulnerable to hacks?</b>(29.908886)<br>AP Explains: Why are crypto exchanges vulnerable to hacks?<br><span style=\"font-size:0.8em\"><a href=\"https://www.taiwannews.com.tw/en/news/3353987\">https://www.taiwannews.com.tw/en/news/3353987</a></a></li><li><b>Bitcoin loses more than half its value amid crypto crash</b>(26.140484)<br>After stratospheric growth, Bitcoin crashed below $8,000 for the first time in months amid a continuing global crypto rout.<br><span style=\"font-size:0.8em\"><a href=\"https://www.nbcnews.com/tech/internet/bitcoin-loses-more-half-its-value-amid-crypto-crash-n844056?cid=public-rss_20180203\">https://www.nbcnews.com/tech/internet/bitcoin-loses-more-half-its-value-amid-crypto-crash-n844056?cid=public-rss_20180203</a></a></li><li><b>Bitcoin loses more than half its value amid crypto crash</b>(26.140484)<br>After stratospheric growth, Bitcoin crashed below $8,000 for the first time in months amid a continuing global crypto rout.<br><span style=\"font-size:0.8em\"><a href=\"https://www.nbcnews.com/tech/internet/bitcoin-loses-more-half-its-value-amid-crypto-crash-n844056?cid=public-rss_20180202\">https://www.nbcnews.com/tech/internet/bitcoin-loses-more-half-its-value-amid-crypto-crash-n844056?cid=public-rss_20180202</a></a></li><li><b>Bitcoin loses more than half its value amid crypto crash</b>(26.140484)<br>After stratospheric growth, Bitcoin crashed below $8,000 for the first time in months amid a continuing global crypto rout.<br><span style=\"font-size:0.8em\"><a href=\"https://www.nbcnews.com/tech/internet/bitcoin-loses-more-half-its-value-amid-crypto-crash-n844056?cid=public-rss_20180204\">https://www.nbcnews.com/tech/internet/bitcoin-loses-more-half-its-value-amid-crypto-crash-n844056?cid=public-rss_20180204</a></a></li><li><b>Timeline: Irish Olympic ticket-sale scandal</b>(24.739788)<br>Timeline of events in the Rio Olympics illegal ticket-sale scandal.<br><span style=\"font-size:0.8em\"><a href=\"http://www.bbc.com/news/world-europe-37156930\">http://www.bbc.com/news/world-europe-37156930</a></a></li></ol>"
      ],
      "text/plain": [
       "<IPython.core.display.HTML object>"
      ]
     },
     "metadata": {},
     "output_type": "display_data"
    }
   ],
   "source": [
    "resp = search_bm25(\"crypto scandal\")"
   ]
  },
  {
   "cell_type": "code",
   "execution_count": 13,
   "id": "cb740118-62e6-408d-a72a-50cabb594a35",
   "metadata": {},
   "outputs": [
    {
     "data": {
      "text/html": [
       "<h4>Showing 160 Results for <em>crypto scandal</em></h4><ol><li><b>Bitcoin, other cryptocurrencies plunge on wave of bad news</b>(0.8700278)<br>Google said it will ban cryptocurrency-related ads, the IMF called for global regulation and members of Congress slammed them at a hearing Wednesday.<br><span style=\"font-size:0.8em\"><a href=\"https://www.nbcnews.com/tech/tech-news/bitcoin-other-cryptocurrencies-plunge-wave-bad-news-n856821?cid=public-rss_20180320\">https://www.nbcnews.com/tech/tech-news/bitcoin-other-cryptocurrencies-plunge-wave-bad-news-n856821?cid=public-rss_20180320</a></a></li><li><b>‘Fraud.’ ‘More than a fad.’ The words Wall Street CEOs are using to describe bitcoin</b>(0.8627866)<br>Seems not a day goes by without some Wall Street VIP or financial luminary deciding it’s time for them to weigh in on bitcoin and cryptocurrencies. Here’s a roundup of the latest high-profile statements.<br><span style=\"font-size:0.8em\"><a href=\"http://www.marketwatch.com/story/fraud-or-the-future-how-bitcoin-is-being-described-by-billionaires-and-wall-street-ceos-2017-10-05?siteid=rss&rss=1\">http://www.marketwatch.com/story/fraud-or-the-future-how-bitcoin-is-being-described-by-billionaires-and-wall-street-ceos-2017-10-05?siteid=rss&rss=1</a></a></li><li><b>First U.S. cryptocurrency ban outlaws Venezuela’s ‘Petro’ coin</b>(0.862498)<br>The U.S. executive branch has issued an executive order prohibiting the use or purchase of Venezuela's Petro cryptocurrency.<br><span style=\"font-size:0.8em\"><a href=\"https://www.digitaltrends.com/computing/us-bans-petro-cryptocurrency/\">https://www.digitaltrends.com/computing/us-bans-petro-cryptocurrency/</a></a></li><li><b>Trump bans US use of Venezuelan cryptocurrency - WAFB 9 News Baton Rouge, Louisiana News, Weather, Sports</b>(0.8622549)<br>By MATTHEW LEE\n",
       "AP Diplomatic Writer\n",
       "WASHINGTON (AP) - The Trump administration on Monday banned all use by Americans of Venezuelan cryptocur...<br><span style=\"font-size:0.8em\"><a href=\"http://www.wafb.com/story/37757576/trump-bans-us-use-of-venezuelan-cryptocurrency\">http://www.wafb.com/story/37757576/trump-bans-us-use-of-venezuelan-cryptocurrency</a></a></li><li><b>Equifax executive hit with insider trading charge for selling stock before data breach went public</b>(0.86135316)<br>A former executive for Equifax is facing criminal and anti-fraud charges after selling stock options before the company went public with the megabreach.<br><span style=\"font-size:0.8em\"><a href=\"https://www.nbcnews.com/business/business-news/equifax-executive-hit-insider-trading-charge-selling-stock-data-breach-n856601?cid=public-rss_20180320\">https://www.nbcnews.com/business/business-news/equifax-executive-hit-insider-trading-charge-selling-stock-data-breach-n856601?cid=public-rss_20180320</a></a></li></ol>"
      ],
      "text/plain": [
       "<IPython.core.display.HTML object>"
      ]
     },
     "metadata": {},
     "output_type": "display_data"
    }
   ],
   "source": [
    "resp = search_knn(\"crypto scandal\")"
   ]
  },
  {
   "cell_type": "code",
   "execution_count": 14,
   "id": "ea2badae-f6d1-4713-a3ce-de39a1148fda",
   "metadata": {},
   "outputs": [],
   "source": [
    "def search_compare(querystring,pipeline=\"nlp-search-pipeline-equal\"):\n",
    "    bm25 = serps(querystring,search_bm25(querystring,show=False),k=5,show=False)   \n",
    "    knn = serps(querystring,search_knn(querystring,show=False),k=5,show=False)   \n",
    "    hybrid = serps(querystring,search_hybrid(querystring,pipeline=pipeline,show=False),k=5,show=False)\n",
    "    html_all = f\"\"\"\n",
    "        <style>\n",
    "            .compare li {{overflow-x:hidden;width:320px!important;text-align:left;height:200px;border-bottom:1px solid #333;}}\n",
    "        </style>\n",
    "        <table class=\"compare\">\n",
    "            <tr><td>BM25</td><td>KNN</td><td>Hybrid ({pipeline})</td></tr>\n",
    "            <tr><td>{bm25}</td><td>{knn}</td><td>{hybrid}</td></tr>\n",
    "        </table>\"\"\"\n",
    "    display(HTML(html_all))"
   ]
  },
  {
   "cell_type": "code",
   "execution_count": 15,
   "id": "924d0dec-bef5-449c-a5c7-fc93551409ba",
   "metadata": {},
   "outputs": [
    {
     "data": {
      "text/html": [
       "\n",
       "        <style>\n",
       "            .compare li {overflow-x:hidden;width:320px!important;text-align:left;height:200px;border-bottom:1px solid #333;}\n",
       "        </style>\n",
       "        <table class=\"compare\">\n",
       "            <tr><td>BM25</td><td>KNN</td><td>Hybrid (nlp-search-pipeline-equal)</td></tr>\n",
       "            <tr><td><h4>Showing 697 Results for <em>property market</em></h4><ol><li><b>RICS: Property prices rise</b>(28.265697)<br>Property prices in Cyprus rose in the fourth quarter of 2017, according to RICS' latest Cyprus Property Price Index. Across Cyprus, residential prices for both houses and flats increased on...<br><span style=\"font-size:0.8em\"><a href=\"http://in-cyprus.com/news/business/rics-property-prices-rise/\">http://in-cyprus.com/news/business/rics-property-prices-rise/</a></a></li><li><b>UPDATE: Missing man found on Amamoor property</b>(25.928894)<br>Police searched property late last night.<br><span style=\"font-size:0.8em\"><a href=\"https://www.gympietimes.com.au/news/update-missing-man-found-on-amamoor-property/3212441/\">https://www.gympietimes.com.au/news/update-missing-man-found-on-amamoor-property/3212441/</a></a></li><li><b>Wisconsin property owners appeal ruling in Foxconn lawsuit</b>(24.804253)<br>Wisconsin property owners appeal ruling in Foxconn lawsuit<br><span style=\"font-size:0.8em\"><a href=\"https://www.taiwannews.com.tw/en/news/3444470\">https://www.taiwannews.com.tw/en/news/3444470</a></a></li><li><b>Emerging threats in intellectual property crime</b>(24.485067)<br>Experts from across Europe are meeting at the Scottish Police College to discuss the emerging threats in intellectual property crime particularly the illegal use of Internet protocol television (IPTV).<br><span style=\"font-size:0.8em\"><a href=\"http://www.motherwelltimes.co.uk/news/crime/emerging-threats-in-intellectual-property-crime-1-4422203\">http://www.motherwelltimes.co.uk/news/crime/emerging-threats-in-intellectual-property-crime-1-4422203</a></a></li><li><b>Miami police officer charged with Costa Rica property fraud</b>(23.77859)<br>Miami police officer charged with Costa Rica property fraud<br><span style=\"font-size:0.8em\"><a href=\"https://www.taiwannews.com.tw/en/news/3354451\">https://www.taiwannews.com.tw/en/news/3354451</a></a></li></ol></td><td><h4>Showing 160 Results for <em>property market</em></h4><ol><li><b>Prices and homes listed up, sales down in Metro Vancouver real estate market</b>(0.86415094)<br>VANCOUVER — The supply of homes in Metro Vancouver’s real estate market hit a three-year high as sales dipped below historical averages last month.The Real Estate Board of Greater Vancouver reports there were 2,425 home sales last month, a 37.7 per cent decline from June 2017.<br><span style=\"font-size:0.8em\"><a href=\"https://nationalpost.com/pmn/news-pmn/canada-news-pmn/prices-and-homes-listed-up-sales-down-in-metro-vancouver-real-estate-market\">https://nationalpost.com/pmn/news-pmn/canada-news-pmn/prices-and-homes-listed-up-sales-down-in-metro-vancouver-real-estate-market</a></a></li><li><b>Given strong Tampa Bay housing market, is it better to rent or buy?</b>(0.86327225)<br>There's a simple formula to help you determine whether it makes more sense to rent or buy a home in the Tampa Bay area.<br><span style=\"font-size:0.8em\"><a href=\"http://wfla.com/2017/02/15/given-strong-tampa-bay-housing-market-is-it-better-to-rent-or-buy/\">http://wfla.com/2017/02/15/given-strong-tampa-bay-housing-market-is-it-better-to-rent-or-buy/</a></a></li><li><b>Feb. home prices soar 6.3 pct in a fierce competition to buy - WAFB 9 News Baton Rouge, Louisiana News, Weather, Sports</b>(0.86007315)<br>(AP Photo/Marcio Jose Sanchez, File). FILE - In this March 6, 2018, photo a home across the street from the Apple campus is advertised as so...<br><span style=\"font-size:0.8em\"><a href=\"http://www.wafb.com/story/38027558/feb-home-prices-soar-63-pct-in-a-fierce-competition-to-buy\">http://www.wafb.com/story/38027558/feb-home-prices-soar-63-pct-in-a-fierce-competition-to-buy</a></a></li><li><b>What’s On Listings 31 May-6 Jun</b>(0.8567229)<br>To announce an event or gig, call 01772 838196 or email whatson@lep.co.uk<br><span style=\"font-size:0.8em\"><a href=\"https://www.lep.co.uk/whats-on/what-s-on-listings-31-may-6-jun-1-9185417\">https://www.lep.co.uk/whats-on/what-s-on-listings-31-may-6-jun-1-9185417</a></a></li><li><b>The most ‘ingenious’ real estate deals in New York City</b>(0.8559661)<br>Each spring, commercial real estate pros vie for the Real Estate Board of New York’s Most Ingenious Deal of the Year Awards.\n",
       "For the 73rd annual contest, the...<br><span style=\"font-size:0.8em\"><a href=\"https://nypost.com/2018/03/19/the-most-ingenious-real-estate-deals-in-new-york-city/\">https://nypost.com/2018/03/19/the-most-ingenious-real-estate-deals-in-new-york-city/</a></a></li></ol></td><td><h4>Showing 10 Results for <em>property market</em></h4><ol><li><b>RICS: Property prices rise</b>(0.5)<br>Property prices in Cyprus rose in the fourth quarter of 2017, according to RICS' latest Cyprus Property Price Index. Across Cyprus, residential prices for both houses and flats increased on...<br><span style=\"font-size:0.8em\"><a href=\"http://in-cyprus.com/news/business/rics-property-prices-rise/\">http://in-cyprus.com/news/business/rics-property-prices-rise/</a></a></li><li><b>Prices and homes listed up, sales down in Metro Vancouver real estate market</b>(0.5)<br>VANCOUVER — The supply of homes in Metro Vancouver’s real estate market hit a three-year high as sales dipped below historical averages last month.The Real Estate Board of Greater Vancouver reports there were 2,425 home sales last month, a 37.7 per cent decline from June 2017.<br><span style=\"font-size:0.8em\"><a href=\"https://nationalpost.com/pmn/news-pmn/canada-news-pmn/prices-and-homes-listed-up-sales-down-in-metro-vancouver-real-estate-market\">https://nationalpost.com/pmn/news-pmn/canada-news-pmn/prices-and-homes-listed-up-sales-down-in-metro-vancouver-real-estate-market</a></a></li><li><b>Given strong Tampa Bay housing market, is it better to rent or buy?</b>(0.494291)<br>There's a simple formula to help you determine whether it makes more sense to rent or buy a home in the Tampa Bay area.<br><span style=\"font-size:0.8em\"><a href=\"http://wfla.com/2017/02/15/given-strong-tampa-bay-housing-market-is-it-better-to-rent-or-buy/\">http://wfla.com/2017/02/15/given-strong-tampa-bay-housing-market-is-it-better-to-rent-or-buy/</a></a></li><li><b>Feb. home prices soar 6.3 pct in a fierce competition to buy - WAFB 9 News Baton Rouge, Louisiana News, Weather, Sports</b>(0.473506)<br>(AP Photo/Marcio Jose Sanchez, File). FILE - In this March 6, 2018, photo a home across the street from the Apple campus is advertised as so...<br><span style=\"font-size:0.8em\"><a href=\"http://www.wafb.com/story/38027558/feb-home-prices-soar-63-pct-in-a-fierce-competition-to-buy\">http://www.wafb.com/story/38027558/feb-home-prices-soar-63-pct-in-a-fierce-competition-to-buy</a></a></li><li><b>What’s On Listings 31 May-6 Jun</b>(0.45173892)<br>To announce an event or gig, call 01772 838196 or email whatson@lep.co.uk<br><span style=\"font-size:0.8em\"><a href=\"https://www.lep.co.uk/whats-on/what-s-on-listings-31-may-6-jun-1-9185417\">https://www.lep.co.uk/whats-on/what-s-on-listings-31-may-6-jun-1-9185417</a></a></li></ol></td></tr>\n",
       "        </table>"
      ],
      "text/plain": [
       "<IPython.core.display.HTML object>"
      ]
     },
     "metadata": {},
     "output_type": "display_data"
    }
   ],
   "source": [
    "search_compare(\"property market\",pipeline=\"nlp-search-pipeline-equal\")"
   ]
  },
  {
   "cell_type": "code",
   "execution_count": 16,
   "id": "be1a100e-eb3c-431e-b346-12c4a981f4d1",
   "metadata": {},
   "outputs": [
    {
     "data": {
      "text/html": [
       "\n",
       "        <style>\n",
       "            .compare li {overflow-x:hidden;width:320px!important;text-align:left;height:200px;border-bottom:1px solid #333;}\n",
       "        </style>\n",
       "        <table class=\"compare\">\n",
       "            <tr><td>BM25</td><td>KNN</td><td>Hybrid (nlp-search-pipeline-bm25-heavy)</td></tr>\n",
       "            <tr><td><h4>Showing 697 Results for <em>property market</em></h4><ol><li><b>RICS: Property prices rise</b>(28.265697)<br>Property prices in Cyprus rose in the fourth quarter of 2017, according to RICS' latest Cyprus Property Price Index. Across Cyprus, residential prices for both houses and flats increased on...<br><span style=\"font-size:0.8em\"><a href=\"http://in-cyprus.com/news/business/rics-property-prices-rise/\">http://in-cyprus.com/news/business/rics-property-prices-rise/</a></a></li><li><b>UPDATE: Missing man found on Amamoor property</b>(25.928894)<br>Police searched property late last night.<br><span style=\"font-size:0.8em\"><a href=\"https://www.gympietimes.com.au/news/update-missing-man-found-on-amamoor-property/3212441/\">https://www.gympietimes.com.au/news/update-missing-man-found-on-amamoor-property/3212441/</a></a></li><li><b>Wisconsin property owners appeal ruling in Foxconn lawsuit</b>(24.804253)<br>Wisconsin property owners appeal ruling in Foxconn lawsuit<br><span style=\"font-size:0.8em\"><a href=\"https://www.taiwannews.com.tw/en/news/3444470\">https://www.taiwannews.com.tw/en/news/3444470</a></a></li><li><b>Emerging threats in intellectual property crime</b>(24.485067)<br>Experts from across Europe are meeting at the Scottish Police College to discuss the emerging threats in intellectual property crime particularly the illegal use of Internet protocol television (IPTV).<br><span style=\"font-size:0.8em\"><a href=\"http://www.motherwelltimes.co.uk/news/crime/emerging-threats-in-intellectual-property-crime-1-4422203\">http://www.motherwelltimes.co.uk/news/crime/emerging-threats-in-intellectual-property-crime-1-4422203</a></a></li><li><b>Miami police officer charged with Costa Rica property fraud</b>(23.77859)<br>Miami police officer charged with Costa Rica property fraud<br><span style=\"font-size:0.8em\"><a href=\"https://www.taiwannews.com.tw/en/news/3354451\">https://www.taiwannews.com.tw/en/news/3354451</a></a></li></ol></td><td><h4>Showing 160 Results for <em>property market</em></h4><ol><li><b>Prices and homes listed up, sales down in Metro Vancouver real estate market</b>(0.86415094)<br>VANCOUVER — The supply of homes in Metro Vancouver’s real estate market hit a three-year high as sales dipped below historical averages last month.The Real Estate Board of Greater Vancouver reports there were 2,425 home sales last month, a 37.7 per cent decline from June 2017.<br><span style=\"font-size:0.8em\"><a href=\"https://nationalpost.com/pmn/news-pmn/canada-news-pmn/prices-and-homes-listed-up-sales-down-in-metro-vancouver-real-estate-market\">https://nationalpost.com/pmn/news-pmn/canada-news-pmn/prices-and-homes-listed-up-sales-down-in-metro-vancouver-real-estate-market</a></a></li><li><b>Given strong Tampa Bay housing market, is it better to rent or buy?</b>(0.86327225)<br>There's a simple formula to help you determine whether it makes more sense to rent or buy a home in the Tampa Bay area.<br><span style=\"font-size:0.8em\"><a href=\"http://wfla.com/2017/02/15/given-strong-tampa-bay-housing-market-is-it-better-to-rent-or-buy/\">http://wfla.com/2017/02/15/given-strong-tampa-bay-housing-market-is-it-better-to-rent-or-buy/</a></a></li><li><b>Feb. home prices soar 6.3 pct in a fierce competition to buy - WAFB 9 News Baton Rouge, Louisiana News, Weather, Sports</b>(0.86007315)<br>(AP Photo/Marcio Jose Sanchez, File). FILE - In this March 6, 2018, photo a home across the street from the Apple campus is advertised as so...<br><span style=\"font-size:0.8em\"><a href=\"http://www.wafb.com/story/38027558/feb-home-prices-soar-63-pct-in-a-fierce-competition-to-buy\">http://www.wafb.com/story/38027558/feb-home-prices-soar-63-pct-in-a-fierce-competition-to-buy</a></a></li><li><b>What’s On Listings 31 May-6 Jun</b>(0.8567229)<br>To announce an event or gig, call 01772 838196 or email whatson@lep.co.uk<br><span style=\"font-size:0.8em\"><a href=\"https://www.lep.co.uk/whats-on/what-s-on-listings-31-may-6-jun-1-9185417\">https://www.lep.co.uk/whats-on/what-s-on-listings-31-may-6-jun-1-9185417</a></a></li><li><b>The most ‘ingenious’ real estate deals in New York City</b>(0.8559661)<br>Each spring, commercial real estate pros vie for the Real Estate Board of New York’s Most Ingenious Deal of the Year Awards.\n",
       "For the 73rd annual contest, the...<br><span style=\"font-size:0.8em\"><a href=\"https://nypost.com/2018/03/19/the-most-ingenious-real-estate-deals-in-new-york-city/\">https://nypost.com/2018/03/19/the-most-ingenious-real-estate-deals-in-new-york-city/</a></a></li></ol></td><td><h4>Showing 10 Results for <em>property market</em></h4><ol><li><b>RICS: Property prices rise</b>(0.6)<br>Property prices in Cyprus rose in the fourth quarter of 2017, according to RICS' latest Cyprus Property Price Index. Across Cyprus, residential prices for both houses and flats increased on...<br><span style=\"font-size:0.8em\"><a href=\"http://in-cyprus.com/news/business/rics-property-prices-rise/\">http://in-cyprus.com/news/business/rics-property-prices-rise/</a></a></li><li><b>UPDATE: Missing man found on Amamoor property</b>(0.51420647)<br>Police searched property late last night.<br><span style=\"font-size:0.8em\"><a href=\"https://www.gympietimes.com.au/news/update-missing-man-found-on-amamoor-property/3212441/\">https://www.gympietimes.com.au/news/update-missing-man-found-on-amamoor-property/3212441/</a></a></li><li><b>Wisconsin property owners appeal ruling in Foxconn lawsuit</b>(0.47291628)<br>Wisconsin property owners appeal ruling in Foxconn lawsuit<br><span style=\"font-size:0.8em\"><a href=\"https://www.taiwannews.com.tw/en/news/3444470\">https://www.taiwannews.com.tw/en/news/3444470</a></a></li><li><b>Emerging threats in intellectual property crime</b>(0.46119767)<br>Experts from across Europe are meeting at the Scottish Police College to discuss the emerging threats in intellectual property crime particularly the illegal use of Internet protocol television (IPTV).<br><span style=\"font-size:0.8em\"><a href=\"http://www.motherwelltimes.co.uk/news/crime/emerging-threats-in-intellectual-property-crime-1-4422203\">http://www.motherwelltimes.co.uk/news/crime/emerging-threats-in-intellectual-property-crime-1-4422203</a></a></li><li><b>Miami police officer charged with Costa Rica property fraud</b>(0.43526)<br>Miami police officer charged with Costa Rica property fraud<br><span style=\"font-size:0.8em\"><a href=\"https://www.taiwannews.com.tw/en/news/3354451\">https://www.taiwannews.com.tw/en/news/3354451</a></a></li></ol></td></tr>\n",
       "        </table>"
      ],
      "text/plain": [
       "<IPython.core.display.HTML object>"
      ]
     },
     "metadata": {},
     "output_type": "display_data"
    }
   ],
   "source": [
    "search_compare(\"property market\",pipeline=\"nlp-search-pipeline-bm25-heavy\")"
   ]
  },
  {
   "cell_type": "code",
   "execution_count": 17,
   "id": "8fa59148-296f-4913-ab4f-6457f223d401",
   "metadata": {},
   "outputs": [
    {
     "data": {
      "text/html": [
       "\n",
       "        <style>\n",
       "            .compare li {overflow-x:hidden;width:320px!important;text-align:left;height:200px;border-bottom:1px solid #333;}\n",
       "        </style>\n",
       "        <table class=\"compare\">\n",
       "            <tr><td>BM25</td><td>KNN</td><td>Hybrid (nlp-search-pipeline-knn-heavy)</td></tr>\n",
       "            <tr><td><h4>Showing 697 Results for <em>property market</em></h4><ol><li><b>RICS: Property prices rise</b>(28.265697)<br>Property prices in Cyprus rose in the fourth quarter of 2017, according to RICS' latest Cyprus Property Price Index. Across Cyprus, residential prices for both houses and flats increased on...<br><span style=\"font-size:0.8em\"><a href=\"http://in-cyprus.com/news/business/rics-property-prices-rise/\">http://in-cyprus.com/news/business/rics-property-prices-rise/</a></a></li><li><b>UPDATE: Missing man found on Amamoor property</b>(25.928894)<br>Police searched property late last night.<br><span style=\"font-size:0.8em\"><a href=\"https://www.gympietimes.com.au/news/update-missing-man-found-on-amamoor-property/3212441/\">https://www.gympietimes.com.au/news/update-missing-man-found-on-amamoor-property/3212441/</a></a></li><li><b>Wisconsin property owners appeal ruling in Foxconn lawsuit</b>(24.804253)<br>Wisconsin property owners appeal ruling in Foxconn lawsuit<br><span style=\"font-size:0.8em\"><a href=\"https://www.taiwannews.com.tw/en/news/3444470\">https://www.taiwannews.com.tw/en/news/3444470</a></a></li><li><b>Emerging threats in intellectual property crime</b>(24.485067)<br>Experts from across Europe are meeting at the Scottish Police College to discuss the emerging threats in intellectual property crime particularly the illegal use of Internet protocol television (IPTV).<br><span style=\"font-size:0.8em\"><a href=\"http://www.motherwelltimes.co.uk/news/crime/emerging-threats-in-intellectual-property-crime-1-4422203\">http://www.motherwelltimes.co.uk/news/crime/emerging-threats-in-intellectual-property-crime-1-4422203</a></a></li><li><b>Miami police officer charged with Costa Rica property fraud</b>(23.77859)<br>Miami police officer charged with Costa Rica property fraud<br><span style=\"font-size:0.8em\"><a href=\"https://www.taiwannews.com.tw/en/news/3354451\">https://www.taiwannews.com.tw/en/news/3354451</a></a></li></ol></td><td><h4>Showing 160 Results for <em>property market</em></h4><ol><li><b>Prices and homes listed up, sales down in Metro Vancouver real estate market</b>(0.86415094)<br>VANCOUVER — The supply of homes in Metro Vancouver’s real estate market hit a three-year high as sales dipped below historical averages last month.The Real Estate Board of Greater Vancouver reports there were 2,425 home sales last month, a 37.7 per cent decline from June 2017.<br><span style=\"font-size:0.8em\"><a href=\"https://nationalpost.com/pmn/news-pmn/canada-news-pmn/prices-and-homes-listed-up-sales-down-in-metro-vancouver-real-estate-market\">https://nationalpost.com/pmn/news-pmn/canada-news-pmn/prices-and-homes-listed-up-sales-down-in-metro-vancouver-real-estate-market</a></a></li><li><b>Given strong Tampa Bay housing market, is it better to rent or buy?</b>(0.86327225)<br>There's a simple formula to help you determine whether it makes more sense to rent or buy a home in the Tampa Bay area.<br><span style=\"font-size:0.8em\"><a href=\"http://wfla.com/2017/02/15/given-strong-tampa-bay-housing-market-is-it-better-to-rent-or-buy/\">http://wfla.com/2017/02/15/given-strong-tampa-bay-housing-market-is-it-better-to-rent-or-buy/</a></a></li><li><b>Feb. home prices soar 6.3 pct in a fierce competition to buy - WAFB 9 News Baton Rouge, Louisiana News, Weather, Sports</b>(0.86007315)<br>(AP Photo/Marcio Jose Sanchez, File). FILE - In this March 6, 2018, photo a home across the street from the Apple campus is advertised as so...<br><span style=\"font-size:0.8em\"><a href=\"http://www.wafb.com/story/38027558/feb-home-prices-soar-63-pct-in-a-fierce-competition-to-buy\">http://www.wafb.com/story/38027558/feb-home-prices-soar-63-pct-in-a-fierce-competition-to-buy</a></a></li><li><b>What’s On Listings 31 May-6 Jun</b>(0.8567229)<br>To announce an event or gig, call 01772 838196 or email whatson@lep.co.uk<br><span style=\"font-size:0.8em\"><a href=\"https://www.lep.co.uk/whats-on/what-s-on-listings-31-may-6-jun-1-9185417\">https://www.lep.co.uk/whats-on/what-s-on-listings-31-may-6-jun-1-9185417</a></a></li><li><b>The most ‘ingenious’ real estate deals in New York City</b>(0.8559661)<br>Each spring, commercial real estate pros vie for the Real Estate Board of New York’s Most Ingenious Deal of the Year Awards.\n",
       "For the 73rd annual contest, the...<br><span style=\"font-size:0.8em\"><a href=\"https://nypost.com/2018/03/19/the-most-ingenious-real-estate-deals-in-new-york-city/\">https://nypost.com/2018/03/19/the-most-ingenious-real-estate-deals-in-new-york-city/</a></a></li></ol></td><td><h4>Showing 10 Results for <em>property market</em></h4><ol><li><b>Prices and homes listed up, sales down in Metro Vancouver real estate market</b>(0.6)<br>VANCOUVER — The supply of homes in Metro Vancouver’s real estate market hit a three-year high as sales dipped below historical averages last month.The Real Estate Board of Greater Vancouver reports there were 2,425 home sales last month, a 37.7 per cent decline from June 2017.<br><span style=\"font-size:0.8em\"><a href=\"https://nationalpost.com/pmn/news-pmn/canada-news-pmn/prices-and-homes-listed-up-sales-down-in-metro-vancouver-real-estate-market\">https://nationalpost.com/pmn/news-pmn/canada-news-pmn/prices-and-homes-listed-up-sales-down-in-metro-vancouver-real-estate-market</a></a></li><li><b>Given strong Tampa Bay housing market, is it better to rent or buy?</b>(0.59314924)<br>There's a simple formula to help you determine whether it makes more sense to rent or buy a home in the Tampa Bay area.<br><span style=\"font-size:0.8em\"><a href=\"http://wfla.com/2017/02/15/given-strong-tampa-bay-housing-market-is-it-better-to-rent-or-buy/\">http://wfla.com/2017/02/15/given-strong-tampa-bay-housing-market-is-it-better-to-rent-or-buy/</a></a></li><li><b>Feb. home prices soar 6.3 pct in a fierce competition to buy - WAFB 9 News Baton Rouge, Louisiana News, Weather, Sports</b>(0.5682072)<br>(AP Photo/Marcio Jose Sanchez, File). FILE - In this March 6, 2018, photo a home across the street from the Apple campus is advertised as so...<br><span style=\"font-size:0.8em\"><a href=\"http://www.wafb.com/story/38027558/feb-home-prices-soar-63-pct-in-a-fierce-competition-to-buy\">http://www.wafb.com/story/38027558/feb-home-prices-soar-63-pct-in-a-fierce-competition-to-buy</a></a></li><li><b>What’s On Listings 31 May-6 Jun</b>(0.5420867)<br>To announce an event or gig, call 01772 838196 or email whatson@lep.co.uk<br><span style=\"font-size:0.8em\"><a href=\"https://www.lep.co.uk/whats-on/what-s-on-listings-31-may-6-jun-1-9185417\">https://www.lep.co.uk/whats-on/what-s-on-listings-31-may-6-jun-1-9185417</a></a></li><li><b>The most ‘ingenious’ real estate deals in New York City</b>(0.5361863)<br>Each spring, commercial real estate pros vie for the Real Estate Board of New York’s Most Ingenious Deal of the Year Awards.\n",
       "For the 73rd annual contest, the...<br><span style=\"font-size:0.8em\"><a href=\"https://nypost.com/2018/03/19/the-most-ingenious-real-estate-deals-in-new-york-city/\">https://nypost.com/2018/03/19/the-most-ingenious-real-estate-deals-in-new-york-city/</a></a></li></ol></td></tr>\n",
       "        </table>"
      ],
      "text/plain": [
       "<IPython.core.display.HTML object>"
      ]
     },
     "metadata": {},
     "output_type": "display_data"
    }
   ],
   "source": [
    "search_compare(\"property market\",pipeline=\"nlp-search-pipeline-knn-heavy\")"
   ]
  },
  {
   "cell_type": "code",
   "execution_count": 18,
   "id": "4b920d71-71b1-4a37-a828-bd29d881fc5e",
   "metadata": {},
   "outputs": [
    {
     "data": {
      "text/html": [
       "\n",
       "        <style>\n",
       "            .compare li {overflow-x:hidden;width:320px!important;text-align:left;height:200px;border-bottom:1px solid #333;}\n",
       "        </style>\n",
       "        <table class=\"compare\">\n",
       "            <tr><td>BM25</td><td>KNN</td><td>Hybrid (nlp-search-pipeline-equal)</td></tr>\n",
       "            <tr><td><h4>Showing 164 Results for <em>crypto scandal</em></h4><ol><li><b>AP Explains: Why are crypto exchanges vulnerable to hacks?</b>(29.908886)<br>AP Explains: Why are crypto exchanges vulnerable to hacks?<br><span style=\"font-size:0.8em\"><a href=\"https://www.taiwannews.com.tw/en/news/3353987\">https://www.taiwannews.com.tw/en/news/3353987</a></a></li><li><b>Bitcoin loses more than half its value amid crypto crash</b>(26.140484)<br>After stratospheric growth, Bitcoin crashed below $8,000 for the first time in months amid a continuing global crypto rout.<br><span style=\"font-size:0.8em\"><a href=\"https://www.nbcnews.com/tech/internet/bitcoin-loses-more-half-its-value-amid-crypto-crash-n844056?cid=public-rss_20180203\">https://www.nbcnews.com/tech/internet/bitcoin-loses-more-half-its-value-amid-crypto-crash-n844056?cid=public-rss_20180203</a></a></li><li><b>Bitcoin loses more than half its value amid crypto crash</b>(26.140484)<br>After stratospheric growth, Bitcoin crashed below $8,000 for the first time in months amid a continuing global crypto rout.<br><span style=\"font-size:0.8em\"><a href=\"https://www.nbcnews.com/tech/internet/bitcoin-loses-more-half-its-value-amid-crypto-crash-n844056?cid=public-rss_20180202\">https://www.nbcnews.com/tech/internet/bitcoin-loses-more-half-its-value-amid-crypto-crash-n844056?cid=public-rss_20180202</a></a></li><li><b>Bitcoin loses more than half its value amid crypto crash</b>(26.140484)<br>After stratospheric growth, Bitcoin crashed below $8,000 for the first time in months amid a continuing global crypto rout.<br><span style=\"font-size:0.8em\"><a href=\"https://www.nbcnews.com/tech/internet/bitcoin-loses-more-half-its-value-amid-crypto-crash-n844056?cid=public-rss_20180204\">https://www.nbcnews.com/tech/internet/bitcoin-loses-more-half-its-value-amid-crypto-crash-n844056?cid=public-rss_20180204</a></a></li><li><b>Timeline: Irish Olympic ticket-sale scandal</b>(24.739788)<br>Timeline of events in the Rio Olympics illegal ticket-sale scandal.<br><span style=\"font-size:0.8em\"><a href=\"http://www.bbc.com/news/world-europe-37156930\">http://www.bbc.com/news/world-europe-37156930</a></a></li></ol></td><td><h4>Showing 160 Results for <em>crypto scandal</em></h4><ol><li><b>Bitcoin, other cryptocurrencies plunge on wave of bad news</b>(0.8700278)<br>Google said it will ban cryptocurrency-related ads, the IMF called for global regulation and members of Congress slammed them at a hearing Wednesday.<br><span style=\"font-size:0.8em\"><a href=\"https://www.nbcnews.com/tech/tech-news/bitcoin-other-cryptocurrencies-plunge-wave-bad-news-n856821?cid=public-rss_20180320\">https://www.nbcnews.com/tech/tech-news/bitcoin-other-cryptocurrencies-plunge-wave-bad-news-n856821?cid=public-rss_20180320</a></a></li><li><b>‘Fraud.’ ‘More than a fad.’ The words Wall Street CEOs are using to describe bitcoin</b>(0.8627866)<br>Seems not a day goes by without some Wall Street VIP or financial luminary deciding it’s time for them to weigh in on bitcoin and cryptocurrencies. Here’s a roundup of the latest high-profile statements.<br><span style=\"font-size:0.8em\"><a href=\"http://www.marketwatch.com/story/fraud-or-the-future-how-bitcoin-is-being-described-by-billionaires-and-wall-street-ceos-2017-10-05?siteid=rss&rss=1\">http://www.marketwatch.com/story/fraud-or-the-future-how-bitcoin-is-being-described-by-billionaires-and-wall-street-ceos-2017-10-05?siteid=rss&rss=1</a></a></li><li><b>First U.S. cryptocurrency ban outlaws Venezuela’s ‘Petro’ coin</b>(0.862498)<br>The U.S. executive branch has issued an executive order prohibiting the use or purchase of Venezuela's Petro cryptocurrency.<br><span style=\"font-size:0.8em\"><a href=\"https://www.digitaltrends.com/computing/us-bans-petro-cryptocurrency/\">https://www.digitaltrends.com/computing/us-bans-petro-cryptocurrency/</a></a></li><li><b>Trump bans US use of Venezuelan cryptocurrency - WAFB 9 News Baton Rouge, Louisiana News, Weather, Sports</b>(0.8622549)<br>By MATTHEW LEE\n",
       "AP Diplomatic Writer\n",
       "WASHINGTON (AP) - The Trump administration on Monday banned all use by Americans of Venezuelan cryptocur...<br><span style=\"font-size:0.8em\"><a href=\"http://www.wafb.com/story/37757576/trump-bans-us-use-of-venezuelan-cryptocurrency\">http://www.wafb.com/story/37757576/trump-bans-us-use-of-venezuelan-cryptocurrency</a></a></li><li><b>Equifax executive hit with insider trading charge for selling stock before data breach went public</b>(0.86135316)<br>A former executive for Equifax is facing criminal and anti-fraud charges after selling stock options before the company went public with the megabreach.<br><span style=\"font-size:0.8em\"><a href=\"https://www.nbcnews.com/business/business-news/equifax-executive-hit-insider-trading-charge-selling-stock-data-breach-n856601?cid=public-rss_20180320\">https://www.nbcnews.com/business/business-news/equifax-executive-hit-insider-trading-charge-selling-stock-data-breach-n856601?cid=public-rss_20180320</a></a></li></ol></td><td><h4>Showing 10 Results for <em>crypto scandal</em></h4><ol><li><b>Bitcoin, other cryptocurrencies plunge on wave of bad news</b>(0.5)<br>Google said it will ban cryptocurrency-related ads, the IMF called for global regulation and members of Congress slammed them at a hearing Wednesday.<br><span style=\"font-size:0.8em\"><a href=\"https://www.nbcnews.com/tech/tech-news/bitcoin-other-cryptocurrencies-plunge-wave-bad-news-n856821?cid=public-rss_20180320\">https://www.nbcnews.com/tech/tech-news/bitcoin-other-cryptocurrencies-plunge-wave-bad-news-n856821?cid=public-rss_20180320</a></a></li><li><b>AP Explains: Why are crypto exchanges vulnerable to hacks?</b>(0.5)<br>AP Explains: Why are crypto exchanges vulnerable to hacks?<br><span style=\"font-size:0.8em\"><a href=\"https://www.taiwannews.com.tw/en/news/3353987\">https://www.taiwannews.com.tw/en/news/3353987</a></a></li><li><b>‘Fraud.’ ‘More than a fad.’ The words Wall Street CEOs are using to describe bitcoin</b>(0.45704338)<br>Seems not a day goes by without some Wall Street VIP or financial luminary deciding it’s time for them to weigh in on bitcoin and cryptocurrencies. Here’s a roundup of the latest high-profile statements.<br><span style=\"font-size:0.8em\"><a href=\"http://www.marketwatch.com/story/fraud-or-the-future-how-bitcoin-is-being-described-by-billionaires-and-wall-street-ceos-2017-10-05?siteid=rss&rss=1\">http://www.marketwatch.com/story/fraud-or-the-future-how-bitcoin-is-being-described-by-billionaires-and-wall-street-ceos-2017-10-05?siteid=rss&rss=1</a></a></li><li><b>First U.S. cryptocurrency ban outlaws Venezuela’s ‘Petro’ coin</b>(0.4553313)<br>The U.S. executive branch has issued an executive order prohibiting the use or purchase of Venezuela's Petro cryptocurrency.<br><span style=\"font-size:0.8em\"><a href=\"https://www.digitaltrends.com/computing/us-bans-petro-cryptocurrency/\">https://www.digitaltrends.com/computing/us-bans-petro-cryptocurrency/</a></a></li><li><b>Trump bans US use of Venezuelan cryptocurrency - WAFB 9 News Baton Rouge, Louisiana News, Weather, Sports</b>(0.45388934)<br>By MATTHEW LEE\n",
       "AP Diplomatic Writer\n",
       "WASHINGTON (AP) - The Trump administration on Monday banned all use by Americans of Venezuelan cryptocur...<br><span style=\"font-size:0.8em\"><a href=\"http://www.wafb.com/story/37757576/trump-bans-us-use-of-venezuelan-cryptocurrency\">http://www.wafb.com/story/37757576/trump-bans-us-use-of-venezuelan-cryptocurrency</a></a></li></ol></td></tr>\n",
       "        </table>"
      ],
      "text/plain": [
       "<IPython.core.display.HTML object>"
      ]
     },
     "metadata": {},
     "output_type": "display_data"
    }
   ],
   "source": [
    "search_compare(\"crypto scandal\")"
   ]
  },
  {
   "cell_type": "code",
   "execution_count": 19,
   "id": "b43cf988-e82b-4317-978e-f1c6129a8021",
   "metadata": {},
   "outputs": [
    {
     "data": {
      "text/html": [
       "\n",
       "        <style>\n",
       "            .compare li {overflow-x:hidden;width:320px!important;text-align:left;height:200px;border-bottom:1px solid #333;}\n",
       "        </style>\n",
       "        <table class=\"compare\">\n",
       "            <tr><td>BM25</td><td>KNN</td><td>Hybrid (nlp-search-pipeline-equal)</td></tr>\n",
       "            <tr><td><h4>Showing 2741 Results for <em>US economic recovery</em></h4><ol><li><b>Palestinian protesters disrupt US economic meeting</b>(39.690376)<br>Palestinian protesters disrupt US economic meeting<br><span style=\"font-size:0.8em\"><a href=\"https://www.taiwannews.com.tw/en/news/3354307\">https://www.taiwannews.com.tw/en/news/3354307</a></a></li><li><b>Top EU economic powers warn US about tax plans</b>(34.88208)<br>Top EU economic powers warn US about tax plans<br><span style=\"font-size:0.8em\"><a href=\"http://abcnews.go.com/International/wireStory/top-eu-economies-warn-us-tax-plans-51719036\">http://abcnews.go.com/International/wireStory/top-eu-economies-warn-us-tax-plans-51719036</a></a></li><li><b>2017: Obaseki assures Edo poeple of speedy economic recovery</b>(33.060455)<br>2017: Obaseki assures Edo poeple of speedy economic recovery\n",
       "Jethro Ibileke/Benin Edo state Governor, Mr. Godwin Obaseki, has assured the pe...<br><span style=\"font-size:0.8em\"><a href=\"http://www.nigeriatoday.ng/2017/01/2017-obaseki-assures-edo-poeple-of-speedy-economic-recovery/\">http://www.nigeriatoday.ng/2017/01/2017-obaseki-assures-edo-poeple-of-speedy-economic-recovery/</a></a></li><li><b>Building Institutional Capacity Vital for Nigeria’s Economic Recovery, Says Udoma</b>(31.54887)<br>Building Institutional Capacity Vital for Nigeria’s Economic Recovery, Says Udoma\n",
       "Carol Oku\n",
       "The Ministry of Budget and National Planning has...<br><span style=\"font-size:0.8em\"><a href=\"http://www.nigeriatoday.ng/2017/06/building-institutional-capacity-vital-for-nigerias-economic-recovery-says-udoma/\">http://www.nigeriatoday.ng/2017/06/building-institutional-capacity-vital-for-nigerias-economic-recovery-says-udoma/</a></a></li><li><b>Building Institutional Capacity Vital for Nigeria’s Economic Recovery, Says Udoma</b>(31.54887)<br>Building Institutional Capacity Vital for Nigeria’s Economic Recovery, Says Udoma\n",
       "Carol Oku\n",
       "The Ministry of Budget and National Planning has...<br><span style=\"font-size:0.8em\"><a href=\"https://www.nigeriatoday.ng/2017/06/building-institutional-capacity-vital-for-nigerias-economic-recovery-says-udoma/\">https://www.nigeriatoday.ng/2017/06/building-institutional-capacity-vital-for-nigerias-economic-recovery-says-udoma/</a></a></li></ol></td><td><h4>Showing 160 Results for <em>US economic recovery</em></h4><ol><li><b>US consumer confidence rebounds in April - WAFB 9 News Baton Rouge, Louisiana News, Weather, Sports</b>(0.87827176)<br>(AP Photo/Elise Amendola, File). FILE- In this April 9, 2018, file photo shoppers walk in a mall in Salem, N.H. On Tuesday, April 25, the Co...<br><span style=\"font-size:0.8em\"><a href=\"http://www.wafb.com/story/38028414/us-consumer-confidence-rebounds-in-april\">http://www.wafb.com/story/38028414/us-consumer-confidence-rebounds-in-april</a></a></li><li><b>US factory output rises for 2nd straight month in latest sign of manufacturing rebound</b>(0.87431824)<br>US factory output rises for 2nd straight month in latest sign of manufacturing rebound<br><span style=\"font-size:0.8em\"><a href=\"http://www.taiwannews.com.tw/en/news/3095825\">http://www.taiwannews.com.tw/en/news/3095825</a></a></li><li><b>Trends Shaping The Return of Manufacturing to US</b>(0.87235814)<br>The viability and vitality of U.S. manufacturing has been restored, according to the current economic and political indicators, but in fact ...<br><span style=\"font-size:0.8em\"><a href=\"http://www.industryweek.com/global-economy/trends-shaping-return-manufacturing-us\">http://www.industryweek.com/global-economy/trends-shaping-return-manufacturing-us</a></a></li><li><b>Upbeat ‘Beige Book’ prognosis of economy keeps Fed on track for June rate hike</b>(0.87016076)<br>The Federal Reserve said the U.S. grew “moderately” from late April to early May in its latest evaluation of the economy, indicating the central bank remains firmly on track to raise interest rates next month.<br><span style=\"font-size:0.8em\"><a href=\"https://www.marketwatch.com/story/upbeat-beige-book-prognosis-of-economy-keeps-fed-on-track-for-june-rate-hike-2018-05-30?siteid=rss&rss=1\">https://www.marketwatch.com/story/upbeat-beige-book-prognosis-of-economy-keeps-fed-on-track-for-june-rate-hike-2018-05-30?siteid=rss&rss=1</a></a></li><li><b>US businesses increase inventories 0.4 percent in December, biggest sales gain since 2011</b>(0.8662868)<br>US businesses increase inventories 0.4 percent in December, biggest sales gain since 2011<br><span style=\"font-size:0.8em\"><a href=\"http://www.taiwannews.com.tw/en/news/3095845\">http://www.taiwannews.com.tw/en/news/3095845</a></a></li></ol></td><td><h4>Showing 10 Results for <em>US economic recovery</em></h4><ol><li><b>2017: Obaseki assures Edo poeple of speedy economic recovery</b>(0.83361256)<br>2017: Obaseki assures Edo poeple of speedy economic recovery\n",
       "Jethro Ibileke/Benin Edo state Governor, Mr. Godwin Obaseki, has assured the pe...<br><span style=\"font-size:0.8em\"><a href=\"http://www.nigeriatoday.ng/2017/01/2017-obaseki-assures-edo-poeple-of-speedy-economic-recovery/\">http://www.nigeriatoday.ng/2017/01/2017-obaseki-assures-edo-poeple-of-speedy-economic-recovery/</a></a></li><li><b>Palestinian protesters disrupt US economic meeting</b>(0.5)<br>Palestinian protesters disrupt US economic meeting<br><span style=\"font-size:0.8em\"><a href=\"https://www.taiwannews.com.tw/en/news/3354307\">https://www.taiwannews.com.tw/en/news/3354307</a></a></li><li><b>US consumer confidence rebounds in April - WAFB 9 News Baton Rouge, Louisiana News, Weather, Sports</b>(0.5)<br>(AP Photo/Elise Amendola, File). FILE- In this April 9, 2018, file photo shoppers walk in a mall in Salem, N.H. On Tuesday, April 25, the Co...<br><span style=\"font-size:0.8em\"><a href=\"http://www.wafb.com/story/38028414/us-consumer-confidence-rebounds-in-april\">http://www.wafb.com/story/38028414/us-consumer-confidence-rebounds-in-april</a></a></li><li><b>US factory output rises for 2nd straight month in latest sign of manufacturing rebound</b>(0.4800797)<br>US factory output rises for 2nd straight month in latest sign of manufacturing rebound<br><span style=\"font-size:0.8em\"><a href=\"http://www.taiwannews.com.tw/en/news/3095825\">http://www.taiwannews.com.tw/en/news/3095825</a></a></li><li><b>Trends Shaping The Return of Manufacturing to US</b>(0.47020352)<br>The viability and vitality of U.S. manufacturing has been restored, according to the current economic and political indicators, but in fact ...<br><span style=\"font-size:0.8em\"><a href=\"http://www.industryweek.com/global-economy/trends-shaping-return-manufacturing-us\">http://www.industryweek.com/global-economy/trends-shaping-return-manufacturing-us</a></a></li></ol></td></tr>\n",
       "        </table>"
      ],
      "text/plain": [
       "<IPython.core.display.HTML object>"
      ]
     },
     "metadata": {},
     "output_type": "display_data"
    }
   ],
   "source": [
    "search_compare(\"US economic recovery\")"
   ]
  },
  {
   "cell_type": "code",
   "execution_count": null,
   "id": "2c1e4068-ef43-49cf-941a-cc6d9c5fb9b5",
   "metadata": {},
   "outputs": [],
   "source": []
  }
 ],
 "metadata": {
  "kernelspec": {
   "display_name": "Python 3 (ipykernel)",
   "language": "python",
   "name": "python3"
  },
  "language_info": {
   "codemirror_mode": {
    "name": "ipython",
    "version": 3
   },
   "file_extension": ".py",
   "mimetype": "text/x-python",
   "name": "python",
   "nbconvert_exporter": "python",
   "pygments_lexer": "ipython3",
   "version": "3.11.5"
  }
 },
 "nbformat": 4,
 "nbformat_minor": 5
}
