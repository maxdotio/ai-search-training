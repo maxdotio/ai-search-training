{
 "cells": [
  {
   "cell_type": "markdown",
   "id": "c7650ff2-108b-4bb4-b66a-d25b51ebf78b",
   "metadata": {},
   "source": [
    "# Lab 4 - Hybrid Search of title embeddings and full-text fields in Opensearch"
   ]
  },
  {
   "cell_type": "code",
   "execution_count": null,
   "id": "55797adf-fda8-4ec2-aaf3-59c4345268ac",
   "metadata": {},
   "outputs": [],
   "source": [
    "from opensearchpy import OpenSearch,helpers\n",
    "from sentence_transformers import SentenceTransformer, util as STutil\n",
    "from tqdm.notebook import tqdm\n",
    "from datetime import datetime\n",
    "from IPython.display import display, HTML\n",
    "import numpy as np\n",
    "import pickle"
   ]
  },
  {
   "cell_type": "code",
   "execution_count": null,
   "id": "5d7ac1d4-8c6f-4eec-94c6-c04e7c32559f",
   "metadata": {},
   "outputs": [],
   "source": [
    "# https://github.com/opensearch-project/opensearch-py/blob/main/USER_GUIDE.md\n",
    "host = 'ai-search-opensearch-node'\n",
    "port = 9200\n",
    "client = OpenSearch(hosts = [{'host': host, 'port': port}])\n",
    "info = client.info()\n",
    "print(f\"Welcome to {info['version']['distribution']} {info['version']['number']}!\")"
   ]
  },
  {
   "cell_type": "markdown",
   "id": "a529604a-3130-4243-ac57-619fb1696490",
   "metadata": {},
   "source": [
    "## Use the same model and method to get the query embedding, with some defaults changed\n",
    "Remember, the model is `intfloat/e5-small-v2` and we need to prefix any query with 'query:'"
   ]
  },
  {
   "cell_type": "code",
   "execution_count": null,
   "id": "51bb8416-ea0c-44dc-869c-196ee4671425",
   "metadata": {},
   "outputs": [],
   "source": [
    "#The E5 models expect 'query:' and 'passage:' prefixes\n",
    "model = SentenceTransformer('intfloat/e5-small-v2')\n",
    "def get_embeddings(texts,prefix=\"query: \"):\n",
    "    #The E5 models expects either 'query: ' or 'passage: ' prefix\n",
    "    if not isinstance(texts, list):\n",
    "        texts = [texts]\n",
    "    prefixed = [prefix+text for text in texts]\n",
    "    embeddings = model.encode(prefixed,show_progress_bar=False)\n",
    "    return embeddings"
   ]
  },
  {
   "cell_type": "markdown",
   "id": "a2f87da6-c9a3-4f05-ae81-701087ef0154",
   "metadata": {},
   "source": [
    "## Define different query types\n",
    "Here we define Opensearch query bodies for:\n",
    " - BM25\n",
    " - KNN\n",
    " - Hybrid"
   ]
  },
  {
   "cell_type": "code",
   "execution_count": null,
   "id": "3015a4dd-06d1-4508-a1d4-97edf64f968b",
   "metadata": {},
   "outputs": [],
   "source": [
    "def get_bm25_body(querystring):\n",
    "    return {\n",
    "      \"query\": {\n",
    "        \"bool\": {\n",
    "          \"should\": [\n",
    "            {\n",
    "              \"multi_match\": {\n",
    "                \"query\": querystring,\n",
    "                \"type\": \"cross_fields\",\n",
    "                \"fields\": [\"description\"],\n",
    "                \"boost\": 1.0\n",
    "              }\n",
    "            },\n",
    "            {\n",
    "              \"multi_match\": {\n",
    "                \"query\": querystring,\n",
    "                \"type\": \"cross_fields\",\n",
    "                \"fields\": [\"title\"],\n",
    "                \"boost\": 1.1\n",
    "              }\n",
    "            },\n",
    "            {\n",
    "              \"multi_match\": {\n",
    "                \"query\": querystring,\n",
    "                \"type\": \"cross_fields\",\n",
    "                \"fields\": [\"title_exactish\"],\n",
    "                \"boost\": 1.2\n",
    "              }\n",
    "            }\n",
    "          ]\n",
    "        }\n",
    "      },\n",
    "      \"_source\": {\"exclude\":[\"title_embedding\"]}\n",
    "    }"
   ]
  },
  {
   "cell_type": "code",
   "execution_count": null,
   "id": "6abc76e2",
   "metadata": {},
   "outputs": [],
   "source": [
    "def get_knn_body(querystring):\n",
    "    embeddings = get_embeddings(querystring)\n",
    "    return {\n",
    "      \"query\": {\n",
    "        \"bool\": {\n",
    "          \"should\": [\n",
    "            {\n",
    "              \"knn\": {\n",
    "                \"title_embedding\": {\n",
    "                  \"vector\": embeddings[0],\n",
    "                  \"k\": 20\n",
    "                }\n",
    "              }\n",
    "            }\n",
    "          ]\n",
    "        }\n",
    "      },\n",
    "      \"_source\": {\"exclude\":[\"title_embedding\"]}\n",
    "    }"
   ]
  },
  {
   "cell_type": "markdown",
   "id": "c83d8993-83e8-4799-a8aa-def7783df430",
   "metadata": {},
   "source": [
    "## Hybrid Query"
   ]
  },
  {
   "cell_type": "code",
   "execution_count": null,
   "id": "264b98ec",
   "metadata": {},
   "outputs": [],
   "source": [
    "def get_hybrid_body(querystring):\n",
    "    embeddings = get_embeddings(querystring)\n",
    "    return {\n",
    "      \"query\": {\n",
    "        \"hybrid\": {\n",
    "          \"queries\": [\n",
    "            {\n",
    "              \"bool\": {\n",
    "                \"should\": [\n",
    "                  {\n",
    "                    \"multi_match\": {\n",
    "                      \"query\": querystring,\n",
    "                      \"type\": \"cross_fields\",\n",
    "                      \"fields\": [\"description\"],\n",
    "                      \"boost\": 1.0\n",
    "                    }\n",
    "                  },\n",
    "                  {\n",
    "                    \"multi_match\": {\n",
    "                      \"query\": querystring,\n",
    "                      \"type\": \"cross_fields\",\n",
    "                      \"fields\": [\"title\"],\n",
    "                      \"boost\": 1.1\n",
    "                    }\n",
    "                  },\n",
    "                  {\n",
    "                    \"multi_match\": {\n",
    "                      \"query\": querystring,\n",
    "                      \"type\": \"cross_fields\",\n",
    "                      \"fields\": [\"title_exactish\"],\n",
    "                      \"boost\": 1.2\n",
    "                    }\n",
    "                  }\n",
    "                ]\n",
    "              }        \n",
    "            },\n",
    "            {\n",
    "              \"knn\": {\n",
    "                \"title_embedding\": {\n",
    "                  \"vector\": embeddings[0],\n",
    "                  \"k\": 100\n",
    "                }\n",
    "              }\n",
    "            }\n",
    "          ]\n",
    "        }\n",
    "      },\n",
    "      \"_source\": {\"exclude\":[\"title_embedding\"]}\n",
    "    }  "
   ]
  },
  {
   "cell_type": "code",
   "execution_count": null,
   "id": "67e1460e-cebc-4b3e-aa0d-c0ad3ea38f61",
   "metadata": {},
   "outputs": [],
   "source": [
    "def serps(querystring,resp,k=5,show=True):\n",
    "\n",
    "    count = resp[\"hits\"][\"total\"][\"value\"]\n",
    "    results = resp[\"hits\"][\"hits\"]\n",
    "    \n",
    "    # Create an HTML string to format the results\n",
    "    html_str = f\"<h4>Showing {count} Results for <em>{querystring}</em></h4><ol>\"\n",
    "    \n",
    "    for result in results[:k]:\n",
    "        score = result.get(\"_score\")\n",
    "        title = result[\"_source\"].get(\"title\", \"No title\")\n",
    "        url = result[\"_source\"].get(\"url\", \"No title\")\n",
    "        description = result[\"_source\"].get(\"description\", None)\n",
    "        text = result[\"_source\"].get(\"text\", \"\")\n",
    "        snippet = description if description else text[:140]+\"...\"\n",
    "        \n",
    "        # Format each result as an HTML list item\n",
    "        html_str += f'<li><b>{title}</b>({score})<br>{snippet}<br><span style=\"font-size:0.8em\"><a href=\"{url}\">{url}</a></a></li>'\n",
    "    \n",
    "    html_str += \"</ol>\"\n",
    "    \n",
    "    # Display the HTML in the Jupyter Notebook\n",
    "    if show:\n",
    "        display(HTML(html_str))\n",
    "    else:\n",
    "        return html_str"
   ]
  },
  {
   "cell_type": "code",
   "execution_count": null,
   "id": "8d249944-83c4-4df5-891a-171f26058cc2",
   "metadata": {},
   "outputs": [],
   "source": [
    "def make_normalization_pipeline(name,bm25_weight=0.5,knn_weight=0.5):\n",
    "    body = {\n",
    "      \"description\": f\"Post processor for hybrid search with bm25={bm25_weight} and knn={knn_weight}\",\n",
    "      \"phase_results_processors\": [\n",
    "        {\n",
    "          \"normalization-processor\": {\n",
    "            \"normalization\": {\n",
    "              \"technique\": \"min_max\"\n",
    "            },\n",
    "            \"combination\": {\n",
    "              \"technique\": \"arithmetic_mean\",\n",
    "              \"parameters\": {\n",
    "                \"weights\": [\n",
    "                  bm25_weight,\n",
    "                  knn_weight\n",
    "                ]\n",
    "              }\n",
    "            }\n",
    "          }\n",
    "        }\n",
    "      ]\n",
    "    }\n",
    "    resp = client.transport.perform_request(method=\"PUT\", url=\"/_search/pipeline/\"+name,body=body)\n",
    "    print(resp)"
   ]
  },
  {
   "cell_type": "code",
   "execution_count": null,
   "id": "e29ce076-de23-4c10-9df0-87601f9ebb58",
   "metadata": {},
   "outputs": [],
   "source": [
    "make_normalization_pipeline(\"nlp-search-pipeline-equal\",bm25_weight=0.5,knn_weight=0.5)\n",
    "make_normalization_pipeline(\"nlp-search-pipeline-bm25-heavy\",bm25_weight=0.6,knn_weight=0.4)\n",
    "make_normalization_pipeline(\"nlp-search-pipeline-knn-heavy\",bm25_weight=0.4,knn_weight=0.6)"
   ]
  },
  {
   "cell_type": "code",
   "execution_count": null,
   "id": "94e2d15c-c887-413e-8d93-bccdcac8ce2d",
   "metadata": {},
   "outputs": [],
   "source": [
    "def search(querystring,body,pipeline=\"nlp-search-pipeline-equal\",show=True):\n",
    "    resp = client.search(body=body, index=\"ai-search\", params={\"search_pipeline\":pipeline})\n",
    "    if show:\n",
    "        serps(querystring,resp)\n",
    "    return resp    \n",
    "def search_bm25(querystring,show=True):\n",
    "    body = get_bm25_body(querystring)\n",
    "    return search(querystring,body,show=show)\n",
    "def search_knn(querystring,show=True):\n",
    "    body = get_knn_body(querystring)\n",
    "    return search(querystring,body,show=show)    \n",
    "def search_hybrid(querystring,pipeline=\"nlp-search-pipeline-equal\",show=True):\n",
    "    body = get_hybrid_body(querystring)\n",
    "    return search(querystring,body,pipeline=pipeline,show=show)"
   ]
  },
  {
   "cell_type": "code",
   "execution_count": null,
   "id": "d2628c3e-a3c2-4ff2-a3dc-f976a74d15e0",
   "metadata": {
    "scrolled": true
   },
   "outputs": [],
   "source": [
    "resp = search_hybrid(\"crypto scandal\")"
   ]
  },
  {
   "cell_type": "code",
   "execution_count": null,
   "id": "afd2a29b-a0d1-46aa-947e-85d6e8e37874",
   "metadata": {},
   "outputs": [],
   "source": [
    "resp = search_bm25(\"crypto scandal\")"
   ]
  },
  {
   "cell_type": "code",
   "execution_count": null,
   "id": "cb740118-62e6-408d-a72a-50cabb594a35",
   "metadata": {},
   "outputs": [],
   "source": [
    "resp = search_knn(\"crypto scandal\")"
   ]
  },
  {
   "cell_type": "code",
   "execution_count": null,
   "id": "ea2badae-f6d1-4713-a3ce-de39a1148fda",
   "metadata": {},
   "outputs": [],
   "source": [
    "def search_compare(querystring,pipeline=\"nlp-search-pipeline-equal\"):\n",
    "    bm25 = serps(querystring,search_bm25(querystring,show=False),k=5,show=False)   \n",
    "    knn = serps(querystring,search_knn(querystring,show=False),k=5,show=False)   \n",
    "    hybrid = serps(querystring,search_hybrid(querystring,pipeline=pipeline,show=False),k=5,show=False)\n",
    "    html_all = f\"\"\"\n",
    "        <style>\n",
    "            .compare li {{overflow-x:hidden;width:320px!important;text-align:left;height:200px;border-bottom:1px solid #333;}}\n",
    "        </style>\n",
    "        <table class=\"compare\">\n",
    "            <tr><td>BM25</td><td>KNN</td><td>Hybrid ({pipeline})</td></tr>\n",
    "            <tr><td>{bm25}</td><td>{knn}</td><td>{hybrid}</td></tr>\n",
    "        </table>\"\"\"\n",
    "    display(HTML(html_all))"
   ]
  },
  {
   "cell_type": "code",
   "execution_count": null,
   "id": "924d0dec-bef5-449c-a5c7-fc93551409ba",
   "metadata": {},
   "outputs": [],
   "source": [
    "search_compare(\"property market\",pipeline=\"nlp-search-pipeline-equal\")"
   ]
  },
  {
   "cell_type": "code",
   "execution_count": null,
   "id": "be1a100e-eb3c-431e-b346-12c4a981f4d1",
   "metadata": {},
   "outputs": [],
   "source": [
    "search_compare(\"property market\",pipeline=\"nlp-search-pipeline-bm25-heavy\")"
   ]
  },
  {
   "cell_type": "code",
   "execution_count": null,
   "id": "8fa59148-296f-4913-ab4f-6457f223d401",
   "metadata": {},
   "outputs": [],
   "source": [
    "search_compare(\"property market\",pipeline=\"nlp-search-pipeline-knn-heavy\")"
   ]
  },
  {
   "cell_type": "code",
   "execution_count": null,
   "id": "4b920d71-71b1-4a37-a828-bd29d881fc5e",
   "metadata": {},
   "outputs": [],
   "source": [
    "search_compare(\"crypto scandal\")"
   ]
  },
  {
   "cell_type": "code",
   "execution_count": null,
   "id": "b43cf988-e82b-4317-978e-f1c6129a8021",
   "metadata": {},
   "outputs": [],
   "source": [
    "search_compare(\"US economic recovery\")"
   ]
  },
  {
   "cell_type": "code",
   "execution_count": null,
   "id": "2c1e4068-ef43-49cf-941a-cc6d9c5fb9b5",
   "metadata": {},
   "outputs": [],
   "source": []
  }
 ],
 "metadata": {
  "kernelspec": {
   "display_name": "Python 3 (ipykernel)",
   "language": "python",
   "name": "python3"
  },
  "language_info": {
   "codemirror_mode": {
    "name": "ipython",
    "version": 3
   },
   "file_extension": ".py",
   "mimetype": "text/x-python",
   "name": "python",
   "nbconvert_exporter": "python",
   "pygments_lexer": "ipython3",
   "version": "3.11.5"
  }
 },
 "nbformat": 4,
 "nbformat_minor": 5
}
