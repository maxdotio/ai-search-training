{
 "cells": [
  {
   "cell_type": "code",
   "execution_count": 1,
   "id": "50bf3672-403a-487c-b284-14015325eff1",
   "metadata": {
    "scrolled": true
   },
   "outputs": [],
   "source": [
    "#!pip install opensearch-py==2.3.1"
   ]
  },
  {
   "cell_type": "code",
   "execution_count": 1,
   "id": "55797adf-fda8-4ec2-aaf3-59c4345268ac",
   "metadata": {},
   "outputs": [],
   "source": [
    "from opensearchpy import OpenSearch,helpers\n",
    "from sentence_transformers import SentenceTransformer, util as STutil\n",
    "from tqdm.notebook import tqdm\n",
    "from datasets import Dataset,load_dataset,concatenate_datasets\n",
    "from datetime import datetime\n",
    "import numpy as np\n",
    "import pickle"
   ]
  },
  {
   "cell_type": "code",
   "execution_count": 2,
   "id": "5d7ac1d4-8c6f-4eec-94c6-c04e7c32559f",
   "metadata": {},
   "outputs": [
    {
     "name": "stdout",
     "output_type": "stream",
     "text": [
      "Welcome to opensearch 2.11.0!\n"
     ]
    }
   ],
   "source": [
    "# https://github.com/opensearch-project/opensearch-py/blob/main/USER_GUIDE.md\n",
    "host = 'ai-search-opensearch-node'\n",
    "port = 9200\n",
    "client = OpenSearch(hosts = [{'host': host, 'port': port}])\n",
    "info = client.info()\n",
    "print(f\"Welcome to {info['version']['distribution']} {info['version']['number']}!\")"
   ]
  },
  {
   "cell_type": "markdown",
   "id": "5713e820-8f5f-44bf-b80c-eddff6513127",
   "metadata": {},
   "source": [
    "## First, look at the schema\n",
    "\n",
    "Right click on the 'schema.json' file in the tree, and open with Editor"
   ]
  },
  {
   "cell_type": "markdown",
   "id": "7330b9cd-d441-4073-a1e2-370840f62d50",
   "metadata": {},
   "source": [
    "## Create the OpenSearch Index"
   ]
  },
  {
   "cell_type": "code",
   "execution_count": 3,
   "id": "b596f15c-bfb0-4122-ba38-b656d57b51c5",
   "metadata": {},
   "outputs": [],
   "source": [
    "def create_index(name=\"ai-search\",filename=\"schema.json\",delete=False):\n",
    "    schema = None\n",
    "    with open(filename) as fd:\n",
    "        schema = fd.read()\n",
    "    index_name = name\n",
    "    index_body = schema\n",
    "\n",
    "    if delete:\n",
    "        try:\n",
    "            client.indices.delete(index_name)\n",
    "        except:\n",
    "            pass\n",
    "        \n",
    "    response = client.indices.create(index_name,body=index_body)\n",
    "    \n",
    "    print(response)"
   ]
  },
  {
   "cell_type": "code",
   "execution_count": 4,
   "id": "ca8cdc04-9308-49ad-8e6d-be2f1db0f109",
   "metadata": {},
   "outputs": [
    {
     "name": "stdout",
     "output_type": "stream",
     "text": [
      "{'acknowledged': True, 'shards_acknowledged': True, 'index': 'ai-search'}\n"
     ]
    }
   ],
   "source": [
    "create_index(delete=True)\n",
    "#create_index()"
   ]
  },
  {
   "cell_type": "markdown",
   "id": "a529604a-3130-4243-ac57-619fb1696490",
   "metadata": {},
   "source": [
    "## Use the same model and method to get the query embedding, with some defaults changed\n",
    "Remember, the model is `intfloat/e5-small-v2` and we need to prefix any query with 'query:'"
   ]
  },
  {
   "cell_type": "code",
   "execution_count": 27,
   "id": "51bb8416-ea0c-44dc-869c-196ee4671425",
   "metadata": {},
   "outputs": [],
   "source": [
    "#The E5 models expect 'query:' and 'passage:' prefixes\n",
    "model = SentenceTransformer('intfloat/e5-small-v2')\n",
    "def get_embeddings(texts,prefix=\"query: \"):\n",
    "    #The E5 models expects either 'query:' or 'passage:' prefix\n",
    "    if not isinstance(texts, list):\n",
    "        texts = [texts]\n",
    "    prefixed = [prefix+text for text in texts]\n",
    "    embeddings = model.encode(prefixed,show_progress_bar=False)\n",
    "    return embeddings"
   ]
  },
  {
   "cell_type": "markdown",
   "id": "c83d8993-83e8-4799-a8aa-def7783df430",
   "metadata": {},
   "source": [
    "## Get our dataset and title_embeddings"
   ]
  },
  {
   "cell_type": "code",
   "execution_count": 6,
   "id": "3015a4dd-06d1-4508-a1d4-97edf64f968b",
   "metadata": {},
   "outputs": [
    {
     "data": {
      "application/vnd.jupyter.widget-view+json": {
       "model_id": "39ac63a3a32c4cd8b9aa91150008feb7",
       "version_major": 2,
       "version_minor": 0
      },
      "text/plain": [
       "Downloading readme:   0%|          | 0.00/7.57k [00:00<?, ?B/s]"
      ]
     },
     "metadata": {},
     "output_type": "display_data"
    },
    {
     "data": {
      "application/vnd.jupyter.widget-view+json": {
       "model_id": "af53ad5e6b164c94b7ec66dd46a1e2f9",
       "version_major": 2,
       "version_minor": 0
      },
      "text/plain": [
       "Downloading data files:   0%|          | 0/1 [00:00<?, ?it/s]"
      ]
     },
     "metadata": {},
     "output_type": "display_data"
    },
    {
     "data": {
      "application/vnd.jupyter.widget-view+json": {
       "model_id": "f971e3e467e34e04b113a2c69ce9dd93",
       "version_major": 2,
       "version_minor": 0
      },
      "text/plain": [
       "Downloading data:   0%|          | 0.00/211M [00:00<?, ?B/s]"
      ]
     },
     "metadata": {},
     "output_type": "display_data"
    },
    {
     "data": {
      "application/vnd.jupyter.widget-view+json": {
       "model_id": "6831c9037db7487cb5e786569981ff2a",
       "version_major": 2,
       "version_minor": 0
      },
      "text/plain": [
       "Downloading data:   0%|          | 0.00/234M [00:00<?, ?B/s]"
      ]
     },
     "metadata": {},
     "output_type": "display_data"
    },
    {
     "data": {
      "application/vnd.jupyter.widget-view+json": {
       "model_id": "fbc979be4de74e6abaab8093a45669e3",
       "version_major": 2,
       "version_minor": 0
      },
      "text/plain": [
       "Downloading data:   0%|          | 0.00/219M [00:00<?, ?B/s]"
      ]
     },
     "metadata": {},
     "output_type": "display_data"
    },
    {
     "data": {
      "application/vnd.jupyter.widget-view+json": {
       "model_id": "b56ca8fffaf04459b2ffbf7a69f616bb",
       "version_major": 2,
       "version_minor": 0
      },
      "text/plain": [
       "Downloading data:   0%|          | 0.00/245M [00:00<?, ?B/s]"
      ]
     },
     "metadata": {},
     "output_type": "display_data"
    },
    {
     "data": {
      "application/vnd.jupyter.widget-view+json": {
       "model_id": "9b6687286a95411a83a71c8af1ac9608",
       "version_major": 2,
       "version_minor": 0
      },
      "text/plain": [
       "Downloading data:   0%|          | 0.00/215M [00:00<?, ?B/s]"
      ]
     },
     "metadata": {},
     "output_type": "display_data"
    },
    {
     "data": {
      "application/vnd.jupyter.widget-view+json": {
       "model_id": "4c38d63255534a0cbb3aa62b4b2cdbcf",
       "version_major": 2,
       "version_minor": 0
      },
      "text/plain": [
       "Extracting data files:   0%|          | 0/1 [00:00<?, ?it/s]"
      ]
     },
     "metadata": {},
     "output_type": "display_data"
    },
    {
     "data": {
      "application/vnd.jupyter.widget-view+json": {
       "model_id": "ff9f9d45f9194b4082e137f1f8dd97ef",
       "version_major": 2,
       "version_minor": 0
      },
      "text/plain": [
       "Generating train split:   0%|          | 0/708241 [00:00<?, ? examples/s]"
      ]
     },
     "metadata": {},
     "output_type": "display_data"
    }
   ],
   "source": [
    "# Load 50k records of the the 'cc_news' dataset from Hugging Face\n",
    "dataset = load_dataset(\"cc_news\",split='train[0:50000]')"
   ]
  },
  {
   "cell_type": "code",
   "execution_count": 7,
   "id": "47cbf97b-8c05-4540-835b-ea04f1de8cac",
   "metadata": {},
   "outputs": [],
   "source": [
    "#Load the title_embeddings we generated in 02-sentence-transformers\n",
    "title_embeddings = []\n",
    "with open('cc_news_title_embeddings_50000.pkl','rb') as fd:\n",
    "    title_embeddings = pickle.load(fd)"
   ]
  },
  {
   "cell_type": "code",
   "execution_count": 8,
   "id": "cb99bc62-ce33-43dc-98b7-891e7b8972b1",
   "metadata": {},
   "outputs": [],
   "source": [
    "#Add the title embeddings as a new column in our dataset\n",
    "title_embeddings_dataset = Dataset.from_dict({\"title_embedding\": title_embeddings})\n",
    "records_dataset = concatenate_datasets([dataset, title_embeddings_dataset], axis=1)\n",
    "#dataset = dataset.add_column(\"title_embedding\",title_embeddings)"
   ]
  },
  {
   "cell_type": "code",
   "execution_count": 9,
   "id": "e14c3311-b8db-451f-836b-e3debc324617",
   "metadata": {
    "scrolled": true
   },
   "outputs": [
    {
     "name": "stdout",
     "output_type": "stream",
     "text": [
      "['Watch Pennsylvania Ballet & Boston Ballet Face Off for the Super Bowl']\n",
      "[-0.07843358814716339, 0.01670742779970169, 0.005107884760946035, -0.016091743484139442, -0.0279251579195261, 0.04059495031833649, 0.05747104063630104, -0.045327845960855484, 0.021599523723125458, 0.027876192703843117, -0.012411370873451233, 0.024207158014178276, -0.02011098898947239, 0.03666096553206444, 0.021458571776747704, -0.06887411326169968, -0.021738534793257713, 0.048546548932790756, -0.06475327908992767, 0.028987271711230278, -0.0002391615998931229, -0.0532710999250412, -2.8766125979018398e-05, -0.000542056281119585, 0.012278076261281967, 0.013491272926330566, 0.075719453394413, 0.06790968775749207, -0.059126097708940506, -0.11319344490766525, -0.048528704792261124, -0.04630454257130623, -0.05932382121682167, -0.013018528930842876, 0.04307679831981659, -0.0577373281121254, -0.01128420326858759, 0.041460562497377396, 0.029161149635910988, 0.09307586401700974, -0.061578139662742615, -0.023966027423739433, 0.04286118596792221, -0.03851733356714249, 0.0006659423233941197, 0.0007954908651299775, -0.09714038670063019, -0.029478268697857857, 0.07626178115606308, 0.0071733915247023106, -0.038800809532403946, 0.02552323415875435, 0.09254825115203857, 0.038306646049022675, 0.025891661643981934, 0.05797324329614639, 0.033988237380981445, 0.03186871111392975, 0.05962906777858734, 0.06671132147312164, -0.032425351440906525, 0.04826927185058594, -0.12827913463115692, 0.12171406298875809, 0.08335305750370026, 0.05808020010590553, -0.04457292705774307, 0.022937878966331482, -0.03514508903026581, -0.054720375686883926, 0.019725656136870384, 0.019520670175552368, -0.004276886582374573, 0.0135729955509305, -0.01734570786356926, 0.09515460580587387, -0.0023204931057989597, 0.04564201831817627, -0.08833383023738861, -0.07631208002567291, 0.038870129734277725, -0.11113012582063675, 0.0033739025238901377, 0.02081095054745674, 0.0033084715250879526, -0.03724983334541321, 0.01781447045505047, 0.0169573612511158, -0.015649860724806786, 0.009189886040985584, -0.07365459948778152, 0.0020640164148062468, -0.03182549029588699, -0.0364437960088253, -0.022837473079562187, -0.024912063032388687, 0.04486244171857834, 0.0029212411027401686, 0.03238827735185623, 0.06874789297580719, 0.05999170243740082, 0.007828890345990658, -0.012372209690511227, -0.04203158989548683, -0.023671358823776245, -0.054073020815849304, 0.01025478821247816, -0.0024718577042222023, 0.016341695562005043, 0.0022101919166743755, -0.011966682970523834, -0.02605121023952961, 0.008320401422679424, -0.04495024308562279, 0.010559095069766045, 0.05004497990012169, -0.03215203061699867, -0.060105741024017334, -0.02109289914369583, 0.01420515589416027, 0.058187320828437805, 0.03782211244106293, 0.03653265908360481, -0.021552855148911476, 0.05942721664905548, -0.0328124463558197, 0.055947110056877136, 0.10920853167772293, 0.018807880580425262, -0.050279662013053894, 0.05253496766090393, -0.004055709112435579, -0.025756128132343292, 0.01367439515888691, -0.05629514157772064, -0.03511645272374153, -0.038473911583423615, -0.02714153751730919, 0.06314747780561447, 0.049349792301654816, -0.04276597872376442, -0.08929983526468277, -0.0009993845596909523, -0.1227061077952385, -0.00039268986438401043, 0.049377333372831345, -0.11271972954273224, 0.05969708785414696, -0.07575078308582306, -0.015912653878331184, -0.047024913132190704, 0.015625331550836563, -0.011239951476454735, 0.029169438406825066, -0.010012761689722538, -0.0018263997044414282, -0.024960536509752274, 0.12346301972866058, -0.03776723891496658, -0.0008763031801208854, -0.08717717230319977, -0.0038362685590982437, 0.040924251079559326, 0.07040304690599442, 0.006713396869599819, -0.11238840222358704, -0.01319348718971014, 0.008722523227334023, 0.00860131811350584, -0.060513198375701904, -0.012380617670714855, 0.008961934596300125, -0.028259744867682457, 0.026511771604418755, 0.049988843500614166, -0.024165770038962364, -0.0005256566219031811, -0.04508266970515251, 0.10143674165010452, -0.03738322854042053, 0.025410061702132225, -0.06317432224750519, 0.04582887887954712, 0.09624537080526352, 0.05147996172308922, -0.04536835476756096, -0.0709259882569313, -0.07392209023237228, 0.006627501454204321, -0.06556249409914017, -0.060805123299360275, 0.004334951750934124, -0.005876581184566021, 0.03464190661907196, 0.04712457209825516, 0.030674966052174568, -0.06675191968679428, -0.07412127405405045, -0.03897429630160332, -0.04672803729772568, 0.08699773997068405, 0.023147083818912506, -0.030697345733642578, 0.011605248786509037, 0.019075479358434677, 0.08541001379489899, -0.0007597890798933804, -0.025963731110095978, -0.022862352430820465, -0.01908639818429947, -0.025867797434329987, -0.05506664142012596, 0.00023762593627907336, -0.056057196110486984, -0.013854059390723705, -0.058217111974954605, 0.024124065414071083, -0.012538578361272812, 0.026462113484740257, 0.016078274697065353, 0.023667877539992332, -0.031432751566171646, -0.009137785993516445, -0.13603852689266205, -0.022333409637212753, -0.061065491288900375, -0.039209917187690735, 0.034237317740917206, 0.026385214179754257, -0.028607210144400597, 0.019871821627020836, -0.017658833414316177, 0.08461053669452667, 0.10304906964302063, -0.038283269852399826, -0.0027131105307489634, 0.0032504554837942123, 0.031168434768915176, 0.03698236867785454, -0.01697935163974762, 0.013120795600116253, 0.059281159192323685, -0.061290521174669266, -0.022079909220337868, -0.040570177137851715, -0.06137711554765701, -0.06863953173160553, 0.020156415179371834, -0.05191569775342941, 0.1487935185432434, 0.0730341225862503, 0.04903768002986908, -0.029452823102474213, 0.03021928481757641, -0.018880734220147133, 0.020805899053812027, -0.07740487158298492, 0.05191802978515625, -0.04713142663240433, 0.027908626943826675, 0.04674278944730759, -0.03775762766599655, -0.060060709714889526, 0.033374205231666565, -0.039353515952825546, -0.004591574892401695, -0.035590313374996185, 0.1991356909275055, -0.05853104591369629, -0.015562628395855427, 0.043667860329151154, -0.013177433051168919, -0.0016562598757445812, 0.015272540971636772, -0.042198434472084045, 0.09150539338588715, -0.05286986380815506, -0.08152258396148682, -0.04034419730305672, -0.04024437442421913, 0.06256670504808426, -0.05263324826955795, 0.06518659740686417, -0.06859693676233292, -0.015910085290670395, 0.02498047985136509, 0.012642662972211838, -0.007156497333198786, 0.11315791308879852, 0.0012021111324429512, 0.02110125496983528, -0.06091996282339096, -0.048127517104148865, 0.021623769775032997, 0.043166790157556534, -0.06709763407707214, -0.017513800412416458, 0.11488569527864456, 0.02465696446597576, 0.07730473577976227, -0.005298924166709185, -0.006120125763118267, -0.024739647284150124, 0.02075798064470291, -0.026579132303595543, 0.030133169144392014, 0.014184879139065742, 0.012178338132798672, -0.013731849379837513, 0.04766016826033592, -0.0384664423763752, -0.008732421323657036, -0.04944189637899399, 0.015085555613040924, -0.030754772946238518, 0.02001870423555374, 0.05692072957754135, -0.026573851704597473, -0.022295992821455002, -0.1836227923631668, -0.015036823228001595, 0.06141301244497299, -0.021369367837905884, -0.010944201610982418, -0.04865134507417679, 0.03369377553462982, -0.02078145183622837, -0.04312888905405998, -0.044821709394454956, 0.035907283425331116, 0.013619736768305302, 0.11003318428993225, 0.015433653257787228, -0.021455995738506317, 0.05656120553612709, 0.10579320043325424, -0.016367195174098015, 0.013516636565327644, -0.03710540756583214, 0.02693902514874935, -0.019780751317739487, 0.14670948684215546, 0.03602488338947296, 0.0007169537711888552, 0.01466123852878809, 0.01890552043914795, 0.04155974090099335, -0.025941606611013412, 0.03480827808380127, 0.011541470885276794, -0.03388461843132973, 0.08223335444927216, -0.0001094324397854507, 0.04018081724643707, 0.12945103645324707, -0.03758231922984123, -0.011610394343733788, -0.007605584338307381, -0.04276889190077782, 0.06431395560503006, 0.0862104520201683, -0.04846084117889404, -0.024966584518551826, 0.14656256139278412, -0.014938915148377419, -0.03783797845244408, -0.01278765220195055, -0.040110085159540176, -0.05997325852513313, -0.05444754660129547, -0.014999962411820889, 0.06360387802124023, 0.028021562844514847, 0.013880660757422447, -0.025801438838243484, -0.046803828328847885, 0.03150809183716774, -0.020371777936816216, -0.045498576015233994, 0.001434648409485817, -0.07619421929121017, 0.020927684381604195, -0.052103783935308456, 0.05725391209125519]\n"
     ]
    }
   ],
   "source": [
    "print(records_dataset.select([2])['title'])\n",
    "print(records_dataset.select([2])['title_embedding'][0])"
   ]
  },
  {
   "cell_type": "markdown",
   "id": "83f0bf58-7d02-4902-82f5-c79309742e63",
   "metadata": {},
   "source": [
    "## Index the data in bulk, into our Opensearch index"
   ]
  },
  {
   "cell_type": "code",
   "execution_count": 10,
   "id": "3283728e-1d9a-4cab-9879-92d9beb696b3",
   "metadata": {},
   "outputs": [],
   "source": [
    "def format_date(date_string):\n",
    "    try:\n",
    "        date_obj = datetime.strptime(date_string, '%Y-%m-%d %H:%M:%S')\n",
    "        iso_date = date_obj.strftime('%Y-%m-%dT%H:%M:%S')\n",
    "        return iso_date\n",
    "    except ValueError:\n",
    "        return None\n",
    "\n",
    "def get_document(idx,records):    \n",
    "    rec = records.select([idx])\n",
    "    return {\n",
    "        'title': rec['title'][0],\n",
    "        'text': rec['text'][0],\n",
    "        'domain': rec['domain'][0],\n",
    "        'date': format_date(rec['date'][0]),\n",
    "        'description': rec['description'][0],\n",
    "        'url': rec['url'][0],\n",
    "        'image_url': rec['image_url'][0],\n",
    "        'title_embedding':rec['title_embedding'][0]        \n",
    "    }"
   ]
  },
  {
   "cell_type": "code",
   "execution_count": 11,
   "id": "0b994192-87c8-49df-9318-1c3ed261bac0",
   "metadata": {
    "scrolled": true
   },
   "outputs": [
    {
     "name": "stdout",
     "output_type": "stream",
     "text": [
      "{'title': 'Daughter Duo is Dancing in The Same Company', 'text': 'There\\'s a surprising twist to Regina Willoughby\\'s last season with Columbia City Ballet: It\\'s also her 18-year-old daughter Melina\\'s first season with the company. Regina, 40, will retire from the stage in March, just as her daughter starts her own career as a trainee. But for this one season, they\\'re sharing the stage together.\\nPerforming Side-By-Side In The Nutcracker\\nRegina and Melina are not only dancing in the same Nutcracker this month, they\\'re onstage at the same time: Regina is doing Snow Queen, while Melina is in the snow corps, and they\\'re both in the Arabian divertissement. \"It\\'s very surreal to be dancing it together,\" says Regina. \"I don\\'t know that I ever thought Melina would take ballet this far.\"\\nLeft: Regina and Melina with another company member post-snow scene in 2003. Right: The pair post-snow scene in 2017 (in the same theater)\\nKeep reading at dancemagazine.com.', 'domain': 'www.pointemagazine.com', 'date': '2017-12-11T20:19:05', 'description': \"There's a surprising twist to Regina Willoughby's last season with\\xa0Columbia City Ballet: It's also her 18-year-old daughter Melina's first season with the company.\", 'url': 'http://www.pointemagazine.com/mother-daughter-duo-dancing-2516681965.html', 'image_url': 'https://pointe-img.rbl.ms/simage/https%3A%2F%2Fassets.rbl.ms%2F16807693%2F980x.png/2000%2C2000/3VnhNGWp75K4SwMx/img.png', 'title_embedding': [0.0077761453576385975, 0.030636543408036232, 0.006429668981581926, 0.0032369056716561317, -0.006653287447988987, 0.08624328672885895, 0.06581216305494308, -0.06442854553461075, 0.010094475001096725, 0.03878570348024368, 0.08897552639245987, 0.001682488014921546, -0.006592807359993458, 0.0024186393711715937, 0.05286877602338791, -0.044901665300130844, -0.04365791007876396, 0.07277252525091171, -0.08364786952733994, 0.02291102521121502, 0.012090075761079788, -0.061757057905197144, -0.0040139672346413136, -0.03674366697669029, 0.016573714092373848, -0.03042393922805786, 0.007106689270585775, 0.032275114208459854, -0.02767174504697323, -0.08136256039142609, -0.05101297050714493, 0.02984686568379402, -0.03366857394576073, 0.004739792551845312, 0.03114062361419201, -0.014164022170007229, -0.009502747096121311, 0.07173678278923035, -0.026918206363916397, 0.03813187777996063, -0.03274917975068092, -0.055671993643045425, 0.038645729422569275, -0.07432642579078674, -0.016648434102535248, 0.007502265274524689, -0.04467473551630974, -0.033555470407009125, 0.05770282819867134, -0.04036208987236023, -0.05446848273277283, 0.009684399701654911, 0.040296703577041626, 0.08201044052839279, 0.0219049584120512, 0.09949012100696564, 0.01431345660239458, 0.07428652048110962, 0.05328064784407616, 0.06206314638257027, 0.009222384542226791, 0.046699944883584976, -0.11053913831710815, 0.09000472724437714, 0.047423768788576126, 0.026127971708774567, -0.03504391387104988, -0.019572822377085686, -0.10105737298727036, -0.03490564972162247, -0.005270548164844513, 0.049419742077589035, -0.01964624598622322, 0.09451861679553986, -0.06979241222143173, 0.06762922555208206, 0.014415441080927849, 0.019463401287794113, -0.09867366403341293, -0.008151793852448463, -0.03393397852778435, -0.07146894186735153, -0.024965643882751465, 0.026229670271277428, -0.009229660034179688, -0.05211957171559334, 0.018359720706939697, -0.04082285985350609, -0.0017785073723644018, -0.05560070276260376, -0.13855497539043427, 0.052985481917858124, -0.026619162410497665, -0.06171748787164688, -0.042060647159814835, -0.016335900872945786, -0.010381103493273258, 0.029788358137011528, 0.004881856497377157, 0.06054921820759773, 0.05049582198262215, 0.058746587485075, 0.05575014650821686, -0.02104378119111061, -0.013291102834045887, -0.06760014593601227, 0.03386572375893593, -0.03736591339111328, 0.022521428763866425, 0.0026985504664480686, -0.009093299508094788, 0.0022517649922519922, 0.0010840503964573145, -0.04134778305888176, -0.00020662495808210224, -0.00560683524236083, -0.012659536674618721, -0.006115664727985859, -0.06968842446804047, -0.006688959896564484, 0.05378706380724907, 0.031963009387254715, 0.0460866242647171, -0.017490053549408913, 0.023111212998628616, -0.08313687890768051, 0.07134232670068741, 0.1142251044511795, 0.06944924592971802, 0.047546762973070145, 0.02874460630118847, 0.009634977206587791, 0.019973546266555786, 0.011634962633252144, -0.04955260083079338, -0.0037874982226639986, -0.08099313080310822, 0.014370185323059559, 0.03792271763086319, -0.021770911291241646, -0.02300179935991764, -0.08789816498756409, 0.04656915366649628, -0.16570033133029938, -0.0018445353489369154, 0.044216666370630264, -0.07513705641031265, 0.08279270678758621, -0.05514279007911682, 0.0625527948141098, -0.10020317882299423, -0.0028490088880062103, -0.013551028445363045, 0.011329456232488155, 0.01880822889506817, 0.08995901793241501, 0.009774153120815754, 0.07688671350479126, -0.06050756946206093, 0.0017345189116895199, -0.03322913870215416, -0.013514798134565353, 0.06800071150064468, 0.08890806883573532, 0.01510731503367424, -0.14587223529815674, 0.06147483363747597, 0.028896644711494446, -0.03883231058716774, -0.053484220057725906, -0.0063109067268669605, 0.02868456393480301, 0.024221131578087807, 0.04689100384712219, 0.01655532605946064, -0.06907564401626587, -0.04083327576518059, -0.03436700999736786, 0.01790640503168106, -0.06475505232810974, 0.0589287132024765, -0.06876499950885773, 0.018136875703930855, 0.07776259630918503, 0.0748000517487526, -0.03846303001046181, -0.09099814295768738, -0.029054729267954826, 0.036374371498823166, -0.04670466482639313, -0.08402243256568909, -0.006962176412343979, -0.006060455925762653, 0.04098375514149666, 0.07603566348552704, -0.003348192200064659, -0.01599523052573204, -0.07658538222312927, -0.05249809846282005, -0.03979508951306343, 0.06928963959217072, 0.05208732187747955, -0.021762195974588394, 0.038391124457120895, -0.005142644979059696, 0.0389467217028141, 0.006197184789925814, -0.013417644426226616, -0.05449355021119118, -0.028729207813739777, -0.02282407507300377, -0.012241189368069172, -0.03355967253446579, -0.04139554128050804, -0.04489140957593918, -0.04227471724152565, -0.027218643575906754, 0.01616053283214569, -0.0009047698113135993, 0.022076880559325218, 0.056701213121414185, -0.016030559316277504, 0.0054347924888134, -0.12296780198812485, -0.0029639913700520992, -0.03529215604066849, -0.013102542608976364, 0.03519771248102188, 0.030820101499557495, -0.014109495095908642, 0.041738174855709076, 0.023094775155186653, 0.05671395733952522, 0.08939620852470398, 0.019282735884189606, -0.04416542127728462, -0.010617634281516075, 0.0005317137693054974, 0.08104190975427628, 0.00010116025077877566, 0.04308829829096794, 0.09616444259881973, -0.03211905062198639, -0.040634628385305405, -0.025931445881724358, -0.01391713134944439, 0.006615491583943367, 0.0270059946924448, -0.0411883220076561, 0.07864361256361008, 0.10832491517066956, 0.02007506974041462, -0.003952820785343647, 0.041399598121643066, 0.057262666523456573, 0.021344443783164024, -0.041568573564291, 0.07271698117256165, -0.03938283398747444, 0.05421212315559387, -0.01795383170247078, -0.025288701057434082, -0.03938542678952217, -0.014919650740921497, -0.021500522270798683, 0.01992051675915718, -0.08335013687610626, 0.14733484387397766, -0.054877620190382004, -0.03647300601005554, -0.01526253018528223, 0.02114187926054001, -0.02335486188530922, 0.020095188170671463, -0.07211051136255264, 0.0018828907050192356, -0.05190741643309593, -0.08505899459123611, -0.04164442792534828, -0.010456153191626072, 0.0374230295419693, -0.09229104220867157, 0.03481157496571541, -0.08475847542285919, 0.0051593962125480175, 0.054170653223991394, -0.026434728875756264, -0.030861083418130875, 0.04033588990569115, 0.01716255582869053, 0.047848548740148544, -0.04274515062570572, -0.023661930114030838, 0.013640218414366245, 0.055134546011686325, -0.09727954119443893, -0.009580662474036217, 0.0925975888967514, -0.013242105022072792, 0.0369994081556797, -0.022693779319524765, -0.017365634441375732, -0.010724341496825218, -0.01616791822016239, -0.1114092469215393, 0.040365394204854965, 0.05789083614945412, 0.003957846667617559, -0.07889091223478317, 0.02072337456047535, -0.004324956331402063, -0.019556934013962746, -0.06461656838655472, 0.007243790663778782, 0.0008293270948342979, 0.06814147531986237, 0.06599955260753632, -0.0570417083799839, -0.019497854635119438, -0.17713792622089386, -0.05042385309934616, 0.04367988556623459, -0.028692979365587234, -0.0034322193823754787, 0.015219476073980331, 0.034900132566690445, 0.0006136763258837163, -0.05410075560212135, -0.05397899076342583, 0.04781481996178627, 0.018193235620856285, 0.1284249871969223, 0.031842391937971115, -0.050039999186992645, 0.08982507884502411, 0.1211879625916481, 0.032802361994981766, 0.00760393962264061, -0.08430451154708862, -0.0048723844811320305, -0.019935129210352898, 0.11687621474266052, 0.019495809450745583, 0.01656559482216835, -0.006007486488670111, 0.01993100345134735, 0.06248842924833298, 0.018870992586016655, -0.01268555223941803, 0.01005986426025629, -0.02530258521437645, 0.05906759202480316, 0.02245153859257698, 0.044366177171468735, 0.052541982382535934, -0.03344954177737236, 0.021497681736946106, 0.07154987007379532, -0.028441553935408592, 0.03814295679330826, 0.03751151263713837, -0.08816900849342346, -0.047120485454797745, 0.10074806958436966, 0.04131874814629555, 0.001991035183891654, 0.024433864280581474, -0.04461534321308136, -0.06830324977636337, -0.016074322164058685, 0.012019460089504719, 0.05705263093113899, 0.046488597989082336, 0.055786799639463425, -0.052086226642131805, -0.0822138786315918, -0.011025155894458294, -0.03460414707660675, -0.03392878174781799, 0.022975929081439972, -0.09561441838741302, -0.010608399286866188, -0.03782416507601738, -0.006759703159332275]}\n"
     ]
    }
   ],
   "source": [
    "first_doc = get_document(0,records_dataset)\n",
    "print(first_doc)"
   ]
  },
  {
   "cell_type": "code",
   "execution_count": 12,
   "id": "99bdf0b1-dfdb-4d53-aecc-45d8897c0f6e",
   "metadata": {},
   "outputs": [],
   "source": [
    "def index_one(document):\n",
    "    index_name = \"ai-search\"\n",
    "    client.index(index=index_name, id=document['url'], body=document)"
   ]
  },
  {
   "cell_type": "code",
   "execution_count": 13,
   "id": "e9000709-1634-4954-9b24-47577b965ad7",
   "metadata": {},
   "outputs": [],
   "source": [
    "index_one(first_doc)"
   ]
  },
  {
   "cell_type": "code",
   "execution_count": 14,
   "id": "6adef055-eb40-473f-ad7c-58997fa22339",
   "metadata": {},
   "outputs": [
    {
     "data": {
      "text/plain": [
       "Dataset({\n",
       "    features: ['title', 'text', 'domain', 'date', 'description', 'url', 'image_url', 'title_embedding'],\n",
       "    num_rows: 100\n",
       "})"
      ]
     },
     "execution_count": 14,
     "metadata": {},
     "output_type": "execute_result"
    }
   ],
   "source": [
    "records_dataset.select(list(range(100,200)))"
   ]
  },
  {
   "cell_type": "code",
   "execution_count": 15,
   "id": "6e67bc0e-2c85-4359-a03c-1d3f6b1c7970",
   "metadata": {},
   "outputs": [
    {
     "data": {
      "text/plain": [
       "50000"
      ]
     },
     "execution_count": 15,
     "metadata": {},
     "output_type": "execute_result"
    }
   ],
   "source": [
    "records_dataset.num_rows"
   ]
  },
  {
   "cell_type": "code",
   "execution_count": 16,
   "id": "8a8d9ffa-ec98-436b-b8d7-b7118e9361e3",
   "metadata": {},
   "outputs": [],
   "source": [
    "def index_bulk(records_dataset,batch_size=100):\n",
    "    index=\"ai-search\"\n",
    "    count = records_dataset.num_rows\n",
    "    batches = (count//batch_size)+1\n",
    "    for batch in tqdm(range(0,count,batch_size)):\n",
    "        left = batch\n",
    "        right = min(batch+batch_size,count)\n",
    "        documents = []\n",
    "        for idx in range(left,right):\n",
    "            document = get_document(idx,records_dataset)\n",
    "            document['_index'] = index\n",
    "            document['_id'] = document['url']\n",
    "            documents.append(document)\n",
    "        response = helpers.bulk(client,documents,max_retries=3)"
   ]
  },
  {
   "cell_type": "code",
   "execution_count": 17,
   "id": "e10e6aa1-edc7-4e58-8254-dcad4040c630",
   "metadata": {
    "scrolled": true
   },
   "outputs": [
    {
     "data": {
      "application/vnd.jupyter.widget-view+json": {
       "model_id": "62d027b7949043feac3069d776877bef",
       "version_major": 2,
       "version_minor": 0
      },
      "text/plain": [
       "  0%|          | 0/500 [00:00<?, ?it/s]"
      ]
     },
     "metadata": {},
     "output_type": "display_data"
    }
   ],
   "source": [
    "index_bulk(records_dataset)"
   ]
  },
  {
   "cell_type": "markdown",
   "id": "a4c9d6bc-4c4d-4b28-9901-66fffc3dd7ba",
   "metadata": {},
   "source": [
    "# Time to search!"
   ]
  },
  {
   "cell_type": "code",
   "execution_count": 18,
   "id": "40015c9e-9e27-4b23-be4c-d8fb96e8a4bc",
   "metadata": {},
   "outputs": [],
   "source": [
    "def get_knn_body(querystring):\n",
    "    embeddings = get_embeddings(querystring)\n",
    "    return {\n",
    "      \"query\": {\n",
    "        \"bool\": {\n",
    "          \"should\": [\n",
    "            {\n",
    "              \"knn\": {\n",
    "                \"title_embedding\": {\n",
    "                  \"vector\": embeddings[0],\n",
    "                  \"k\": 20\n",
    "                }\n",
    "              }\n",
    "            }\n",
    "          ]\n",
    "        }\n",
    "      },\n",
    "      \"_source\": {\"exclude\":[\"title_embedding\"]}\n",
    "    }"
   ]
  },
  {
   "cell_type": "code",
   "execution_count": 24,
   "id": "e8ed0cfc-2e84-46b9-afc3-0a9167a0a9ae",
   "metadata": {},
   "outputs": [],
   "source": [
    "from IPython.display import display, HTML\n",
    "def serps(querystring,resp,k=5,show=True):\n",
    "\n",
    "    count = resp[\"hits\"][\"total\"][\"value\"]\n",
    "    results = resp[\"hits\"][\"hits\"]\n",
    "    \n",
    "    # Create an HTML string to format the results\n",
    "    html_str = f\"<h4>Showing {count} Results for <em>{querystring}</em></h4><ol>\"\n",
    "    \n",
    "    for result in results[:k]:\n",
    "        score = result.get(\"_score\")\n",
    "        title = result[\"_source\"].get(\"title\", \"No title\")\n",
    "        url = result[\"_source\"].get(\"url\", \"No title\")\n",
    "        description = result[\"_source\"].get(\"description\", None)\n",
    "        text = result[\"_source\"].get(\"text\", \"\")\n",
    "        snippet = description if description else text[:140]+\"...\"\n",
    "        \n",
    "        # Format each result as an HTML list item\n",
    "        html_str += f'<li><b>{title}</b>({score})<br>{snippet}<br><span style=\"font-size:0.8em\"><a href=\"{url}\">{url}</a></a></li>'\n",
    "    \n",
    "    html_str += \"</ol>\"\n",
    "    \n",
    "    # Display the HTML in the Jupyter Notebook\n",
    "    if show:\n",
    "        display(HTML(html_str))\n",
    "    else:\n",
    "        return html_str"
   ]
  },
  {
   "cell_type": "code",
   "execution_count": 28,
   "id": "040c3ec5-2268-4dd4-a39f-cdfa9169ff46",
   "metadata": {},
   "outputs": [],
   "source": [
    "def search(querystring):\n",
    "    body = get_knn_body(querystring)\n",
    "    resp = client.search(body=body, index=\"ai-search\")\n",
    "    serps(querystring,resp)"
   ]
  },
  {
   "cell_type": "code",
   "execution_count": 29,
   "id": "cc5b20f1-2455-40a4-a664-511fe8a6b9db",
   "metadata": {},
   "outputs": [
    {
     "data": {
      "text/html": [
       "<h4>Showing 160 Results for <em>Ballet event</em></h4><ol><li><b>Ballet Performances This Week</b>(0.87941813)<br>What's going on in ballet this week? We've pulled together some highlights.<br><span style=\"font-size:0.8em\"><a href=\"http://www.pointemagazine.com/ballet-performances-this-week-2549913307.html\">http://www.pointemagazine.com/ballet-performances-this-week-2549913307.html</a></a></li><li><b>Watch Pennsylvania Ballet & Boston Ballet Face Off for the Super Bowl</b>(0.866263)<br>The Philadelphia Eagles and the New England Patriots aren't the only teams bringing Super Bowl entertainment this week. To celebrate game day (and cheer on their region's respective teams), the dancers of Pennsylvania Ballet and Boston Ballet took a break from their usual rehearsals to perform some Super Bowl-themed choreography.<br><span style=\"font-size:0.8em\"><a href=\"http://www.pointemagazine.com/watch-pennsylvania-ballet-boston-ballet-face-off-for-the-super-bowl-2530816257.html\">http://www.pointemagazine.com/watch-pennsylvania-ballet-boston-ballet-face-off-for-the-super-bowl-2530816257.html</a></a></li><li><b>It's story time at Oakland Ballet</b>(0.8648135)<br>Oakland Ballet presents \"Scene & Heard,\" a new program featuring 5 storytelling new works, and hosts the East Bay Dance mini-festival.<br><span style=\"font-size:0.8em\"><a href=\"https://www.mercurynews.com/2018/05/30/dance-pick-its-story-time-at-oakland-ballet/\">https://www.mercurynews.com/2018/05/30/dance-pick-its-story-time-at-oakland-ballet/</a></a></li><li><b>american ballet theatre</b>(0.8645344)<br>Misty Copeland is casually chilling in the back of your Pilates class Misty Copeland is a proud Upper West Sider. “I’ve never lived anywhere...<br><span style=\"font-size:0.8em\"><a href=\"https://nypost.com/tag/american-ballet-theatre/\">https://nypost.com/tag/american-ballet-theatre/</a></a></li><li><b>Segerstrom welcomes Mariinsky Ballet and the company’s newest principal dancer Xander Parish</b>(0.8565459)<br>The Segerstrom Center for the Arts premiere of “Le Spectre de la Rose” by Michel Fokine will be performed by Mariinsky Ballet Oct. 12. (Phot...<br><span style=\"font-size:0.8em\"><a href=\"http://www.ocregister.com/2017/10/06/segerstrom-welcomes-mariinsky-ballet-and-the-companys-newest-principal-dancer-xander-parish/\">http://www.ocregister.com/2017/10/06/segerstrom-welcomes-mariinsky-ballet-and-the-companys-newest-principal-dancer-xander-parish/</a></a></li></ol>"
      ],
      "text/plain": [
       "<IPython.core.display.HTML object>"
      ]
     },
     "metadata": {},
     "output_type": "display_data"
    }
   ],
   "source": [
    "search(\"Ballet event\")"
   ]
  },
  {
   "cell_type": "code",
   "execution_count": null,
   "id": "9c9dec5a-55c8-4a82-b184-88b5c8c8ca3f",
   "metadata": {},
   "outputs": [],
   "source": []
  }
 ],
 "metadata": {
  "kernelspec": {
   "display_name": "Python 3 (ipykernel)",
   "language": "python",
   "name": "python3"
  },
  "language_info": {
   "codemirror_mode": {
    "name": "ipython",
    "version": 3
   },
   "file_extension": ".py",
   "mimetype": "text/x-python",
   "name": "python",
   "nbconvert_exporter": "python",
   "pygments_lexer": "ipython3",
   "version": "3.11.5"
  }
 },
 "nbformat": 4,
 "nbformat_minor": 5
}
