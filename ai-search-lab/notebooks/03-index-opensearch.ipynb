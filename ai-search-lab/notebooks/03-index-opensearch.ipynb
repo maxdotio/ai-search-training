{
 "cells": [
  {
   "cell_type": "code",
   "execution_count": 1,
   "id": "50bf3672-403a-487c-b284-14015325eff1",
   "metadata": {
    "scrolled": true
   },
   "outputs": [
    {
     "name": "stdout",
     "output_type": "stream",
     "text": [
      "\u001b[33mWARNING: The directory '/home/jovyan/.cache/pip' or its parent directory is not owned or is not writable by the current user. The cache has been disabled. Check the permissions and owner of that directory. If executing pip with sudo, you should use sudo's -H flag.\u001b[0m\u001b[33m\n",
      "\u001b[0mRequirement already satisfied: opensearch-py==2.3.1 in /opt/conda/lib/python3.11/site-packages (2.3.1)\n",
      "Requirement already satisfied: urllib3<2,>=1.21.1 in /opt/conda/lib/python3.11/site-packages (from opensearch-py==2.3.1) (1.26.16)\n",
      "Requirement already satisfied: requests<3.0.0,>=2.4.0 in /opt/conda/lib/python3.11/site-packages (from opensearch-py==2.3.1) (2.31.0)\n",
      "Requirement already satisfied: six in /opt/conda/lib/python3.11/site-packages (from opensearch-py==2.3.1) (1.16.0)\n",
      "Requirement already satisfied: python-dateutil in /opt/conda/lib/python3.11/site-packages (from opensearch-py==2.3.1) (2.8.2)\n",
      "Requirement already satisfied: certifi>=2022.12.07 in /opt/conda/lib/python3.11/site-packages (from opensearch-py==2.3.1) (2023.7.22)\n",
      "Requirement already satisfied: charset-normalizer<4,>=2 in /opt/conda/lib/python3.11/site-packages (from requests<3.0.0,>=2.4.0->opensearch-py==2.3.1) (3.2.0)\n",
      "Requirement already satisfied: idna<4,>=2.5 in /opt/conda/lib/python3.11/site-packages (from requests<3.0.0,>=2.4.0->opensearch-py==2.3.1) (3.4)\n",
      "\u001b[33mWARNING: Running pip as the 'root' user can result in broken permissions and conflicting behaviour with the system package manager. It is recommended to use a virtual environment instead: https://pip.pypa.io/warnings/venv\u001b[0m\u001b[33m\n",
      "\u001b[0m"
     ]
    }
   ],
   "source": [
    "#!pip install opensearch-py==2.3.1"
   ]
  },
  {
   "cell_type": "code",
   "execution_count": 1,
   "id": "55797adf-fda8-4ec2-aaf3-59c4345268ac",
   "metadata": {},
   "outputs": [],
   "source": [
    "from opensearchpy import OpenSearch\n",
    "from sentence_transformers import SentenceTransformer, util as STutil\n",
    "from tqdm.notebook import tqdm\n",
    "from datasets import Dataset,load_dataset\n",
    "import numpy as np"
   ]
  },
  {
   "cell_type": "code",
   "execution_count": 2,
   "id": "5d7ac1d4-8c6f-4eec-94c6-c04e7c32559f",
   "metadata": {},
   "outputs": [
    {
     "name": "stdout",
     "output_type": "stream",
     "text": [
      "Welcome to opensearch 2.8.0!\n"
     ]
    }
   ],
   "source": [
    "# https://github.com/opensearch-project/opensearch-py/blob/main/USER_GUIDE.md\n",
    "host = 'ai-search-opensearch-node'\n",
    "port = 9200\n",
    "client = OpenSearch(hosts = [{'host': host, 'port': port}])\n",
    "info = client.info()\n",
    "print(f\"Welcome to {info['version']['distribution']} {info['version']['number']}!\")"
   ]
  },
  {
   "cell_type": "markdown",
   "id": "7330b9cd-d441-4073-a1e2-370840f62d50",
   "metadata": {},
   "source": [
    "## Create the OpenSearch Index"
   ]
  },
  {
   "cell_type": "code",
   "execution_count": 3,
   "id": "b596f15c-bfb0-4122-ba38-b656d57b51c5",
   "metadata": {},
   "outputs": [],
   "source": [
    "def create_index(name=\"ai-search\",filename=\"schema.json\",delete=False):\n",
    "    schema = None\n",
    "    with open(filename) as fd:\n",
    "        schema = fd.read()\n",
    "    index_name = name\n",
    "    index_body = schema\n",
    "\n",
    "    if delete:\n",
    "        try:\n",
    "            client.indices.delete(index_name)\n",
    "        except:\n",
    "            pass\n",
    "        \n",
    "    response = client.indices.create(index_name,body=index_body)\n",
    "    \n",
    "    print(response)"
   ]
  },
  {
   "cell_type": "code",
   "execution_count": 4,
   "id": "ca8cdc04-9308-49ad-8e6d-be2f1db0f109",
   "metadata": {},
   "outputs": [
    {
     "name": "stdout",
     "output_type": "stream",
     "text": [
      "{'acknowledged': True, 'shards_acknowledged': True, 'index': 'ai-search'}\n"
     ]
    }
   ],
   "source": [
    "create_index(delete=True)\n",
    "#create_index()"
   ]
  },
  {
   "cell_type": "markdown",
   "id": "a529604a-3130-4243-ac57-619fb1696490",
   "metadata": {},
   "source": [
    "## Use the same model and method to get the query embedding, with some defaults changed\n",
    "Remember, the model is `intfloat/e5-small-v2` and we need to prefix any query with 'query:'"
   ]
  },
  {
   "cell_type": "code",
   "execution_count": 5,
   "id": "51bb8416-ea0c-44dc-869c-196ee4671425",
   "metadata": {},
   "outputs": [],
   "source": [
    "#The E5 models expect 'query:' and 'passage:' prefixes\n",
    "model = SentenceTransformer('intfloat/e5-small-v2')\n",
    "def get_embeddings(texts,prefix=\"query:\"):\n",
    "    #The E5 models expects either 'query:' or 'passage:' prefix\n",
    "    if not isinstance(texts, list):\n",
    "        texts = [texts]\n",
    "    prefixed = [prefix+text for text in texts]\n",
    "    embeddings = model.encode(prefixed,show_progress_bar=False)\n",
    "    return embeddings"
   ]
  },
  {
   "cell_type": "markdown",
   "id": "c83d8993-83e8-4799-a8aa-def7783df430",
   "metadata": {},
   "source": [
    "## Get our dataset and title_embeddings"
   ]
  },
  {
   "cell_type": "code",
   "execution_count": 6,
   "id": "3015a4dd-06d1-4508-a1d4-97edf64f968b",
   "metadata": {},
   "outputs": [],
   "source": [
    "# Load 50k records of the the 'cc_news' dataset from Hugging Face\n",
    "dataset = load_dataset(\"cc_news\",split='train[0:50000]')"
   ]
  },
  {
   "cell_type": "code",
   "execution_count": 7,
   "id": "47cbf97b-8c05-4540-835b-ea04f1de8cac",
   "metadata": {},
   "outputs": [],
   "source": [
    "#Load the title_embeddings we generated in 02-sentence-transformers\n",
    "title_embeddings = []\n",
    "import pickle\n",
    "with open('cc_news_title_embeddings_50000.pkl','rb') as fd:\n",
    "    title_embeddings = pickle.load(fd)"
   ]
  },
  {
   "cell_type": "markdown",
   "id": "83f0bf58-7d02-4902-82f5-c79309742e63",
   "metadata": {},
   "source": [
    "## Index the data in bulk, into our Opensearch index"
   ]
  },
  {
   "cell_type": "code",
   "execution_count": 8,
   "id": "99bdf0b1-dfdb-4d53-aecc-45d8897c0f6e",
   "metadata": {},
   "outputs": [],
   "source": [
    "def index_one(title_embedding,record):\n",
    "    document = {\n",
    "        'title_embedding':title_embedding,\n",
    "        'title': record['title'][0],\n",
    "        'text': record['text'][0],\n",
    "        'domain': record['domain'][0],\n",
    "        'date': record['date'][0],\n",
    "        'description': record['description'][0],\n",
    "        'url': record['url'][0],\n",
    "        'image_url': record['image_url'][0]\n",
    "    }\n",
    "    index_name = \"ai-search\"  # Replace with your desired index name\n",
    "    client.index(index=index_name, id=document['url'], body=document)"
   ]
  },
  {
   "cell_type": "code",
   "execution_count": 9,
   "id": "e9000709-1634-4954-9b24-47577b965ad7",
   "metadata": {},
   "outputs": [],
   "source": [
    "index_one(title_embeddings[0],dataset.select([0]))"
   ]
  },
  {
   "cell_type": "code",
   "execution_count": null,
   "id": "4e44b2ba-8d47-4a51-b4da-95cf35c2fe52",
   "metadata": {},
   "outputs": [],
   "source": [
    "#def get_batch_body(title_embeddings,dataset):\n",
    "#    \n",
    "#def index_bulk(title_embeddings,dataset,batch_size=100):\n",
    "#    index = 0\n",
    "#    count = len(title_embeddings)\n",
    "#    for batch in range(0,count//batch_size):\n",
    "#        data = [???]\n",
    "#\n",
    "#    response = client.bulk(data)"
   ]
  }
 ],
 "metadata": {
  "kernelspec": {
   "display_name": "Python 3 (ipykernel)",
   "language": "python",
   "name": "python3"
  },
  "language_info": {
   "codemirror_mode": {
    "name": "ipython",
    "version": 3
   },
   "file_extension": ".py",
   "mimetype": "text/x-python",
   "name": "python",
   "nbconvert_exporter": "python",
   "pygments_lexer": "ipython3",
   "version": "3.11.5"
  }
 },
 "nbformat": 4,
 "nbformat_minor": 5
}
