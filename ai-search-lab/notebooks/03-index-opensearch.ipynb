{
 "cells": [
  {
   "cell_type": "markdown",
   "id": "3b98c7e4-b55f-4f88-a88c-61c273f900ea",
   "metadata": {},
   "source": [
    "# Lab 3 - Indexing and Searching embeddings in Opensearch"
   ]
  },
  {
   "cell_type": "code",
   "execution_count": null,
   "id": "55797adf-fda8-4ec2-aaf3-59c4345268ac",
   "metadata": {},
   "outputs": [],
   "source": [
    "from opensearchpy import OpenSearch,helpers\n",
    "from sentence_transformers import SentenceTransformer, util as STutil\n",
    "from tqdm.notebook import tqdm\n",
    "from datasets import Dataset,load_dataset,concatenate_datasets\n",
    "from datetime import datetime\n",
    "import numpy as np\n",
    "import pickle"
   ]
  },
  {
   "cell_type": "code",
   "execution_count": null,
   "id": "5d7ac1d4-8c6f-4eec-94c6-c04e7c32559f",
   "metadata": {},
   "outputs": [],
   "source": [
    "# https://github.com/opensearch-project/opensearch-py/blob/main/USER_GUIDE.md\n",
    "host = 'ai-search-opensearch-node'\n",
    "port = 9200\n",
    "client = OpenSearch(hosts = [{'host': host, 'port': port}])\n",
    "info = client.info()\n",
    "print(f\"Welcome to {info['version']['distribution']} {info['version']['number']}!\")"
   ]
  },
  {
   "cell_type": "markdown",
   "id": "5713e820-8f5f-44bf-b80c-eddff6513127",
   "metadata": {},
   "source": [
    "## First, look at the schema\n",
    "\n",
    "Right click on the 'schema.json' file in the tree, and open with Editor"
   ]
  },
  {
   "cell_type": "markdown",
   "id": "7330b9cd-d441-4073-a1e2-370840f62d50",
   "metadata": {},
   "source": [
    "## Create the OpenSearch Index"
   ]
  },
  {
   "cell_type": "code",
   "execution_count": null,
   "id": "b596f15c-bfb0-4122-ba38-b656d57b51c5",
   "metadata": {},
   "outputs": [],
   "source": [
    "def create_index(name=\"ai-search\",filename=\"schema.json\",delete=False):\n",
    "    schema = None\n",
    "    with open(filename) as fd:\n",
    "        schema = fd.read()\n",
    "    index_name = name\n",
    "    index_body = schema\n",
    "\n",
    "    if delete:\n",
    "        try:\n",
    "            client.indices.delete(index_name)\n",
    "        except:\n",
    "            pass\n",
    "        \n",
    "    response = client.indices.create(index_name,body=index_body)\n",
    "    \n",
    "    print(response)"
   ]
  },
  {
   "cell_type": "code",
   "execution_count": null,
   "id": "ca8cdc04-9308-49ad-8e6d-be2f1db0f109",
   "metadata": {},
   "outputs": [],
   "source": [
    "create_index(delete=True)\n",
    "#create_index()"
   ]
  },
  {
   "cell_type": "markdown",
   "id": "a529604a-3130-4243-ac57-619fb1696490",
   "metadata": {},
   "source": [
    "## Use the same model and method to get the query embedding, with some defaults changed\n",
    "Remember, the model is `intfloat/e5-small-v2` and we need to prefix any query with 'query:'"
   ]
  },
  {
   "cell_type": "code",
   "execution_count": null,
   "id": "51bb8416-ea0c-44dc-869c-196ee4671425",
   "metadata": {},
   "outputs": [],
   "source": [
    "#The E5 models expect 'query:' and 'passage:' prefixes\n",
    "model = SentenceTransformer('intfloat/e5-small-v2')\n",
    "def get_embeddings(texts,prefix=\"query: \"):\n",
    "    #The E5 models expects either 'query:' or 'passage:' prefix\n",
    "    if not isinstance(texts, list):\n",
    "        texts = [texts]\n",
    "    prefixed = [prefix+text for text in texts]\n",
    "    embeddings = model.encode(prefixed,show_progress_bar=False)\n",
    "    return embeddings"
   ]
  },
  {
   "cell_type": "markdown",
   "id": "c83d8993-83e8-4799-a8aa-def7783df430",
   "metadata": {},
   "source": [
    "## Get our dataset and title_embeddings"
   ]
  },
  {
   "cell_type": "code",
   "execution_count": null,
   "id": "3015a4dd-06d1-4508-a1d4-97edf64f968b",
   "metadata": {},
   "outputs": [],
   "source": [
    "# Load 50k records of the the 'cc_news' dataset from Hugging Face\n",
    "dataset = load_dataset(\"cc_news\",split='train[0:50000]')"
   ]
  },
  {
   "cell_type": "code",
   "execution_count": null,
   "id": "47cbf97b-8c05-4540-835b-ea04f1de8cac",
   "metadata": {},
   "outputs": [],
   "source": [
    "#Load the title_embeddings we generated in 02-sentence-transformers\n",
    "title_embeddings = []\n",
    "with open('cc_news_title_embeddings_50000.pkl','rb') as fd:\n",
    "    title_embeddings = pickle.load(fd)"
   ]
  },
  {
   "cell_type": "code",
   "execution_count": null,
   "id": "cb99bc62-ce33-43dc-98b7-891e7b8972b1",
   "metadata": {},
   "outputs": [],
   "source": [
    "#Add the title embeddings as a new column in our dataset\n",
    "title_embeddings_dataset = Dataset.from_dict({\"title_embedding\": title_embeddings})\n",
    "records_dataset = concatenate_datasets([dataset, title_embeddings_dataset], axis=1)\n",
    "#dataset = dataset.add_column(\"title_embedding\",title_embeddings)"
   ]
  },
  {
   "cell_type": "code",
   "execution_count": null,
   "id": "e14c3311-b8db-451f-836b-e3debc324617",
   "metadata": {
    "scrolled": true
   },
   "outputs": [],
   "source": [
    "print(records_dataset.select([2])['title'])\n",
    "print(records_dataset.select([2])['title_embedding'][0])"
   ]
  },
  {
   "cell_type": "markdown",
   "id": "83f0bf58-7d02-4902-82f5-c79309742e63",
   "metadata": {},
   "source": [
    "## Index the data in bulk, into our Opensearch index"
   ]
  },
  {
   "cell_type": "code",
   "execution_count": null,
   "id": "3283728e-1d9a-4cab-9879-92d9beb696b3",
   "metadata": {},
   "outputs": [],
   "source": [
    "def format_date(date_string):\n",
    "    try:\n",
    "        date_obj = datetime.strptime(date_string, '%Y-%m-%d %H:%M:%S')\n",
    "        iso_date = date_obj.strftime('%Y-%m-%dT%H:%M:%S')\n",
    "        return iso_date\n",
    "    except ValueError:\n",
    "        return None\n",
    "\n",
    "def get_document(idx,records):    \n",
    "    rec = records.select([idx])\n",
    "    return {\n",
    "        'title': rec['title'][0],\n",
    "        'text': rec['text'][0],\n",
    "        'domain': rec['domain'][0],\n",
    "        'date': format_date(rec['date'][0]),\n",
    "        'description': rec['description'][0],\n",
    "        'url': rec['url'][0],\n",
    "        'image_url': rec['image_url'][0],\n",
    "        'title_embedding':rec['title_embedding'][0]        \n",
    "    }"
   ]
  },
  {
   "cell_type": "code",
   "execution_count": null,
   "id": "0b994192-87c8-49df-9318-1c3ed261bac0",
   "metadata": {
    "scrolled": true
   },
   "outputs": [],
   "source": [
    "first_doc = get_document(0,records_dataset)\n",
    "print(first_doc)"
   ]
  },
  {
   "cell_type": "code",
   "execution_count": null,
   "id": "99bdf0b1-dfdb-4d53-aecc-45d8897c0f6e",
   "metadata": {},
   "outputs": [],
   "source": [
    "def index_one(document):\n",
    "    index_name = \"ai-search\"\n",
    "    client.index(index=index_name, id=document['url'], body=document)"
   ]
  },
  {
   "cell_type": "code",
   "execution_count": null,
   "id": "e9000709-1634-4954-9b24-47577b965ad7",
   "metadata": {},
   "outputs": [],
   "source": [
    "index_one(first_doc)"
   ]
  },
  {
   "cell_type": "code",
   "execution_count": null,
   "id": "6adef055-eb40-473f-ad7c-58997fa22339",
   "metadata": {},
   "outputs": [],
   "source": [
    "records_dataset.select(list(range(100,200)))"
   ]
  },
  {
   "cell_type": "code",
   "execution_count": null,
   "id": "6e67bc0e-2c85-4359-a03c-1d3f6b1c7970",
   "metadata": {},
   "outputs": [],
   "source": [
    "records_dataset.num_rows"
   ]
  },
  {
   "cell_type": "code",
   "execution_count": null,
   "id": "8a8d9ffa-ec98-436b-b8d7-b7118e9361e3",
   "metadata": {},
   "outputs": [],
   "source": [
    "def index_bulk(records_dataset,batch_size=100):\n",
    "    index = \"ai-search\"\n",
    "    count = records_dataset.num_rows\n",
    "    batches = (count//batch_size)+1\n",
    "    for batch in tqdm(range(0,count,batch_size)):\n",
    "        left = batch\n",
    "        right = min(batch+batch_size,count)\n",
    "        documents = []\n",
    "        for idx in range(left,right):\n",
    "            document = get_document(idx,records_dataset)\n",
    "            document['_index'] = index\n",
    "            document['_id'] = document['url']\n",
    "            documents.append(document)\n",
    "        response = helpers.bulk(client,documents,max_retries=3)"
   ]
  },
  {
   "cell_type": "code",
   "execution_count": null,
   "id": "e10e6aa1-edc7-4e58-8254-dcad4040c630",
   "metadata": {
    "scrolled": true
   },
   "outputs": [],
   "source": [
    "index_bulk(records_dataset)"
   ]
  },
  {
   "cell_type": "markdown",
   "id": "a4c9d6bc-4c4d-4b28-9901-66fffc3dd7ba",
   "metadata": {},
   "source": [
    "# Time to search!"
   ]
  },
  {
   "cell_type": "code",
   "execution_count": null,
   "id": "40015c9e-9e27-4b23-be4c-d8fb96e8a4bc",
   "metadata": {},
   "outputs": [],
   "source": [
    "def get_knn_body(querystring):\n",
    "    embeddings = get_embeddings(querystring)\n",
    "    return {\n",
    "      \"query\": {\n",
    "        \"bool\": {\n",
    "          \"should\": [\n",
    "            {\n",
    "              \"knn\": {\n",
    "                \"title_embedding\": {\n",
    "                  \"vector\": embeddings[0],\n",
    "                  \"k\": 20\n",
    "                }\n",
    "              }\n",
    "            }\n",
    "          ]\n",
    "        }\n",
    "      },\n",
    "      \"_source\": {\"exclude\":[\"title_embedding\"]}\n",
    "    }"
   ]
  },
  {
   "cell_type": "code",
   "execution_count": null,
   "id": "e8ed0cfc-2e84-46b9-afc3-0a9167a0a9ae",
   "metadata": {},
   "outputs": [],
   "source": [
    "from IPython.display import display, HTML\n",
    "def serps(querystring,resp,k=5,show=True):\n",
    "\n",
    "    count = resp[\"hits\"][\"total\"][\"value\"]\n",
    "    results = resp[\"hits\"][\"hits\"]\n",
    "    \n",
    "    # Create an HTML string to format the results\n",
    "    html_str = f\"<h4>Showing {count} Results for <em>{querystring}</em></h4><ol>\"\n",
    "    \n",
    "    for result in results[:k]:\n",
    "        score = result.get(\"_score\")\n",
    "        title = result[\"_source\"].get(\"title\", \"No title\")\n",
    "        url = result[\"_source\"].get(\"url\", \"No title\")\n",
    "        description = result[\"_source\"].get(\"description\", None)\n",
    "        text = result[\"_source\"].get(\"text\", \"\")\n",
    "        snippet = description if description else text[:140]+\"...\"\n",
    "        \n",
    "        # Format each result as an HTML list item\n",
    "        html_str += f'<li><b>{title}</b>({score})<br>{snippet}<br><span style=\"font-size:0.8em\"><a href=\"{url}\">{url}</a></a></li>'\n",
    "    \n",
    "    html_str += \"</ol>\"\n",
    "    \n",
    "    # Display the HTML in the Jupyter Notebook\n",
    "    if show:\n",
    "        display(HTML(html_str))\n",
    "    else:\n",
    "        return html_str"
   ]
  },
  {
   "cell_type": "code",
   "execution_count": null,
   "id": "040c3ec5-2268-4dd4-a39f-cdfa9169ff46",
   "metadata": {},
   "outputs": [],
   "source": [
    "def search(querystring):\n",
    "    body = get_knn_body(querystring)\n",
    "    resp = client.search(body=body, index=\"ai-search\")\n",
    "    serps(querystring,resp)"
   ]
  },
  {
   "cell_type": "code",
   "execution_count": null,
   "id": "cc5b20f1-2455-40a4-a664-511fe8a6b9db",
   "metadata": {},
   "outputs": [],
   "source": [
    "search(\"Ballet event\")"
   ]
  },
  {
   "cell_type": "code",
   "execution_count": null,
   "id": "9c9dec5a-55c8-4a82-b184-88b5c8c8ca3f",
   "metadata": {},
   "outputs": [],
   "source": [
    "search(\"housing market\")"
   ]
  },
  {
   "cell_type": "code",
   "execution_count": null,
   "id": "2a43ea03-cf47-4050-8401-01a95051001d",
   "metadata": {},
   "outputs": [],
   "source": []
  }
 ],
 "metadata": {
  "kernelspec": {
   "display_name": "Python 3 (ipykernel)",
   "language": "python",
   "name": "python3"
  },
  "language_info": {
   "codemirror_mode": {
    "name": "ipython",
    "version": 3
   },
   "file_extension": ".py",
   "mimetype": "text/x-python",
   "name": "python",
   "nbconvert_exporter": "python",
   "pygments_lexer": "ipython3",
   "version": "3.11.5"
  }
 },
 "nbformat": 4,
 "nbformat_minor": 5
}
