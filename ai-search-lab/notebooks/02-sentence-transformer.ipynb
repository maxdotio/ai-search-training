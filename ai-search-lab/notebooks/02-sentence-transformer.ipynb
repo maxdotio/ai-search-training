{
 "cells": [
  {
   "cell_type": "markdown",
   "id": "9485b711-276b-4535-a522-03f9493a4f28",
   "metadata": {},
   "source": [
    "# Lab 2 - Basic sentence transformer inference and similarity"
   ]
  },
  {
   "cell_type": "code",
   "execution_count": null,
   "id": "ed7fd151-4d82-4b0b-ad3b-b3b4e6bc829d",
   "metadata": {},
   "outputs": [],
   "source": [
    "from sentence_transformers import SentenceTransformer, util as STutil\n",
    "model = SentenceTransformer('all-MiniLM-L6-v2')"
   ]
  },
  {
   "cell_type": "code",
   "execution_count": null,
   "id": "b728d315-a4ec-4251-8b1a-934804adfc13",
   "metadata": {},
   "outputs": [],
   "source": [
    "#Example from https://sbert.net\n",
    "sentences = ['This framework generates embeddings for each input sentence',\n",
    "    'Sentences are passed as a list of string.', \n",
    "    'The quick brown fox jumps over the lazy dog.']\n",
    "sentence_embeddings = model.encode(sentences)"
   ]
  },
  {
   "cell_type": "code",
   "execution_count": null,
   "id": "f8284c29-39f4-4438-b726-7dbda2da1fd9",
   "metadata": {
    "scrolled": true
   },
   "outputs": [],
   "source": [
    "sentence_embeddings[0]"
   ]
  },
  {
   "cell_type": "code",
   "execution_count": null,
   "id": "09bcd66b-b45d-44a6-93a5-caa19e3312d0",
   "metadata": {
    "scrolled": true
   },
   "outputs": [],
   "source": [
    "sentence_embeddings[1]"
   ]
  },
  {
   "cell_type": "code",
   "execution_count": null,
   "id": "fbb3b272-b77f-47ef-accd-390845dc599f",
   "metadata": {},
   "outputs": [],
   "source": [
    "#Use cosine similarity to compare the first two embeddings and get a score\n",
    "similarities = STutil.pytorch_cos_sim(sentence_embeddings[0], sentence_embeddings[1])"
   ]
  },
  {
   "cell_type": "code",
   "execution_count": null,
   "id": "cc073a0d-cfad-4575-a61c-9a2f74728a1d",
   "metadata": {},
   "outputs": [],
   "source": [
    "similarities"
   ]
  },
  {
   "cell_type": "markdown",
   "id": "181d5fb7-eecc-4797-8e2c-bf3ca5dd840d",
   "metadata": {},
   "source": [
    "## Inference of a small dataset"
   ]
  },
  {
   "cell_type": "code",
   "execution_count": null,
   "id": "c6e8f4ba-663f-4bf4-8b5e-aad182d89216",
   "metadata": {},
   "outputs": [],
   "source": [
    "from tqdm.notebook import tqdm\n",
    "from datasets import Dataset,load_dataset"
   ]
  },
  {
   "cell_type": "code",
   "execution_count": null,
   "id": "5b77933b-dc82-4f77-9260-e6b057380531",
   "metadata": {},
   "outputs": [],
   "source": [
    "!free -h"
   ]
  },
  {
   "cell_type": "code",
   "execution_count": null,
   "id": "8b2ce856-ac25-44e8-9254-c797cfe65f6a",
   "metadata": {},
   "outputs": [],
   "source": [
    "#See the model card here: https://huggingface.co/intfloat/e5-small-v2\n",
    "model = SentenceTransformer('intfloat/e5-small-v2')"
   ]
  },
  {
   "cell_type": "code",
   "execution_count": null,
   "id": "c27bda53-5b31-459c-a37a-edcfd4c5fa4d",
   "metadata": {},
   "outputs": [],
   "source": [
    "#Should result in about 100MB less RAM available\n",
    "!free -h"
   ]
  },
  {
   "cell_type": "code",
   "execution_count": null,
   "id": "2f7718c2-4206-42d1-85c2-690ff00efca3",
   "metadata": {},
   "outputs": [],
   "source": [
    "#The E5 models expect 'query: ' and 'passage: ' prefixes\n",
    "def get_embeddings(texts,prefix=\"passage: \"):\n",
    "    #The E5 models expects either 'query: ' or 'passage: ' prefix\n",
    "    if not isinstance(texts, list):\n",
    "        texts = [texts]\n",
    "    prefixed = [prefix+text for text in texts]\n",
    "    embeddings = model.encode(prefixed,show_progress_bar=True)\n",
    "    return embeddings"
   ]
  },
  {
   "cell_type": "code",
   "execution_count": null,
   "id": "ab3b1678-df09-49a8-b17c-c53ad1577962",
   "metadata": {
    "scrolled": true
   },
   "outputs": [],
   "source": [
    "test_e5 = get_embeddings([\"Hello world\"])\n",
    "print(test_e5.shape)\n",
    "test_e5"
   ]
  },
  {
   "cell_type": "markdown",
   "id": "c7356799-7071-4076-a8e7-d588aace78a6",
   "metadata": {},
   "source": [
    "### We use part of the CC_News dataset"
   ]
  },
  {
   "cell_type": "code",
   "execution_count": null,
   "id": "8a8fb43c-b271-4d33-814f-c1143f4eb485",
   "metadata": {},
   "outputs": [],
   "source": [
    "# Load 50000 examples of the the 'cc_news' dataset from Hugging Face\n",
    "dataset = load_dataset(\"cc_news\",split='train[:50000]')"
   ]
  },
  {
   "cell_type": "code",
   "execution_count": null,
   "id": "7baf845f-bc10-4de8-8776-0674b4c8b3ff",
   "metadata": {},
   "outputs": [],
   "source": [
    "dataset"
   ]
  },
  {
   "cell_type": "code",
   "execution_count": null,
   "id": "a076208a-28af-40cd-89b9-f00376e7b023",
   "metadata": {},
   "outputs": [],
   "source": [
    "dataset['title']"
   ]
  },
  {
   "cell_type": "code",
   "execution_count": null,
   "id": "6ef82fae-9ef6-454b-bd25-ddfee614e34d",
   "metadata": {},
   "outputs": [],
   "source": [
    "title_embeddings = get_embeddings(dataset['title'])"
   ]
  },
  {
   "cell_type": "code",
   "execution_count": null,
   "id": "4aa4dc29-9902-4912-b4cb-4c7f5cb46907",
   "metadata": {},
   "outputs": [],
   "source": [
    "import sys\n",
    "sys.getsizeof(title_embeddings)\n",
    "#50000 embeddings at 384 dims each is how much in RAM?"
   ]
  },
  {
   "cell_type": "code",
   "execution_count": null,
   "id": "07421f88-f18d-4753-848e-6b9c3aa1d2ad",
   "metadata": {},
   "outputs": [],
   "source": [
    "import pickle\n",
    "with open('cc_news_title_embeddings_50000.pkl', 'wb') as fd:\n",
    "    pickle.dump(title_embeddings, fd, pickle.HIGHEST_PROTOCOL)"
   ]
  },
  {
   "cell_type": "code",
   "execution_count": null,
   "id": "0ed63643-67e6-4453-ae9c-d56f089db047",
   "metadata": {},
   "outputs": [],
   "source": [
    "#NOTE that 50k embeddings of 384 dims each uses about 74MB pickled disk space\n",
    "!ls -lah cc_news_title_embeddings_50000.pkl"
   ]
  },
  {
   "cell_type": "markdown",
   "id": "29639222-d1f2-4465-a212-cd64f4205c41",
   "metadata": {},
   "source": [
    "### brute-force nearest neighbor calculation"
   ]
  },
  {
   "cell_type": "code",
   "execution_count": null,
   "id": "65fa9fb6-b1d6-45bb-9c15-0383d11f9015",
   "metadata": {},
   "outputs": [],
   "source": [
    "import numpy as np\n",
    "def knn(query,k=5):\n",
    "    query_embedding = get_embeddings(query,prefix=\"query: \")\n",
    "    cosine_scores = STutil.pytorch_cos_sim(query_embedding, title_embeddings)\n",
    "    sorted_indices = np.argsort(cosine_scores, axis=1)\n",
    "    top_k_indices = list(sorted_indices[0])[::-1][:k]\n",
    "    most_similar = [dataset['title'][i] for i in top_k_indices]\n",
    "    return most_similar"
   ]
  },
  {
   "cell_type": "code",
   "execution_count": null,
   "id": "b20e9194-de48-4f2a-9b8d-b9621cf4054a",
   "metadata": {},
   "outputs": [],
   "source": [
    "knn(\"housing market\")"
   ]
  },
  {
   "cell_type": "code",
   "execution_count": null,
   "id": "9d944a61-a028-49df-b2a6-79e4acfa7be7",
   "metadata": {},
   "outputs": [],
   "source": [
    "knn(\"property market\")"
   ]
  },
  {
   "cell_type": "code",
   "execution_count": null,
   "id": "3cb45dd4-15b5-4447-b0b9-8c83daad7af3",
   "metadata": {},
   "outputs": [],
   "source": [
    "knn(\"ballet dancing changes\")"
   ]
  },
  {
   "cell_type": "code",
   "execution_count": null,
   "id": "560b7532-7075-421d-b6bc-0e30d9a836f6",
   "metadata": {},
   "outputs": [],
   "source": [
    "knn(\"climate change\")"
   ]
  },
  {
   "cell_type": "code",
   "execution_count": null,
   "id": "819d1a30-37d1-4d3e-903b-fe981d9673eb",
   "metadata": {},
   "outputs": [],
   "source": [
    "knn(\"global warming in the united states\")"
   ]
  },
  {
   "cell_type": "code",
   "execution_count": null,
   "id": "b0b6ba21-df56-4821-ab26-f9db96e0639f",
   "metadata": {},
   "outputs": [],
   "source": [
    "knn(\"taylor swift\")"
   ]
  },
  {
   "cell_type": "code",
   "execution_count": null,
   "id": "f12cdda0-20c0-4f7c-8d5b-c6bc5373f2e7",
   "metadata": {},
   "outputs": [],
   "source": []
  }
 ],
 "metadata": {
  "kernelspec": {
   "display_name": "Python 3 (ipykernel)",
   "language": "python",
   "name": "python3"
  },
  "language_info": {
   "codemirror_mode": {
    "name": "ipython",
    "version": 3
   },
   "file_extension": ".py",
   "mimetype": "text/x-python",
   "name": "python",
   "nbconvert_exporter": "python",
   "pygments_lexer": "ipython3",
   "version": "3.11.5"
  }
 },
 "nbformat": 4,
 "nbformat_minor": 5
}
